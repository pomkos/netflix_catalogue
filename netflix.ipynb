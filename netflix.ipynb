{
 "cells": [
  {
   "cell_type": "markdown",
   "id": "cd7ccaea-e04a-4a9f-817c-8e53965782af",
   "metadata": {},
   "source": [
    "Netflix source:\n",
    "* https://www.kaggle.com/datasets/victorsoeiro/netflix-tv-shows-and-movies?datasetId=2178661&sortBy=voteCount\n",
    "\n",
    "Baby names sources: \n",
    "* https://www.kaggle.com/code/residentmario/regional-ethnic-baby-name-popularity-variations/data\n",
    "* https://dataverse.harvard.edu/dataset.xhtml?persistentId=doi:10.7910/DVN/TYJKEZ\n",
    "* https://www.kaggle.com/datasets/fivethirtyeight/fivethirtyeight-most-common-name-dataset"
   ]
  },
  {
   "cell_type": "code",
   "execution_count": 1,
   "id": "51cf95a8-faaf-47e2-9290-ec2e367dedaf",
   "metadata": {},
   "outputs": [],
   "source": [
    "import pandas as pd\n",
    "import numpy as np\n",
    "import matplotlib.pyplot as plt\n",
    "import seaborn as sns"
   ]
  },
  {
   "cell_type": "code",
   "execution_count": 2,
   "id": "be0b15b2-64d0-44ed-a0b8-a040026d2835",
   "metadata": {},
   "outputs": [],
   "source": [
    "data_loc = 'data'"
   ]
  },
  {
   "cell_type": "markdown",
   "id": "e0c38f56-e8bb-4075-97d2-ed100f31d702",
   "metadata": {
    "tags": []
   },
   "source": [
    "# EDA"
   ]
  },
  {
   "cell_type": "markdown",
   "id": "bba94b42-52c0-4384-9101-d08b527fb4a8",
   "metadata": {},
   "source": [
    "## Titles"
   ]
  },
  {
   "cell_type": "code",
   "execution_count": 3,
   "id": "62407ccb-1b78-41ed-93a3-7cd20fbac350",
   "metadata": {},
   "outputs": [],
   "source": [
    "credits = pd.read_csv(f\"{data_loc}/credits.csv\")\n",
    "titles = pd.read_csv(f\"{data_loc}/titles.csv\")\n",
    "titles_og = titles.copy()"
   ]
  },
  {
   "cell_type": "code",
   "execution_count": 4,
   "id": "0368f9fc-5337-49af-ac07-cf1417a2976f",
   "metadata": {},
   "outputs": [
    {
     "data": {
      "text/html": [
       "<div>\n",
       "<style scoped>\n",
       "    .dataframe tbody tr th:only-of-type {\n",
       "        vertical-align: middle;\n",
       "    }\n",
       "\n",
       "    .dataframe tbody tr th {\n",
       "        vertical-align: top;\n",
       "    }\n",
       "\n",
       "    .dataframe thead th {\n",
       "        text-align: right;\n",
       "    }\n",
       "</style>\n",
       "<table border=\"1\" class=\"dataframe\">\n",
       "  <thead>\n",
       "    <tr style=\"text-align: right;\">\n",
       "      <th></th>\n",
       "      <th>person_id</th>\n",
       "      <th>id</th>\n",
       "      <th>name</th>\n",
       "      <th>character</th>\n",
       "      <th>role</th>\n",
       "    </tr>\n",
       "  </thead>\n",
       "  <tbody>\n",
       "    <tr>\n",
       "      <th>0</th>\n",
       "      <td>3748</td>\n",
       "      <td>tm84618</td>\n",
       "      <td>Robert De Niro</td>\n",
       "      <td>Travis Bickle</td>\n",
       "      <td>ACTOR</td>\n",
       "    </tr>\n",
       "    <tr>\n",
       "      <th>1</th>\n",
       "      <td>14658</td>\n",
       "      <td>tm84618</td>\n",
       "      <td>Jodie Foster</td>\n",
       "      <td>Iris Steensma</td>\n",
       "      <td>ACTOR</td>\n",
       "    </tr>\n",
       "    <tr>\n",
       "      <th>2</th>\n",
       "      <td>7064</td>\n",
       "      <td>tm84618</td>\n",
       "      <td>Albert Brooks</td>\n",
       "      <td>Tom</td>\n",
       "      <td>ACTOR</td>\n",
       "    </tr>\n",
       "    <tr>\n",
       "      <th>3</th>\n",
       "      <td>3739</td>\n",
       "      <td>tm84618</td>\n",
       "      <td>Harvey Keitel</td>\n",
       "      <td>Matthew 'Sport' Higgins</td>\n",
       "      <td>ACTOR</td>\n",
       "    </tr>\n",
       "    <tr>\n",
       "      <th>4</th>\n",
       "      <td>48933</td>\n",
       "      <td>tm84618</td>\n",
       "      <td>Cybill Shepherd</td>\n",
       "      <td>Betsy</td>\n",
       "      <td>ACTOR</td>\n",
       "    </tr>\n",
       "  </tbody>\n",
       "</table>\n",
       "</div>"
      ],
      "text/plain": [
       "   person_id       id             name                character   role\n",
       "0       3748  tm84618   Robert De Niro            Travis Bickle  ACTOR\n",
       "1      14658  tm84618     Jodie Foster            Iris Steensma  ACTOR\n",
       "2       7064  tm84618    Albert Brooks                      Tom  ACTOR\n",
       "3       3739  tm84618    Harvey Keitel  Matthew 'Sport' Higgins  ACTOR\n",
       "4      48933  tm84618  Cybill Shepherd                    Betsy  ACTOR"
      ]
     },
     "execution_count": 4,
     "metadata": {},
     "output_type": "execute_result"
    }
   ],
   "source": [
    "credits.head()"
   ]
  },
  {
   "cell_type": "code",
   "execution_count": 5,
   "id": "62da657f-f31a-49f2-912c-923cee591d01",
   "metadata": {},
   "outputs": [
    {
     "data": {
      "text/html": [
       "<div>\n",
       "<style scoped>\n",
       "    .dataframe tbody tr th:only-of-type {\n",
       "        vertical-align: middle;\n",
       "    }\n",
       "\n",
       "    .dataframe tbody tr th {\n",
       "        vertical-align: top;\n",
       "    }\n",
       "\n",
       "    .dataframe thead th {\n",
       "        text-align: right;\n",
       "    }\n",
       "</style>\n",
       "<table border=\"1\" class=\"dataframe\">\n",
       "  <thead>\n",
       "    <tr style=\"text-align: right;\">\n",
       "      <th></th>\n",
       "      <th>id</th>\n",
       "      <th>title</th>\n",
       "      <th>type</th>\n",
       "      <th>description</th>\n",
       "      <th>release_year</th>\n",
       "      <th>age_certification</th>\n",
       "      <th>runtime</th>\n",
       "      <th>genres</th>\n",
       "      <th>production_countries</th>\n",
       "      <th>seasons</th>\n",
       "      <th>imdb_id</th>\n",
       "      <th>imdb_score</th>\n",
       "      <th>imdb_votes</th>\n",
       "      <th>tmdb_popularity</th>\n",
       "      <th>tmdb_score</th>\n",
       "    </tr>\n",
       "  </thead>\n",
       "  <tbody>\n",
       "    <tr>\n",
       "      <th>0</th>\n",
       "      <td>ts300399</td>\n",
       "      <td>Five Came Back: The Reference Films</td>\n",
       "      <td>SHOW</td>\n",
       "      <td>This collection includes 12 World War II-era p...</td>\n",
       "      <td>1945</td>\n",
       "      <td>TV-MA</td>\n",
       "      <td>48</td>\n",
       "      <td>['documentation']</td>\n",
       "      <td>['US']</td>\n",
       "      <td>1.0</td>\n",
       "      <td>NaN</td>\n",
       "      <td>NaN</td>\n",
       "      <td>NaN</td>\n",
       "      <td>0.6</td>\n",
       "      <td>NaN</td>\n",
       "    </tr>\n",
       "  </tbody>\n",
       "</table>\n",
       "</div>"
      ],
      "text/plain": [
       "         id                                title  type  \\\n",
       "0  ts300399  Five Came Back: The Reference Films  SHOW   \n",
       "\n",
       "                                         description  release_year  \\\n",
       "0  This collection includes 12 World War II-era p...          1945   \n",
       "\n",
       "  age_certification  runtime             genres production_countries  seasons  \\\n",
       "0             TV-MA       48  ['documentation']               ['US']      1.0   \n",
       "\n",
       "  imdb_id  imdb_score  imdb_votes  tmdb_popularity  tmdb_score  \n",
       "0     NaN         NaN         NaN              0.6         NaN  "
      ]
     },
     "execution_count": 5,
     "metadata": {},
     "output_type": "execute_result"
    }
   ],
   "source": [
    "titles.head(1)"
   ]
  },
  {
   "cell_type": "code",
   "execution_count": 6,
   "id": "4580dda7-328f-491c-b076-8c09c6f18440",
   "metadata": {},
   "outputs": [],
   "source": [
    "genres = titles[['id','genres']]"
   ]
  },
  {
   "cell_type": "code",
   "execution_count": 7,
   "id": "eee7d326-c806-4f6d-a1c1-0d5027b6d7d1",
   "metadata": {},
   "outputs": [
    {
     "data": {
      "text/plain": [
       "4131     2\n",
       "1805     2\n",
       "3129     2\n",
       "3152     2\n",
       "2998     2\n",
       "        ..\n",
       "423     86\n",
       "717     89\n",
       "371     93\n",
       "3636    94\n",
       "729     96\n",
       "Name: genres, Length: 5806, dtype: int64"
      ]
     },
     "execution_count": 7,
     "metadata": {},
     "output_type": "execute_result"
    }
   ],
   "source": [
    "genres['genres'].apply(len).sort_values()"
   ]
  },
  {
   "cell_type": "code",
   "execution_count": 8,
   "id": "c3d9d1e7-43a6-487b-a7e3-7bf58cfa68f1",
   "metadata": {},
   "outputs": [
    {
     "data": {
      "text/plain": [
       "id                                                  ts20429\n",
       "genres    ['scifi', 'action', 'animation', 'drama', 'wes...\n",
       "Name: 729, dtype: object"
      ]
     },
     "execution_count": 8,
     "metadata": {},
     "output_type": "execute_result"
    }
   ],
   "source": [
    "genres.iloc[729,:]"
   ]
  },
  {
   "cell_type": "code",
   "execution_count": 9,
   "id": "1714dc35-49d4-44ee-8207-77282f8a0032",
   "metadata": {},
   "outputs": [],
   "source": [
    "def keep_only_abc(my_series):\n",
    "    return my_series.str.replace('[^a-zA-Z]','')"
   ]
  },
  {
   "cell_type": "code",
   "execution_count": 10,
   "id": "04a54b8c-7d5d-48cf-bdca-a4b2ab322009",
   "metadata": {},
   "outputs": [],
   "source": [
    "def string_lists_to_lists(my_series):\n",
    "    return my_series.str.replace('[^a-zA-Z0-9,]', '').str.split(',')"
   ]
  },
  {
   "cell_type": "code",
   "execution_count": 11,
   "id": "d75c9b0c-f14f-4081-bead-9a011f8b4dfd",
   "metadata": {},
   "outputs": [],
   "source": [
    "def series_lists_to_dummies(my_series, index):\n",
    "    mlb = MultiLabelBinarizer()\n",
    "    new_df = pd.DataFrame(mlb.fit_transform(my_series),columns=mlb.classes_, index=index).reset_index()\n",
    "    if '' in new_df.columns:\n",
    "        new_df = new_df.drop('', axis=1)\n",
    "    return new_df"
   ]
  },
  {
   "cell_type": "code",
   "execution_count": 12,
   "id": "212ebe1d-3776-4f4b-b26d-d036a71f2541",
   "metadata": {},
   "outputs": [
    {
     "name": "stderr",
     "output_type": "stream",
     "text": [
      "/var/folders/t9/ndly692n087cn_dhqldxy8s80000gn/T/ipykernel_6781/1394002080.py:2: FutureWarning: The default value of regex will change from True to False in a future version.\n",
      "  return my_series.str.replace('[^a-zA-Z0-9,]', '').str.split(',')\n"
     ]
    }
   ],
   "source": [
    "import pandas as pd\n",
    "from sklearn.preprocessing import MultiLabelBinarizer\n",
    "\n",
    "genres_dummies = series_lists_to_dummies(string_lists_to_lists(genres['genres']), genres.id)\n",
    "countries_dummies = series_lists_to_dummies(string_lists_to_lists(titles['production_countries']), titles.id)"
   ]
  },
  {
   "cell_type": "code",
   "execution_count": 13,
   "id": "935bf5e8-bc72-43fb-aa12-2615e0c9f2c6",
   "metadata": {},
   "outputs": [],
   "source": [
    "titles_dummies = titles.merge(genres_dummies)\n",
    "titles_dummies = titles_dummies.merge(countries_dummies)"
   ]
  },
  {
   "cell_type": "code",
   "execution_count": 14,
   "id": "be8bbfba-43f3-45aa-b095-4d86cdaa22b4",
   "metadata": {},
   "outputs": [],
   "source": [
    "titles_melt = titles.melt(id_vars=titles_og.columns)"
   ]
  },
  {
   "cell_type": "markdown",
   "id": "b5207b3c-7f74-44cd-b914-2b0e47b2916e",
   "metadata": {},
   "source": [
    "## Cleaning"
   ]
  },
  {
   "cell_type": "markdown",
   "id": "27c7f528-e2bd-4ee1-b858-1b038011f17c",
   "metadata": {},
   "source": [
    "### Dataset: NYC"
   ]
  },
  {
   "cell_type": "code",
   "execution_count": 15,
   "id": "dbeb1ca0-4c00-447a-a862-95658e8af79d",
   "metadata": {},
   "outputs": [
    {
     "data": {
      "text/html": [
       "<div>\n",
       "<style scoped>\n",
       "    .dataframe tbody tr th:only-of-type {\n",
       "        vertical-align: middle;\n",
       "    }\n",
       "\n",
       "    .dataframe tbody tr th {\n",
       "        vertical-align: top;\n",
       "    }\n",
       "\n",
       "    .dataframe thead th {\n",
       "        text-align: right;\n",
       "    }\n",
       "</style>\n",
       "<table border=\"1\" class=\"dataframe\">\n",
       "  <thead>\n",
       "    <tr style=\"text-align: right;\">\n",
       "      <th></th>\n",
       "      <th>yob</th>\n",
       "      <th>gender</th>\n",
       "      <th>ethnicity</th>\n",
       "      <th>first_name</th>\n",
       "      <th>count</th>\n",
       "      <th>rank</th>\n",
       "    </tr>\n",
       "  </thead>\n",
       "  <tbody>\n",
       "    <tr>\n",
       "      <th>0</th>\n",
       "      <td>2011</td>\n",
       "      <td>FEMALE</td>\n",
       "      <td>HISPANIC</td>\n",
       "      <td>GERALDINE</td>\n",
       "      <td>13</td>\n",
       "      <td>75</td>\n",
       "    </tr>\n",
       "    <tr>\n",
       "      <th>1</th>\n",
       "      <td>2011</td>\n",
       "      <td>FEMALE</td>\n",
       "      <td>HISPANIC</td>\n",
       "      <td>GIA</td>\n",
       "      <td>21</td>\n",
       "      <td>67</td>\n",
       "    </tr>\n",
       "    <tr>\n",
       "      <th>2</th>\n",
       "      <td>2011</td>\n",
       "      <td>FEMALE</td>\n",
       "      <td>HISPANIC</td>\n",
       "      <td>GIANNA</td>\n",
       "      <td>49</td>\n",
       "      <td>42</td>\n",
       "    </tr>\n",
       "  </tbody>\n",
       "</table>\n",
       "</div>"
      ],
      "text/plain": [
       "    yob  gender ethnicity first_name  count  rank\n",
       "0  2011  FEMALE  HISPANIC  GERALDINE     13    75\n",
       "1  2011  FEMALE  HISPANIC        GIA     21    67\n",
       "2  2011  FEMALE  HISPANIC     GIANNA     49    42"
      ]
     },
     "execution_count": 15,
     "metadata": {},
     "output_type": "execute_result"
    }
   ],
   "source": [
    "baby = pd.read_csv(f\"{data_loc}/baby_names_nyc.csv\")\n",
    "baby.columns = ['yob', 'gender', 'ethnicity', 'first_name', 'count', 'rank']\n",
    "baby.head(3)"
   ]
  },
  {
   "cell_type": "code",
   "execution_count": null,
   "id": "f05230b6-472a-4012-9734-d2c37a7ece8f",
   "metadata": {},
   "outputs": [],
   "source": []
  },
  {
   "cell_type": "code",
   "execution_count": 16,
   "id": "c888101a-3e4b-43a3-aa11-e750baaee492",
   "metadata": {},
   "outputs": [
    {
     "name": "stderr",
     "output_type": "stream",
     "text": [
      "/var/folders/t9/ndly692n087cn_dhqldxy8s80000gn/T/ipykernel_6781/1100466884.py:2: FutureWarning: The default value of regex will change from True to False in a future version.\n",
      "  return my_series.str.replace('[^a-zA-Z]','')\n"
     ]
    },
    {
     "data": {
      "text/html": [
       "<div>\n",
       "<style scoped>\n",
       "    .dataframe tbody tr th:only-of-type {\n",
       "        vertical-align: middle;\n",
       "    }\n",
       "\n",
       "    .dataframe tbody tr th {\n",
       "        vertical-align: top;\n",
       "    }\n",
       "\n",
       "    .dataframe thead th {\n",
       "        text-align: right;\n",
       "    }\n",
       "</style>\n",
       "<table border=\"1\" class=\"dataframe\">\n",
       "  <thead>\n",
       "    <tr style=\"text-align: right;\">\n",
       "      <th></th>\n",
       "      <th>yob</th>\n",
       "      <th>gender</th>\n",
       "      <th>ethnicity</th>\n",
       "      <th>first_name</th>\n",
       "      <th>count</th>\n",
       "      <th>rank</th>\n",
       "    </tr>\n",
       "  </thead>\n",
       "  <tbody>\n",
       "    <tr>\n",
       "      <th>0</th>\n",
       "      <td>2011</td>\n",
       "      <td>FEMALE</td>\n",
       "      <td>HISPANIC</td>\n",
       "      <td>geraldine</td>\n",
       "      <td>13</td>\n",
       "      <td>75</td>\n",
       "    </tr>\n",
       "    <tr>\n",
       "      <th>1</th>\n",
       "      <td>2011</td>\n",
       "      <td>FEMALE</td>\n",
       "      <td>HISPANIC</td>\n",
       "      <td>gia</td>\n",
       "      <td>21</td>\n",
       "      <td>67</td>\n",
       "    </tr>\n",
       "  </tbody>\n",
       "</table>\n",
       "</div>"
      ],
      "text/plain": [
       "    yob  gender ethnicity first_name  count  rank\n",
       "0  2011  FEMALE  HISPANIC  geraldine     13    75\n",
       "1  2011  FEMALE  HISPANIC        gia     21    67"
      ]
     },
     "execution_count": 16,
     "metadata": {},
     "output_type": "execute_result"
    }
   ],
   "source": [
    "baby['first_name'] = baby['first_name'].str.lower()\n",
    "baby['first_name'] = keep_only_abc(baby['first_name'])\n",
    "baby.head(2)"
   ]
  },
  {
   "cell_type": "code",
   "execution_count": 17,
   "id": "262a7e65-ad3e-4adb-844c-552860e53695",
   "metadata": {},
   "outputs": [
    {
     "name": "stderr",
     "output_type": "stream",
     "text": [
      "/var/folders/t9/ndly692n087cn_dhqldxy8s80000gn/T/ipykernel_6781/1100466884.py:2: FutureWarning: The default value of regex will change from True to False in a future version.\n",
      "  return my_series.str.replace('[^a-zA-Z]','')\n"
     ]
    },
    {
     "data": {
      "text/html": [
       "<div>\n",
       "<style scoped>\n",
       "    .dataframe tbody tr th:only-of-type {\n",
       "        vertical-align: middle;\n",
       "    }\n",
       "\n",
       "    .dataframe tbody tr th {\n",
       "        vertical-align: top;\n",
       "    }\n",
       "\n",
       "    .dataframe thead th {\n",
       "        text-align: right;\n",
       "    }\n",
       "</style>\n",
       "<table border=\"1\" class=\"dataframe\">\n",
       "  <thead>\n",
       "    <tr style=\"text-align: right;\">\n",
       "      <th></th>\n",
       "      <th>person_id</th>\n",
       "      <th>id</th>\n",
       "      <th>name</th>\n",
       "      <th>character</th>\n",
       "      <th>role</th>\n",
       "      <th>first_name</th>\n",
       "    </tr>\n",
       "  </thead>\n",
       "  <tbody>\n",
       "    <tr>\n",
       "      <th>0</th>\n",
       "      <td>3748</td>\n",
       "      <td>tm84618</td>\n",
       "      <td>Robert De Niro</td>\n",
       "      <td>Travis Bickle</td>\n",
       "      <td>ACTOR</td>\n",
       "      <td>robert</td>\n",
       "    </tr>\n",
       "    <tr>\n",
       "      <th>1</th>\n",
       "      <td>14658</td>\n",
       "      <td>tm84618</td>\n",
       "      <td>Jodie Foster</td>\n",
       "      <td>Iris Steensma</td>\n",
       "      <td>ACTOR</td>\n",
       "      <td>jodie</td>\n",
       "    </tr>\n",
       "  </tbody>\n",
       "</table>\n",
       "</div>"
      ],
      "text/plain": [
       "   person_id       id            name      character   role first_name\n",
       "0       3748  tm84618  Robert De Niro  Travis Bickle  ACTOR     robert\n",
       "1      14658  tm84618    Jodie Foster  Iris Steensma  ACTOR      jodie"
      ]
     },
     "execution_count": 17,
     "metadata": {},
     "output_type": "execute_result"
    }
   ],
   "source": [
    "credits['first_name'] = credits['name'].str.split(' ', expand=True)[0].str.lower()\n",
    "credits['first_name'] = keep_only_abc(credits['first_name'])\n",
    "credits.head(2)"
   ]
  },
  {
   "cell_type": "code",
   "execution_count": 18,
   "id": "03957d55-3f9d-40c7-93f9-7b79e0c6a480",
   "metadata": {},
   "outputs": [],
   "source": [
    "baby_nodup = baby.sort_values(['first_name', 'rank']).drop_duplicates(subset='first_name')"
   ]
  },
  {
   "cell_type": "code",
   "execution_count": 19,
   "id": "89e0b15f-6f55-4922-adbf-c6348d53bde8",
   "metadata": {},
   "outputs": [],
   "source": [
    "credits = credits.merge(baby_nodup, how='left', on='first_name')"
   ]
  },
  {
   "cell_type": "code",
   "execution_count": 20,
   "id": "11fc7cb6-cd83-494d-aff4-608ebc5b06f2",
   "metadata": {},
   "outputs": [],
   "source": [
    "def rename_ethnicities(value: str) -> str:\n",
    "    if type(value) != str:\n",
    "        return value\n",
    "    value = value.strip()\n",
    "    if value == 'WHITE NON HISP':\n",
    "        return 'WHITE NON HISPANIC'\n",
    "    elif value == 'ASIAN AND PACI':\n",
    "        return 'ASIAN AND PACIFIC ISLANDER'\n",
    "    elif value == 'BLACK NON HISP':\n",
    "        return 'BLACK NON HISPANIC'\n",
    "    else:\n",
    "        return value"
   ]
  },
  {
   "cell_type": "code",
   "execution_count": 21,
   "id": "a77dfb5b-e986-4013-82b5-7b194d14a28f",
   "metadata": {},
   "outputs": [],
   "source": [
    "# There were some weird ethinicity values that were cut off for some reason\n",
    "credits['ethnicity'] = credits['ethnicity'].apply(rename_ethnicities)"
   ]
  },
  {
   "cell_type": "code",
   "execution_count": 22,
   "id": "0db4dfb9-8d1a-4910-bc30-d768374028f4",
   "metadata": {},
   "outputs": [
    {
     "data": {
      "text/plain": [
       "ASIAN AND PACIFIC ISLANDER    10636\n",
       "WHITE NON HISPANIC             9761\n",
       "HISPANIC                       7151\n",
       "BLACK NON HISPANIC             4000\n",
       "Name: ethnicity, dtype: int64"
      ]
     },
     "execution_count": 22,
     "metadata": {},
     "output_type": "execute_result"
    }
   ],
   "source": [
    "credits['ethnicity'].value_counts()"
   ]
  },
  {
   "cell_type": "code",
   "execution_count": 23,
   "id": "8b00a2bc-727d-42f1-a944-1aa7edcbc52e",
   "metadata": {},
   "outputs": [
    {
     "name": "stdout",
     "output_type": "stream",
     "text": [
      "<class 'pandas.core.frame.DataFrame'>\n",
      "Int64Index: 15263 entries, 0 to 77211\n",
      "Data columns (total 11 columns):\n",
      " #   Column      Non-Null Count  Dtype  \n",
      "---  ------      --------------  -----  \n",
      " 0   person_id   15263 non-null  int64  \n",
      " 1   id          15263 non-null  object \n",
      " 2   name        15263 non-null  object \n",
      " 3   character   13278 non-null  object \n",
      " 4   role        15263 non-null  object \n",
      " 5   first_name  15263 non-null  object \n",
      " 6   yob         1220 non-null   float64\n",
      " 7   gender      1220 non-null   object \n",
      " 8   ethnicity   1220 non-null   object \n",
      " 9   count       1220 non-null   float64\n",
      " 10  rank        1220 non-null   float64\n",
      "dtypes: float64(3), int64(1), object(7)\n",
      "memory usage: 1.4+ MB\n"
     ]
    }
   ],
   "source": [
    "credits.drop_duplicates(subset='first_name').info()"
   ]
  },
  {
   "cell_type": "markdown",
   "id": "afb03e5b-2824-46a9-a7d3-abac757d7ebe",
   "metadata": {},
   "source": [
    "We got ethnicities for just 1220 names"
   ]
  },
  {
   "cell_type": "code",
   "execution_count": null,
   "id": "bebdaec3-951d-4f47-a303-1fa4f369f2e2",
   "metadata": {},
   "outputs": [],
   "source": []
  },
  {
   "cell_type": "markdown",
   "id": "e1baf627-56f3-4e06-a2f6-b7814403fb21",
   "metadata": {},
   "source": [
    "### Dataset: Harvard Names"
   ]
  },
  {
   "cell_type": "code",
   "execution_count": 24,
   "id": "d4aa2afb-4005-4f86-8372-044acd1988ea",
   "metadata": {},
   "outputs": [
    {
     "data": {
      "text/html": [
       "<div>\n",
       "<style scoped>\n",
       "    .dataframe tbody tr th:only-of-type {\n",
       "        vertical-align: middle;\n",
       "    }\n",
       "\n",
       "    .dataframe tbody tr th {\n",
       "        vertical-align: top;\n",
       "    }\n",
       "\n",
       "    .dataframe thead th {\n",
       "        text-align: right;\n",
       "    }\n",
       "</style>\n",
       "<table border=\"1\" class=\"dataframe\">\n",
       "  <thead>\n",
       "    <tr style=\"text-align: right;\">\n",
       "      <th></th>\n",
       "      <th>firstname</th>\n",
       "      <th>obs</th>\n",
       "      <th>pcthispanic</th>\n",
       "      <th>pctwhite</th>\n",
       "      <th>pctblack</th>\n",
       "      <th>pctapi</th>\n",
       "      <th>pctaian</th>\n",
       "      <th>pct2prace</th>\n",
       "    </tr>\n",
       "  </thead>\n",
       "  <tbody>\n",
       "    <tr>\n",
       "      <th>0</th>\n",
       "      <td>AARON</td>\n",
       "      <td>3646</td>\n",
       "      <td>2.88</td>\n",
       "      <td>91.607</td>\n",
       "      <td>3.264</td>\n",
       "      <td>2.057</td>\n",
       "      <td>0.055</td>\n",
       "      <td>0.137</td>\n",
       "    </tr>\n",
       "    <tr>\n",
       "      <th>1</th>\n",
       "      <td>ABBAS</td>\n",
       "      <td>59</td>\n",
       "      <td>0.00</td>\n",
       "      <td>71.186</td>\n",
       "      <td>3.390</td>\n",
       "      <td>25.424</td>\n",
       "      <td>0.000</td>\n",
       "      <td>0.000</td>\n",
       "    </tr>\n",
       "    <tr>\n",
       "      <th>2</th>\n",
       "      <td>ABBEY</td>\n",
       "      <td>57</td>\n",
       "      <td>0.00</td>\n",
       "      <td>96.491</td>\n",
       "      <td>3.509</td>\n",
       "      <td>0.000</td>\n",
       "      <td>0.000</td>\n",
       "      <td>0.000</td>\n",
       "    </tr>\n",
       "  </tbody>\n",
       "</table>\n",
       "</div>"
      ],
      "text/plain": [
       "  firstname   obs  pcthispanic  pctwhite  pctblack  pctapi  pctaian  pct2prace\n",
       "0     AARON  3646         2.88    91.607     3.264   2.057    0.055      0.137\n",
       "1     ABBAS    59         0.00    71.186     3.390  25.424    0.000      0.000\n",
       "2     ABBEY    57         0.00    96.491     3.509   0.000    0.000      0.000"
      ]
     },
     "execution_count": 24,
     "metadata": {},
     "output_type": "execute_result"
    }
   ],
   "source": [
    "baby2 = pd.read_excel(f\"{data_loc}/firstnames_harvard.xlsx\",sheet_name=1)\n",
    "baby2.head(3)"
   ]
  },
  {
   "cell_type": "code",
   "execution_count": 25,
   "id": "9225778c-a7c7-41b9-b69d-99e54689286b",
   "metadata": {},
   "outputs": [
    {
     "data": {
      "text/plain": [
       "Index(['firstname', 'obs', 'pcthispanic', 'pctwhite', 'pctblack', 'pctapi',\n",
       "       'pctaian', 'pct2prace'],\n",
       "      dtype='object')"
      ]
     },
     "execution_count": 25,
     "metadata": {},
     "output_type": "execute_result"
    }
   ],
   "source": [
    "baby2.columns"
   ]
  },
  {
   "cell_type": "code",
   "execution_count": 26,
   "id": "4578c2ad-5c3b-4c8f-ae79-b980af77c828",
   "metadata": {},
   "outputs": [],
   "source": [
    "ethnicity_dict = {\n",
    "    'pcthispanic':'HISPANIC',\n",
    "    'pctwhite':'WHITE NON HISPANIC',\n",
    "    'pctblack':'BLACK NON HISPANIC',\n",
    "    'pctapi':'ASIAN AND PACIFIC ISLANDER',\n",
    "    'pctaian':'ASIAN AND PACIFIC ISLANDER',\n",
    "    'pct2prace':'MULTI ETHNIC'\n",
    "}"
   ]
  },
  {
   "cell_type": "code",
   "execution_count": 27,
   "id": "bbb62f1b-0d34-4a3d-880e-8091705c6807",
   "metadata": {},
   "outputs": [],
   "source": [
    "baby2['ethnicity'] = baby2[['pcthispanic', 'pctwhite', 'pctblack', \n",
    "       'pctapi', 'pctaian',\n",
    "       'pct2prace']].idxmax(axis=1)"
   ]
  },
  {
   "cell_type": "code",
   "execution_count": 28,
   "id": "1c7429bf-ecb8-4487-b993-f9408d2e72f7",
   "metadata": {},
   "outputs": [],
   "source": [
    "baby2['ethnicity'] = baby2['ethnicity'].map(ethnicity_dict)"
   ]
  },
  {
   "cell_type": "code",
   "execution_count": 29,
   "id": "bf37cae3-9aa1-4e70-b970-806b20d6f51a",
   "metadata": {},
   "outputs": [
    {
     "data": {
      "text/plain": [
       "array(['WHITE NON HISPANIC', 'ASIAN AND PACIFIC ISLANDER', 'HISPANIC',\n",
       "       'BLACK NON HISPANIC'], dtype=object)"
      ]
     },
     "execution_count": 29,
     "metadata": {},
     "output_type": "execute_result"
    }
   ],
   "source": [
    "baby2['ethnicity'].unique()"
   ]
  },
  {
   "cell_type": "markdown",
   "id": "faab4d97-2b2d-4d29-9b55-e402f459c95d",
   "metadata": {},
   "source": [
    "Mapping was successful, no NaNs"
   ]
  },
  {
   "cell_type": "code",
   "execution_count": 30,
   "id": "56964dc0-3bab-42d6-a8c2-faff0f880b1b",
   "metadata": {},
   "outputs": [
    {
     "data": {
      "text/plain": [
       "0                       AARON\n",
       "1                       ABBAS\n",
       "2                       ABBEY\n",
       "3                       ABBIE\n",
       "4                        ABBY\n",
       "                ...          \n",
       "4246                    ZOFIA\n",
       "4247                    ZOILA\n",
       "4248                   ZOLTAN\n",
       "4249                    ZORAN\n",
       "4250    ALL OTHER FIRST NAMES\n",
       "Name: firstname, Length: 4251, dtype: object"
      ]
     },
     "execution_count": 30,
     "metadata": {},
     "output_type": "execute_result"
    }
   ],
   "source": [
    "baby2['firstname'].drop_duplicates()"
   ]
  },
  {
   "cell_type": "code",
   "execution_count": 31,
   "id": "344f9cbc-3c71-4608-8cc5-ef25dc1f810b",
   "metadata": {},
   "outputs": [
    {
     "data": {
      "text/plain": [
       "4251"
      ]
     },
     "execution_count": 31,
     "metadata": {},
     "output_type": "execute_result"
    }
   ],
   "source": [
    "len(baby2)"
   ]
  },
  {
   "cell_type": "markdown",
   "id": "3f41c033-5ce1-425e-94b9-cc4c1f28a79c",
   "metadata": {},
   "source": [
    "No duplicates confirmed"
   ]
  },
  {
   "cell_type": "code",
   "execution_count": 32,
   "id": "e803b8c6-d1c6-4b8a-9e0a-82388cdfd6be",
   "metadata": {},
   "outputs": [
    {
     "name": "stderr",
     "output_type": "stream",
     "text": [
      "/var/folders/t9/ndly692n087cn_dhqldxy8s80000gn/T/ipykernel_6781/1100466884.py:2: FutureWarning: The default value of regex will change from True to False in a future version.\n",
      "  return my_series.str.replace('[^a-zA-Z]','')\n"
     ]
    }
   ],
   "source": [
    "baby2['first_name'] = keep_only_abc(baby2['firstname'].str.lower())"
   ]
  },
  {
   "cell_type": "code",
   "execution_count": 33,
   "id": "df1c6b66-f2a2-4b4a-b071-d70747f6907c",
   "metadata": {},
   "outputs": [
    {
     "name": "stdout",
     "output_type": "stream",
     "text": [
      "<class 'pandas.core.frame.DataFrame'>\n",
      "Int64Index: 19382 entries, 0 to 19381\n",
      "Data columns (total 15 columns):\n",
      " #   Column       Non-Null Count  Dtype  \n",
      "---  ------       --------------  -----  \n",
      " 0   yob          16059 non-null  float64\n",
      " 1   gender       16059 non-null  object \n",
      " 2   ethnicity_x  16059 non-null  object \n",
      " 3   first_name   19382 non-null  object \n",
      " 4   count        16059 non-null  float64\n",
      " 5   rank         16059 non-null  float64\n",
      " 6   firstname    19382 non-null  object \n",
      " 7   obs          19382 non-null  int64  \n",
      " 8   pcthispanic  19382 non-null  float64\n",
      " 9   pctwhite     19382 non-null  float64\n",
      " 10  pctblack     19382 non-null  float64\n",
      " 11  pctapi       19382 non-null  float64\n",
      " 12  pctaian      19382 non-null  float64\n",
      " 13  pct2prace    19382 non-null  float64\n",
      " 14  ethnicity_y  19382 non-null  object \n",
      "dtypes: float64(9), int64(1), object(5)\n",
      "memory usage: 2.4+ MB\n"
     ]
    }
   ],
   "source": [
    "baby.merge(baby2, on='first_name',how='right').info()"
   ]
  },
  {
   "cell_type": "code",
   "execution_count": 34,
   "id": "32f77679-3199-4183-9d0d-e7580d5f3519",
   "metadata": {},
   "outputs": [
    {
     "data": {
      "text/html": [
       "<div>\n",
       "<style scoped>\n",
       "    .dataframe tbody tr th:only-of-type {\n",
       "        vertical-align: middle;\n",
       "    }\n",
       "\n",
       "    .dataframe tbody tr th {\n",
       "        vertical-align: top;\n",
       "    }\n",
       "\n",
       "    .dataframe thead th {\n",
       "        text-align: right;\n",
       "    }\n",
       "</style>\n",
       "<table border=\"1\" class=\"dataframe\">\n",
       "  <thead>\n",
       "    <tr style=\"text-align: right;\">\n",
       "      <th></th>\n",
       "      <th>firstname</th>\n",
       "      <th>obs</th>\n",
       "      <th>pcthispanic</th>\n",
       "      <th>pctwhite</th>\n",
       "      <th>pctblack</th>\n",
       "      <th>pctapi</th>\n",
       "      <th>pctaian</th>\n",
       "      <th>pct2prace</th>\n",
       "      <th>ethnicity</th>\n",
       "      <th>first_name</th>\n",
       "    </tr>\n",
       "  </thead>\n",
       "  <tbody>\n",
       "    <tr>\n",
       "      <th>0</th>\n",
       "      <td>AARON</td>\n",
       "      <td>3646</td>\n",
       "      <td>2.880</td>\n",
       "      <td>91.607</td>\n",
       "      <td>3.264</td>\n",
       "      <td>2.057</td>\n",
       "      <td>0.055</td>\n",
       "      <td>0.137</td>\n",
       "      <td>WHITE NON HISPANIC</td>\n",
       "      <td>aaron</td>\n",
       "    </tr>\n",
       "    <tr>\n",
       "      <th>1</th>\n",
       "      <td>ABBAS</td>\n",
       "      <td>59</td>\n",
       "      <td>0.000</td>\n",
       "      <td>71.186</td>\n",
       "      <td>3.390</td>\n",
       "      <td>25.424</td>\n",
       "      <td>0.000</td>\n",
       "      <td>0.000</td>\n",
       "      <td>WHITE NON HISPANIC</td>\n",
       "      <td>abbas</td>\n",
       "    </tr>\n",
       "    <tr>\n",
       "      <th>2</th>\n",
       "      <td>ABBEY</td>\n",
       "      <td>57</td>\n",
       "      <td>0.000</td>\n",
       "      <td>96.491</td>\n",
       "      <td>3.509</td>\n",
       "      <td>0.000</td>\n",
       "      <td>0.000</td>\n",
       "      <td>0.000</td>\n",
       "      <td>WHITE NON HISPANIC</td>\n",
       "      <td>abbey</td>\n",
       "    </tr>\n",
       "    <tr>\n",
       "      <th>3</th>\n",
       "      <td>ABBIE</td>\n",
       "      <td>74</td>\n",
       "      <td>1.351</td>\n",
       "      <td>95.946</td>\n",
       "      <td>2.703</td>\n",
       "      <td>0.000</td>\n",
       "      <td>0.000</td>\n",
       "      <td>0.000</td>\n",
       "      <td>WHITE NON HISPANIC</td>\n",
       "      <td>abbie</td>\n",
       "    </tr>\n",
       "    <tr>\n",
       "      <th>4</th>\n",
       "      <td>ABBY</td>\n",
       "      <td>262</td>\n",
       "      <td>1.527</td>\n",
       "      <td>94.656</td>\n",
       "      <td>1.527</td>\n",
       "      <td>2.290</td>\n",
       "      <td>0.000</td>\n",
       "      <td>0.000</td>\n",
       "      <td>WHITE NON HISPANIC</td>\n",
       "      <td>abby</td>\n",
       "    </tr>\n",
       "    <tr>\n",
       "      <th>...</th>\n",
       "      <td>...</td>\n",
       "      <td>...</td>\n",
       "      <td>...</td>\n",
       "      <td>...</td>\n",
       "      <td>...</td>\n",
       "      <td>...</td>\n",
       "      <td>...</td>\n",
       "      <td>...</td>\n",
       "      <td>...</td>\n",
       "      <td>...</td>\n",
       "    </tr>\n",
       "    <tr>\n",
       "      <th>4246</th>\n",
       "      <td>ZOFIA</td>\n",
       "      <td>55</td>\n",
       "      <td>0.000</td>\n",
       "      <td>100.000</td>\n",
       "      <td>0.000</td>\n",
       "      <td>0.000</td>\n",
       "      <td>0.000</td>\n",
       "      <td>0.000</td>\n",
       "      <td>WHITE NON HISPANIC</td>\n",
       "      <td>zofia</td>\n",
       "    </tr>\n",
       "    <tr>\n",
       "      <th>4247</th>\n",
       "      <td>ZOILA</td>\n",
       "      <td>66</td>\n",
       "      <td>86.364</td>\n",
       "      <td>12.121</td>\n",
       "      <td>1.515</td>\n",
       "      <td>0.000</td>\n",
       "      <td>0.000</td>\n",
       "      <td>0.000</td>\n",
       "      <td>HISPANIC</td>\n",
       "      <td>zoila</td>\n",
       "    </tr>\n",
       "    <tr>\n",
       "      <th>4248</th>\n",
       "      <td>ZOLTAN</td>\n",
       "      <td>47</td>\n",
       "      <td>6.383</td>\n",
       "      <td>87.234</td>\n",
       "      <td>4.255</td>\n",
       "      <td>2.128</td>\n",
       "      <td>0.000</td>\n",
       "      <td>0.000</td>\n",
       "      <td>WHITE NON HISPANIC</td>\n",
       "      <td>zoltan</td>\n",
       "    </tr>\n",
       "    <tr>\n",
       "      <th>4249</th>\n",
       "      <td>ZORAN</td>\n",
       "      <td>52</td>\n",
       "      <td>0.000</td>\n",
       "      <td>100.000</td>\n",
       "      <td>0.000</td>\n",
       "      <td>0.000</td>\n",
       "      <td>0.000</td>\n",
       "      <td>0.000</td>\n",
       "      <td>WHITE NON HISPANIC</td>\n",
       "      <td>zoran</td>\n",
       "    </tr>\n",
       "    <tr>\n",
       "      <th>4250</th>\n",
       "      <td>ALL OTHER FIRST NAMES</td>\n",
       "      <td>214124</td>\n",
       "      <td>8.226</td>\n",
       "      <td>51.422</td>\n",
       "      <td>11.541</td>\n",
       "      <td>28.117</td>\n",
       "      <td>0.396</td>\n",
       "      <td>0.298</td>\n",
       "      <td>WHITE NON HISPANIC</td>\n",
       "      <td>allotherfirstnames</td>\n",
       "    </tr>\n",
       "  </tbody>\n",
       "</table>\n",
       "<p>4251 rows × 10 columns</p>\n",
       "</div>"
      ],
      "text/plain": [
       "                  firstname     obs  pcthispanic  pctwhite  pctblack  pctapi  \\\n",
       "0                     AARON    3646        2.880    91.607     3.264   2.057   \n",
       "1                     ABBAS      59        0.000    71.186     3.390  25.424   \n",
       "2                     ABBEY      57        0.000    96.491     3.509   0.000   \n",
       "3                     ABBIE      74        1.351    95.946     2.703   0.000   \n",
       "4                      ABBY     262        1.527    94.656     1.527   2.290   \n",
       "...                     ...     ...          ...       ...       ...     ...   \n",
       "4246                  ZOFIA      55        0.000   100.000     0.000   0.000   \n",
       "4247                  ZOILA      66       86.364    12.121     1.515   0.000   \n",
       "4248                 ZOLTAN      47        6.383    87.234     4.255   2.128   \n",
       "4249                  ZORAN      52        0.000   100.000     0.000   0.000   \n",
       "4250  ALL OTHER FIRST NAMES  214124        8.226    51.422    11.541  28.117   \n",
       "\n",
       "      pctaian  pct2prace           ethnicity          first_name  \n",
       "0       0.055      0.137  WHITE NON HISPANIC               aaron  \n",
       "1       0.000      0.000  WHITE NON HISPANIC               abbas  \n",
       "2       0.000      0.000  WHITE NON HISPANIC               abbey  \n",
       "3       0.000      0.000  WHITE NON HISPANIC               abbie  \n",
       "4       0.000      0.000  WHITE NON HISPANIC                abby  \n",
       "...       ...        ...                 ...                 ...  \n",
       "4246    0.000      0.000  WHITE NON HISPANIC               zofia  \n",
       "4247    0.000      0.000            HISPANIC               zoila  \n",
       "4248    0.000      0.000  WHITE NON HISPANIC              zoltan  \n",
       "4249    0.000      0.000  WHITE NON HISPANIC               zoran  \n",
       "4250    0.396      0.298  WHITE NON HISPANIC  allotherfirstnames  \n",
       "\n",
       "[4251 rows x 10 columns]"
      ]
     },
     "execution_count": 34,
     "metadata": {},
     "output_type": "execute_result"
    }
   ],
   "source": [
    "baby2"
   ]
  },
  {
   "cell_type": "markdown",
   "id": "a6b211b5-df9e-418c-8a4e-b486006d8ebd",
   "metadata": {},
   "source": [
    "### Dataset: 538/Census"
   ]
  },
  {
   "cell_type": "code",
   "execution_count": 35,
   "id": "b29d74a0-6748-4ba7-8259-a8909c1b7ddf",
   "metadata": {},
   "outputs": [],
   "source": [
    "names = pd.read_csv(f\"{data_loc}/538_most_common/new-top-firstNames.csv\")\n",
    "\n",
    "# NOTE: Unsure what \"(S)\" means, assumed to be NaN\n",
    "surnames = pd.read_csv(f\"{data_loc}/538_most_common/surnames.csv\", na_values='(S)')"
   ]
  },
  {
   "cell_type": "code",
   "execution_count": 36,
   "id": "ef1495f2-d918-4139-b337-72f01e5e2b5d",
   "metadata": {},
   "outputs": [],
   "source": [
    "ethnicity_dict = {\n",
    "    'pcthispanic':'HISPANIC',\n",
    "    'pctwhite':'WHITE NON HISPANIC',\n",
    "    'pctblack':'BLACK NON HISPANIC',\n",
    "    'pctapi':'ASIAN AND PACIFIC ISLANDER',\n",
    "    'pctaian':'ASIAN AND PACIFIC ISLANDER',\n",
    "    'pct2prace':'MULTI ETHNIC'\n",
    "}"
   ]
  },
  {
   "cell_type": "code",
   "execution_count": 37,
   "id": "ec4772d4-0857-4cd8-b69c-7e246c9a731a",
   "metadata": {},
   "outputs": [
    {
     "data": {
      "text/plain": [
       "['pctwhite', 'pctblack', 'pctapi', 'pctaian', 'pct2prace', 'pcthispanic']"
      ]
     },
     "execution_count": 37,
     "metadata": {},
     "output_type": "execute_result"
    }
   ],
   "source": [
    "pct_ethnic = [col for col in surnames.columns if 'pct' in col]\n",
    "pct_ethnic"
   ]
  },
  {
   "cell_type": "code",
   "execution_count": 38,
   "id": "de1b2b72-0dc9-4300-8c05-3481b89e728c",
   "metadata": {},
   "outputs": [],
   "source": [
    "surnames['ethnicity'] = surnames[pct_ethnic].idxmax(axis=1)\n",
    "surnames['ethnicity'] = surnames['ethnicity'].map(ethnicity_dict)"
   ]
  },
  {
   "cell_type": "code",
   "execution_count": 39,
   "id": "f8a30afa-bbb9-4e83-9f74-8b79aebb3e92",
   "metadata": {},
   "outputs": [
    {
     "name": "stderr",
     "output_type": "stream",
     "text": [
      "/var/folders/t9/ndly692n087cn_dhqldxy8s80000gn/T/ipykernel_6781/1100466884.py:2: FutureWarning: The default value of regex will change from True to False in a future version.\n",
      "  return my_series.str.replace('[^a-zA-Z]','')\n"
     ]
    },
    {
     "data": {
      "text/html": [
       "<div>\n",
       "<style scoped>\n",
       "    .dataframe tbody tr th:only-of-type {\n",
       "        vertical-align: middle;\n",
       "    }\n",
       "\n",
       "    .dataframe tbody tr th {\n",
       "        vertical-align: top;\n",
       "    }\n",
       "\n",
       "    .dataframe thead th {\n",
       "        text-align: right;\n",
       "    }\n",
       "</style>\n",
       "<table border=\"1\" class=\"dataframe\">\n",
       "  <thead>\n",
       "    <tr style=\"text-align: right;\">\n",
       "      <th></th>\n",
       "      <th>name</th>\n",
       "      <th>rank</th>\n",
       "      <th>count</th>\n",
       "      <th>prop100k</th>\n",
       "      <th>cum_prop100k</th>\n",
       "      <th>pctwhite</th>\n",
       "      <th>pctblack</th>\n",
       "      <th>pctapi</th>\n",
       "      <th>pctaian</th>\n",
       "      <th>pct2prace</th>\n",
       "      <th>pcthispanic</th>\n",
       "      <th>ethnicity</th>\n",
       "      <th>surname</th>\n",
       "    </tr>\n",
       "  </thead>\n",
       "  <tbody>\n",
       "    <tr>\n",
       "      <th>0</th>\n",
       "      <td>SMITH</td>\n",
       "      <td>1</td>\n",
       "      <td>2376206</td>\n",
       "      <td>880.85</td>\n",
       "      <td>880.85</td>\n",
       "      <td>73.35</td>\n",
       "      <td>22.22</td>\n",
       "      <td>0.40</td>\n",
       "      <td>0.85</td>\n",
       "      <td>1.63</td>\n",
       "      <td>1.56</td>\n",
       "      <td>WHITE NON HISPANIC</td>\n",
       "      <td>smith</td>\n",
       "    </tr>\n",
       "    <tr>\n",
       "      <th>1</th>\n",
       "      <td>JOHNSON</td>\n",
       "      <td>2</td>\n",
       "      <td>1857160</td>\n",
       "      <td>688.44</td>\n",
       "      <td>1569.30</td>\n",
       "      <td>61.55</td>\n",
       "      <td>33.80</td>\n",
       "      <td>0.42</td>\n",
       "      <td>0.91</td>\n",
       "      <td>1.82</td>\n",
       "      <td>1.50</td>\n",
       "      <td>WHITE NON HISPANIC</td>\n",
       "      <td>johnson</td>\n",
       "    </tr>\n",
       "  </tbody>\n",
       "</table>\n",
       "</div>"
      ],
      "text/plain": [
       "      name  rank    count  prop100k  cum_prop100k  pctwhite  pctblack  pctapi  \\\n",
       "0    SMITH     1  2376206    880.85        880.85     73.35     22.22    0.40   \n",
       "1  JOHNSON     2  1857160    688.44       1569.30     61.55     33.80    0.42   \n",
       "\n",
       "   pctaian  pct2prace  pcthispanic           ethnicity  surname  \n",
       "0     0.85       1.63         1.56  WHITE NON HISPANIC    smith  \n",
       "1     0.91       1.82         1.50  WHITE NON HISPANIC  johnson  "
      ]
     },
     "execution_count": 39,
     "metadata": {},
     "output_type": "execute_result"
    }
   ],
   "source": [
    "surnames['surname'] = keep_only_abc(surnames['name'].str.lower())\n",
    "surnames.head(2)"
   ]
  },
  {
   "cell_type": "markdown",
   "id": "4e73d4e3-5902-4a14-bff8-5e9dfd93dc0b",
   "metadata": {},
   "source": [
    "## Dataset: all names"
   ]
  },
  {
   "cell_type": "code",
   "execution_count": 40,
   "id": "99c53e06-a5f7-48ea-bd08-a2c9a7c256e5",
   "metadata": {},
   "outputs": [],
   "source": [
    "def calculate_num_names_left(dataset):\n",
    "    '''\n",
    "    Purely for informational purposes\n",
    "    '''\n",
    "    res = dataset.drop_duplicates(subset=['first_name', 'surname'], keep='first')['ethnicity'].isna()\n",
    "    nans = res.sum()\n",
    "    total = len(res)\n",
    "    print(f\"There are {nans} out of a total {total} non-duplicate names still without an assigned ethnicity\")\n",
    "    return None"
   ]
  },
  {
   "cell_type": "code",
   "execution_count": 41,
   "id": "da10ffb4-82f1-4caa-bf6e-57925ebb1cec",
   "metadata": {},
   "outputs": [],
   "source": [
    "def combine_ethnicity_columns(dataset):\n",
    "    '''\n",
    "    Combines all columns that contain ethnicity data into one column, giving\n",
    "    preference in abc order of column name\n",
    "    '''\n",
    "    ethnicity_columns = [col for col in dataset.columns if 'ethnicity' in col]\n",
    "    if 'ethnicity' in ethnicity_columns:\n",
    "        ethnicity_columns.remove('ethnicity')\n",
    "    # preference will be given to the alphabetically first col\n",
    "    ethnicity_columns.sort()\n",
    "    dataset['ethnicity'] = dataset[ethnicity_columns[0]].copy()\n",
    "    for i in range(len(ethnicity_columns)):\n",
    "        if i == len(ethnicity_columns)-1:\n",
    "            # drop the extra columns that are no longer needed\n",
    "            return dataset.drop(ethnicity_columns, axis=1)\n",
    "        # first instance was copied, so this time it's skipped and filled with\n",
    "        # the other sources\n",
    "        dataset['ethnicity'] = dataset['ethnicity'].fillna(dataset[ethnicity_columns[i+1]])"
   ]
  },
  {
   "cell_type": "code",
   "execution_count": 42,
   "id": "aea42e74-278c-4be3-8aff-8eeacaa3af90",
   "metadata": {},
   "outputs": [],
   "source": [
    "combined = credits.merge(baby2[['first_name','ethnicity']], on='first_name', how='left')"
   ]
  },
  {
   "cell_type": "code",
   "execution_count": 43,
   "id": "f598cbfe-5564-46bf-80af-d1c2c266498c",
   "metadata": {},
   "outputs": [
    {
     "name": "stderr",
     "output_type": "stream",
     "text": [
      "/var/folders/t9/ndly692n087cn_dhqldxy8s80000gn/T/ipykernel_6781/1100466884.py:2: FutureWarning: The default value of regex will change from True to False in a future version.\n",
      "  return my_series.str.replace('[^a-zA-Z]','')\n"
     ]
    }
   ],
   "source": [
    "last_names = combined['name'].str.split(' ', expand=True)[[1,2]]\n",
    "combined['surname'] = last_names[2].fillna(last_names[1])\n",
    "combined['surname'] = keep_only_abc(combined['surname'].str.lower())"
   ]
  },
  {
   "cell_type": "code",
   "execution_count": 44,
   "id": "a92296b9-1f94-4b80-a7f8-3dbbed78dac1",
   "metadata": {},
   "outputs": [],
   "source": [
    "combined = combined.merge(surnames[['surname','ethnicity']], on='surname', how='left')\n",
    "# rename to give priority to census source over NYC/Harvard top 1k first names\n",
    "combined['ethnicity_w'] = combined['ethnicity'] "
   ]
  },
  {
   "cell_type": "code",
   "execution_count": 45,
   "id": "109ae072-bfbc-47ca-948e-ce07fb994e0e",
   "metadata": {},
   "outputs": [
    {
     "name": "stdout",
     "output_type": "stream",
     "text": [
      "There are 7022 out of a total 53450 non-duplicate names still without an assigned ethnicity\n"
     ]
    }
   ],
   "source": [
    "# merge columns and remove unneeded ones\n",
    "combined = combine_ethnicity_columns(combined)\n",
    "\n",
    "ethn_na = calculate_num_names_left(combined)"
   ]
  },
  {
   "cell_type": "code",
   "execution_count": 46,
   "id": "fe62dbf9-bbf2-4a1a-b80e-f5caf8709929",
   "metadata": {},
   "outputs": [
    {
     "data": {
      "text/html": [
       "<div>\n",
       "<style scoped>\n",
       "    .dataframe tbody tr th:only-of-type {\n",
       "        vertical-align: middle;\n",
       "    }\n",
       "\n",
       "    .dataframe tbody tr th {\n",
       "        vertical-align: top;\n",
       "    }\n",
       "\n",
       "    .dataframe thead th {\n",
       "        text-align: right;\n",
       "    }\n",
       "</style>\n",
       "<table border=\"1\" class=\"dataframe\">\n",
       "  <thead>\n",
       "    <tr style=\"text-align: right;\">\n",
       "      <th></th>\n",
       "      <th>person_id</th>\n",
       "      <th>id</th>\n",
       "      <th>name</th>\n",
       "      <th>character</th>\n",
       "      <th>role</th>\n",
       "      <th>first_name</th>\n",
       "      <th>yob</th>\n",
       "      <th>gender</th>\n",
       "      <th>count</th>\n",
       "      <th>rank</th>\n",
       "      <th>surname</th>\n",
       "      <th>ethnicity</th>\n",
       "    </tr>\n",
       "  </thead>\n",
       "  <tbody>\n",
       "    <tr>\n",
       "      <th>0</th>\n",
       "      <td>3748</td>\n",
       "      <td>tm84618</td>\n",
       "      <td>Robert De Niro</td>\n",
       "      <td>Travis Bickle</td>\n",
       "      <td>ACTOR</td>\n",
       "      <td>robert</td>\n",
       "      <td>2013.0</td>\n",
       "      <td>MALE</td>\n",
       "      <td>86.0</td>\n",
       "      <td>38.0</td>\n",
       "      <td>niro</td>\n",
       "      <td>WHITE NON HISPANIC</td>\n",
       "    </tr>\n",
       "    <tr>\n",
       "      <th>1</th>\n",
       "      <td>14658</td>\n",
       "      <td>tm84618</td>\n",
       "      <td>Jodie Foster</td>\n",
       "      <td>Iris Steensma</td>\n",
       "      <td>ACTOR</td>\n",
       "      <td>jodie</td>\n",
       "      <td>NaN</td>\n",
       "      <td>NaN</td>\n",
       "      <td>NaN</td>\n",
       "      <td>NaN</td>\n",
       "      <td>foster</td>\n",
       "      <td>WHITE NON HISPANIC</td>\n",
       "    </tr>\n",
       "  </tbody>\n",
       "</table>\n",
       "</div>"
      ],
      "text/plain": [
       "   person_id       id            name      character   role first_name  \\\n",
       "0       3748  tm84618  Robert De Niro  Travis Bickle  ACTOR     robert   \n",
       "1      14658  tm84618    Jodie Foster  Iris Steensma  ACTOR      jodie   \n",
       "\n",
       "      yob gender  count  rank surname           ethnicity  \n",
       "0  2013.0   MALE   86.0  38.0    niro  WHITE NON HISPANIC  \n",
       "1     NaN    NaN    NaN   NaN  foster  WHITE NON HISPANIC  "
      ]
     },
     "execution_count": 46,
     "metadata": {},
     "output_type": "execute_result"
    }
   ],
   "source": [
    "combined.head(2)"
   ]
  },
  {
   "cell_type": "code",
   "execution_count": 47,
   "id": "7213f5b5-6870-4507-9adb-fbc69fceb04c",
   "metadata": {},
   "outputs": [
    {
     "data": {
      "text/html": [
       "<div>\n",
       "<style scoped>\n",
       "    .dataframe tbody tr th:only-of-type {\n",
       "        vertical-align: middle;\n",
       "    }\n",
       "\n",
       "    .dataframe tbody tr th {\n",
       "        vertical-align: top;\n",
       "    }\n",
       "\n",
       "    .dataframe thead th {\n",
       "        text-align: right;\n",
       "    }\n",
       "</style>\n",
       "<table border=\"1\" class=\"dataframe\">\n",
       "  <thead>\n",
       "    <tr style=\"text-align: right;\">\n",
       "      <th></th>\n",
       "      <th></th>\n",
       "      <th>person_id</th>\n",
       "      <th>name</th>\n",
       "      <th>character</th>\n",
       "      <th>role</th>\n",
       "      <th>first_name</th>\n",
       "      <th>yob</th>\n",
       "      <th>gender</th>\n",
       "      <th>count</th>\n",
       "      <th>rank</th>\n",
       "      <th>surname</th>\n",
       "    </tr>\n",
       "    <tr>\n",
       "      <th>id</th>\n",
       "      <th>ethnicity</th>\n",
       "      <th></th>\n",
       "      <th></th>\n",
       "      <th></th>\n",
       "      <th></th>\n",
       "      <th></th>\n",
       "      <th></th>\n",
       "      <th></th>\n",
       "      <th></th>\n",
       "      <th></th>\n",
       "      <th></th>\n",
       "    </tr>\n",
       "  </thead>\n",
       "  <tbody>\n",
       "    <tr>\n",
       "      <th>tm467467</th>\n",
       "      <th>WHITE NON HISPANIC</th>\n",
       "      <td>104</td>\n",
       "      <td>104</td>\n",
       "      <td>102</td>\n",
       "      <td>104</td>\n",
       "      <td>104</td>\n",
       "      <td>45</td>\n",
       "      <td>45</td>\n",
       "      <td>45</td>\n",
       "      <td>45</td>\n",
       "      <td>99</td>\n",
       "    </tr>\n",
       "    <tr>\n",
       "      <th>tm158304</th>\n",
       "      <th>WHITE NON HISPANIC</th>\n",
       "      <td>104</td>\n",
       "      <td>104</td>\n",
       "      <td>104</td>\n",
       "      <td>104</td>\n",
       "      <td>104</td>\n",
       "      <td>55</td>\n",
       "      <td>55</td>\n",
       "      <td>55</td>\n",
       "      <td>55</td>\n",
       "      <td>104</td>\n",
       "    </tr>\n",
       "    <tr>\n",
       "      <th>tm84613</th>\n",
       "      <th>WHITE NON HISPANIC</th>\n",
       "      <td>136</td>\n",
       "      <td>136</td>\n",
       "      <td>135</td>\n",
       "      <td>136</td>\n",
       "      <td>136</td>\n",
       "      <td>79</td>\n",
       "      <td>79</td>\n",
       "      <td>79</td>\n",
       "      <td>79</td>\n",
       "      <td>136</td>\n",
       "    </tr>\n",
       "    <tr>\n",
       "      <th>tm244149</th>\n",
       "      <th>WHITE NON HISPANIC</th>\n",
       "      <td>156</td>\n",
       "      <td>156</td>\n",
       "      <td>156</td>\n",
       "      <td>156</td>\n",
       "      <td>156</td>\n",
       "      <td>101</td>\n",
       "      <td>101</td>\n",
       "      <td>101</td>\n",
       "      <td>101</td>\n",
       "      <td>156</td>\n",
       "    </tr>\n",
       "    <tr>\n",
       "      <th>tm32982</th>\n",
       "      <th>WHITE NON HISPANIC</th>\n",
       "      <td>185</td>\n",
       "      <td>185</td>\n",
       "      <td>184</td>\n",
       "      <td>185</td>\n",
       "      <td>185</td>\n",
       "      <td>122</td>\n",
       "      <td>122</td>\n",
       "      <td>122</td>\n",
       "      <td>122</td>\n",
       "      <td>185</td>\n",
       "    </tr>\n",
       "  </tbody>\n",
       "</table>\n",
       "</div>"
      ],
      "text/plain": [
       "                             person_id  name  character  role  first_name  \\\n",
       "id       ethnicity                                                          \n",
       "tm467467 WHITE NON HISPANIC        104   104        102   104         104   \n",
       "tm158304 WHITE NON HISPANIC        104   104        104   104         104   \n",
       "tm84613  WHITE NON HISPANIC        136   136        135   136         136   \n",
       "tm244149 WHITE NON HISPANIC        156   156        156   156         156   \n",
       "tm32982  WHITE NON HISPANIC        185   185        184   185         185   \n",
       "\n",
       "                             yob  gender  count  rank  surname  \n",
       "id       ethnicity                                              \n",
       "tm467467 WHITE NON HISPANIC   45      45     45    45       99  \n",
       "tm158304 WHITE NON HISPANIC   55      55     55    55      104  \n",
       "tm84613  WHITE NON HISPANIC   79      79     79    79      136  \n",
       "tm244149 WHITE NON HISPANIC  101     101    101   101      156  \n",
       "tm32982  WHITE NON HISPANIC  122     122    122   122      185  "
      ]
     },
     "execution_count": 47,
     "metadata": {},
     "output_type": "execute_result"
    }
   ],
   "source": [
    "combined.groupby(['id','ethnicity']).count().sort_values('name').tail(5)"
   ]
  },
  {
   "cell_type": "code",
   "execution_count": 48,
   "id": "0104c6b1-d1cb-416f-9b21-3237a4221d39",
   "metadata": {},
   "outputs": [
    {
     "data": {
      "text/html": [
       "<div>\n",
       "<style scoped>\n",
       "    .dataframe tbody tr th:only-of-type {\n",
       "        vertical-align: middle;\n",
       "    }\n",
       "\n",
       "    .dataframe tbody tr th {\n",
       "        vertical-align: top;\n",
       "    }\n",
       "\n",
       "    .dataframe thead th {\n",
       "        text-align: right;\n",
       "    }\n",
       "</style>\n",
       "<table border=\"1\" class=\"dataframe\">\n",
       "  <thead>\n",
       "    <tr style=\"text-align: right;\">\n",
       "      <th></th>\n",
       "      <th>person_id</th>\n",
       "      <th>id</th>\n",
       "      <th>name</th>\n",
       "      <th>character</th>\n",
       "      <th>role</th>\n",
       "      <th>first_name</th>\n",
       "      <th>yob</th>\n",
       "      <th>gender</th>\n",
       "      <th>count</th>\n",
       "      <th>rank</th>\n",
       "      <th>surname</th>\n",
       "      <th>ethnicity</th>\n",
       "    </tr>\n",
       "  </thead>\n",
       "  <tbody>\n",
       "    <tr>\n",
       "      <th>0</th>\n",
       "      <td>3748</td>\n",
       "      <td>tm84618</td>\n",
       "      <td>Robert De Niro</td>\n",
       "      <td>Travis Bickle</td>\n",
       "      <td>ACTOR</td>\n",
       "      <td>robert</td>\n",
       "      <td>2013.0</td>\n",
       "      <td>MALE</td>\n",
       "      <td>86.0</td>\n",
       "      <td>38.0</td>\n",
       "      <td>niro</td>\n",
       "      <td>WHITE NON HISPANIC</td>\n",
       "    </tr>\n",
       "    <tr>\n",
       "      <th>1</th>\n",
       "      <td>14658</td>\n",
       "      <td>tm84618</td>\n",
       "      <td>Jodie Foster</td>\n",
       "      <td>Iris Steensma</td>\n",
       "      <td>ACTOR</td>\n",
       "      <td>jodie</td>\n",
       "      <td>NaN</td>\n",
       "      <td>NaN</td>\n",
       "      <td>NaN</td>\n",
       "      <td>NaN</td>\n",
       "      <td>foster</td>\n",
       "      <td>WHITE NON HISPANIC</td>\n",
       "    </tr>\n",
       "  </tbody>\n",
       "</table>\n",
       "</div>"
      ],
      "text/plain": [
       "   person_id       id            name      character   role first_name  \\\n",
       "0       3748  tm84618  Robert De Niro  Travis Bickle  ACTOR     robert   \n",
       "1      14658  tm84618    Jodie Foster  Iris Steensma  ACTOR      jodie   \n",
       "\n",
       "      yob gender  count  rank surname           ethnicity  \n",
       "0  2013.0   MALE   86.0  38.0    niro  WHITE NON HISPANIC  \n",
       "1     NaN    NaN    NaN   NaN  foster  WHITE NON HISPANIC  "
      ]
     },
     "execution_count": 48,
     "metadata": {},
     "output_type": "execute_result"
    }
   ],
   "source": [
    "combined.head(2)"
   ]
  },
  {
   "cell_type": "code",
   "execution_count": 49,
   "id": "e353f3ee-1dc5-41fa-a13b-101203b8fabc",
   "metadata": {},
   "outputs": [],
   "source": [
    "# we dont need any of these columns, since the sole purpose was to estimate the\n",
    "# actor ethnicities and then merge that info with our movies dataset\n",
    "combined = combined[['id','name','role','ethnicity']].merge(titles_dummies, how='right')"
   ]
  },
  {
   "cell_type": "code",
   "execution_count": 50,
   "id": "38b25b53-439a-4d37-9190-0051bf02c112",
   "metadata": {},
   "outputs": [
    {
     "data": {
      "text/html": [
       "<div>\n",
       "<style scoped>\n",
       "    .dataframe tbody tr th:only-of-type {\n",
       "        vertical-align: middle;\n",
       "    }\n",
       "\n",
       "    .dataframe tbody tr th {\n",
       "        vertical-align: top;\n",
       "    }\n",
       "\n",
       "    .dataframe thead th {\n",
       "        text-align: right;\n",
       "    }\n",
       "</style>\n",
       "<table border=\"1\" class=\"dataframe\">\n",
       "  <thead>\n",
       "    <tr style=\"text-align: right;\">\n",
       "      <th></th>\n",
       "      <th>id</th>\n",
       "      <th>name</th>\n",
       "      <th>role</th>\n",
       "      <th>ethnicity</th>\n",
       "      <th>title</th>\n",
       "      <th>type</th>\n",
       "      <th>description</th>\n",
       "      <th>release_year</th>\n",
       "      <th>age_certification</th>\n",
       "      <th>runtime</th>\n",
       "      <th>...</th>\n",
       "      <th>TZ</th>\n",
       "      <th>UA</th>\n",
       "      <th>US</th>\n",
       "      <th>UY</th>\n",
       "      <th>VA</th>\n",
       "      <th>VE</th>\n",
       "      <th>VN</th>\n",
       "      <th>XX</th>\n",
       "      <th>ZA</th>\n",
       "      <th>ZW</th>\n",
       "    </tr>\n",
       "  </thead>\n",
       "  <tbody>\n",
       "    <tr>\n",
       "      <th>0</th>\n",
       "      <td>ts300399</td>\n",
       "      <td>NaN</td>\n",
       "      <td>NaN</td>\n",
       "      <td>NaN</td>\n",
       "      <td>Five Came Back: The Reference Films</td>\n",
       "      <td>SHOW</td>\n",
       "      <td>This collection includes 12 World War II-era p...</td>\n",
       "      <td>1945</td>\n",
       "      <td>TV-MA</td>\n",
       "      <td>48</td>\n",
       "      <td>...</td>\n",
       "      <td>0</td>\n",
       "      <td>0</td>\n",
       "      <td>1</td>\n",
       "      <td>0</td>\n",
       "      <td>0</td>\n",
       "      <td>0</td>\n",
       "      <td>0</td>\n",
       "      <td>0</td>\n",
       "      <td>0</td>\n",
       "      <td>0</td>\n",
       "    </tr>\n",
       "    <tr>\n",
       "      <th>1</th>\n",
       "      <td>tm84618</td>\n",
       "      <td>Robert De Niro</td>\n",
       "      <td>ACTOR</td>\n",
       "      <td>WHITE NON HISPANIC</td>\n",
       "      <td>Taxi Driver</td>\n",
       "      <td>MOVIE</td>\n",
       "      <td>A mentally unstable Vietnam War veteran works ...</td>\n",
       "      <td>1976</td>\n",
       "      <td>R</td>\n",
       "      <td>113</td>\n",
       "      <td>...</td>\n",
       "      <td>0</td>\n",
       "      <td>0</td>\n",
       "      <td>1</td>\n",
       "      <td>0</td>\n",
       "      <td>0</td>\n",
       "      <td>0</td>\n",
       "      <td>0</td>\n",
       "      <td>0</td>\n",
       "      <td>0</td>\n",
       "      <td>0</td>\n",
       "    </tr>\n",
       "  </tbody>\n",
       "</table>\n",
       "<p>2 rows × 144 columns</p>\n",
       "</div>"
      ],
      "text/plain": [
       "         id            name   role           ethnicity  \\\n",
       "0  ts300399             NaN    NaN                 NaN   \n",
       "1   tm84618  Robert De Niro  ACTOR  WHITE NON HISPANIC   \n",
       "\n",
       "                                 title   type  \\\n",
       "0  Five Came Back: The Reference Films   SHOW   \n",
       "1                          Taxi Driver  MOVIE   \n",
       "\n",
       "                                         description  release_year  \\\n",
       "0  This collection includes 12 World War II-era p...          1945   \n",
       "1  A mentally unstable Vietnam War veteran works ...          1976   \n",
       "\n",
       "  age_certification  runtime  ... TZ UA  US UY  VA  VE  VN  XX  ZA  ZW  \n",
       "0             TV-MA       48  ...  0  0   1  0   0   0   0   0   0   0  \n",
       "1                 R      113  ...  0  0   1  0   0   0   0   0   0   0  \n",
       "\n",
       "[2 rows x 144 columns]"
      ]
     },
     "execution_count": 50,
     "metadata": {},
     "output_type": "execute_result"
    }
   ],
   "source": [
    "combined.head(2)"
   ]
  },
  {
   "cell_type": "code",
   "execution_count": 51,
   "id": "34c7758d-6c0f-4e9e-af74-c31989f52d36",
   "metadata": {},
   "outputs": [],
   "source": [
    "def create_decades(my_series: pd.Series)->pd.Series:\n",
    "    labeled_series = pd.cut(\n",
    "        my_series,\n",
    "        bins=[1940,1950,1960,1970,1980,1990,2000,2010,2020,2030],\n",
    "        labels=['40s','50s','60s','70s','80s','90s','00s','10s','20s']\n",
    "    )\n",
    "    return labeled_series"
   ]
  },
  {
   "cell_type": "code",
   "execution_count": 52,
   "id": "98edc163-7838-4801-9794-4f4263b17f4a",
   "metadata": {},
   "outputs": [],
   "source": [
    "def add_subtext_to_plot(text, ax, y_loc):\n",
    "    ax.text(x=0.5, y=y_loc, \n",
    "            s=text, \n",
    "            fontsize=10, \n",
    "            alpha=0.75, \n",
    "            ha='center', \n",
    "            va='bottom', \n",
    "            transform=ax.transAxes)"
   ]
  },
  {
   "cell_type": "code",
   "execution_count": 53,
   "id": "d876fc42-1578-47f5-bda2-f6c2493f3de5",
   "metadata": {},
   "outputs": [],
   "source": [
    "combined['decades'] = create_decades(combined['release_year'])"
   ]
  },
  {
   "cell_type": "code",
   "execution_count": 54,
   "id": "d003519e-8bf7-401b-9c3c-d4d025905e43",
   "metadata": {},
   "outputs": [
    {
     "data": {
      "text/plain": [
       "id         ethnicity                 \n",
       "tm1063792  WHITE NON HISPANIC              0\n",
       "tm320255   WHITE NON HISPANIC              1\n",
       "tm320249   WHITE NON HISPANIC              1\n",
       "           ASIAN AND PACIFIC ISLANDER      1\n",
       "tm320211   WHITE NON HISPANIC              1\n",
       "                                        ... \n",
       "tm467467   WHITE NON HISPANIC            103\n",
       "tm158304   WHITE NON HISPANIC            104\n",
       "tm84613    WHITE NON HISPANIC            135\n",
       "tm244149   WHITE NON HISPANIC            156\n",
       "tm32982    WHITE NON HISPANIC            185\n",
       "Name: title, Length: 11470, dtype: int64"
      ]
     },
     "execution_count": 54,
     "metadata": {},
     "output_type": "execute_result"
    }
   ],
   "source": [
    "# this df is solely so that we can plot the number of ethnicities per title\n",
    "temp_df = combined.drop_duplicates(subset=['id','name'])[['id','name','decades','ethnicity','title','role']]\n",
    "temp_df.groupby(['id','ethnicity']).count()['title'].sort_values()"
   ]
  },
  {
   "cell_type": "code",
   "execution_count": 55,
   "id": "4c409ee1-f24e-4ad0-a378-3c1ca541377a",
   "metadata": {},
   "outputs": [
    {
     "data": {
      "text/plain": [
       "Text(0.5, 0, 'Decade')"
      ]
     },
     "execution_count": 55,
     "metadata": {},
     "output_type": "execute_result"
    },
    {
     "data": {
      "image/png": "[encoded data removed]",
      "text/plain": [
       "<Figure size 432x288 with 1 Axes>"
      ]
     },
     "metadata": {
      "needs_background": "light"
     },
     "output_type": "display_data"
    }
   ],
   "source": [
    "ax = sns.histplot(x='decades', data=temp_df, hue='ethnicity', \n",
    "             stat='percent',shrink = 0.8, common_norm=False,\n",
    "             multiple='fill'\n",
    "            )\n",
    "sns.move_legend(ax, bbox_to_anchor=(1,0.9),loc='upper left')\n",
    "row1 = f'NOTE: ethnicity estimated based on surname then first name.'\n",
    "row2 = f'{((53450-7022)/53450) * 100:.1f}% of unique names have ethnicity estimation, but 7022 do not.'\n",
    "add_subtext_to_plot(row1, ax, -0.2)\n",
    "add_subtext_to_plot(row2, ax, -0.25)\n",
    "plt.title(\"Ethnicity distribution across the decades\")\n",
    "plt.xlabel(\"Decade\")"
   ]
  },
  {
   "cell_type": "code",
   "execution_count": 56,
   "id": "79121011-4cbc-42e4-a7af-68dffd9fd17f",
   "metadata": {},
   "outputs": [
    {
     "data": {
      "text/html": [
       "<div>\n",
       "<style scoped>\n",
       "    .dataframe tbody tr th:only-of-type {\n",
       "        vertical-align: middle;\n",
       "    }\n",
       "\n",
       "    .dataframe tbody tr th {\n",
       "        vertical-align: top;\n",
       "    }\n",
       "\n",
       "    .dataframe thead th {\n",
       "        text-align: right;\n",
       "    }\n",
       "</style>\n",
       "<table border=\"1\" class=\"dataframe\">\n",
       "  <thead>\n",
       "    <tr style=\"text-align: right;\">\n",
       "      <th></th>\n",
       "      <th>id</th>\n",
       "      <th>name</th>\n",
       "      <th>decades</th>\n",
       "      <th>ethnicity</th>\n",
       "      <th>title</th>\n",
       "      <th>role</th>\n",
       "    </tr>\n",
       "  </thead>\n",
       "  <tbody>\n",
       "    <tr>\n",
       "      <th>0</th>\n",
       "      <td>ts300399</td>\n",
       "      <td>NaN</td>\n",
       "      <td>40s</td>\n",
       "      <td>NaN</td>\n",
       "      <td>Five Came Back: The Reference Films</td>\n",
       "      <td>NaN</td>\n",
       "    </tr>\n",
       "    <tr>\n",
       "      <th>1</th>\n",
       "      <td>tm84618</td>\n",
       "      <td>Robert De Niro</td>\n",
       "      <td>70s</td>\n",
       "      <td>WHITE NON HISPANIC</td>\n",
       "      <td>Taxi Driver</td>\n",
       "      <td>ACTOR</td>\n",
       "    </tr>\n",
       "    <tr>\n",
       "      <th>2</th>\n",
       "      <td>tm84618</td>\n",
       "      <td>Jodie Foster</td>\n",
       "      <td>70s</td>\n",
       "      <td>WHITE NON HISPANIC</td>\n",
       "      <td>Taxi Driver</td>\n",
       "      <td>ACTOR</td>\n",
       "    </tr>\n",
       "    <tr>\n",
       "      <th>3</th>\n",
       "      <td>tm84618</td>\n",
       "      <td>Albert Brooks</td>\n",
       "      <td>70s</td>\n",
       "      <td>WHITE NON HISPANIC</td>\n",
       "      <td>Taxi Driver</td>\n",
       "      <td>ACTOR</td>\n",
       "    </tr>\n",
       "    <tr>\n",
       "      <th>4</th>\n",
       "      <td>tm84618</td>\n",
       "      <td>Harvey Keitel</td>\n",
       "      <td>70s</td>\n",
       "      <td>WHITE NON HISPANIC</td>\n",
       "      <td>Taxi Driver</td>\n",
       "      <td>ACTOR</td>\n",
       "    </tr>\n",
       "    <tr>\n",
       "      <th>...</th>\n",
       "      <td>...</td>\n",
       "      <td>...</td>\n",
       "      <td>...</td>\n",
       "      <td>...</td>\n",
       "      <td>...</td>\n",
       "      <td>...</td>\n",
       "    </tr>\n",
       "    <tr>\n",
       "      <th>77580</th>\n",
       "      <td>tm1098060</td>\n",
       "      <td>Lucien Morgan</td>\n",
       "      <td>20s</td>\n",
       "      <td>WHITE NON HISPANIC</td>\n",
       "      <td>Shadow Parties</td>\n",
       "      <td>ACTOR</td>\n",
       "    </tr>\n",
       "    <tr>\n",
       "      <th>77581</th>\n",
       "      <td>tm1098060</td>\n",
       "      <td>Magdalena Korpas</td>\n",
       "      <td>20s</td>\n",
       "      <td>HISPANIC</td>\n",
       "      <td>Shadow Parties</td>\n",
       "      <td>ACTOR</td>\n",
       "    </tr>\n",
       "    <tr>\n",
       "      <th>77582</th>\n",
       "      <td>tm1098060</td>\n",
       "      <td>Mistura Olusanya</td>\n",
       "      <td>20s</td>\n",
       "      <td>NaN</td>\n",
       "      <td>Shadow Parties</td>\n",
       "      <td>ACTOR</td>\n",
       "    </tr>\n",
       "    <tr>\n",
       "      <th>77583</th>\n",
       "      <td>tm1098060</td>\n",
       "      <td>Yemi Amodu</td>\n",
       "      <td>20s</td>\n",
       "      <td>NaN</td>\n",
       "      <td>Shadow Parties</td>\n",
       "      <td>DIRECTOR</td>\n",
       "    </tr>\n",
       "    <tr>\n",
       "      <th>77584</th>\n",
       "      <td>ts271048</td>\n",
       "      <td>NaN</td>\n",
       "      <td>20s</td>\n",
       "      <td>NaN</td>\n",
       "      <td>Mighty Little Bheem: Kite Festival</td>\n",
       "      <td>NaN</td>\n",
       "    </tr>\n",
       "  </tbody>\n",
       "</table>\n",
       "<p>77147 rows × 6 columns</p>\n",
       "</div>"
      ],
      "text/plain": [
       "              id              name decades           ethnicity  \\\n",
       "0       ts300399               NaN     40s                 NaN   \n",
       "1        tm84618    Robert De Niro     70s  WHITE NON HISPANIC   \n",
       "2        tm84618      Jodie Foster     70s  WHITE NON HISPANIC   \n",
       "3        tm84618     Albert Brooks     70s  WHITE NON HISPANIC   \n",
       "4        tm84618     Harvey Keitel     70s  WHITE NON HISPANIC   \n",
       "...          ...               ...     ...                 ...   \n",
       "77580  tm1098060     Lucien Morgan     20s  WHITE NON HISPANIC   \n",
       "77581  tm1098060  Magdalena Korpas     20s            HISPANIC   \n",
       "77582  tm1098060  Mistura Olusanya     20s                 NaN   \n",
       "77583  tm1098060        Yemi Amodu     20s                 NaN   \n",
       "77584   ts271048               NaN     20s                 NaN   \n",
       "\n",
       "                                     title      role  \n",
       "0      Five Came Back: The Reference Films       NaN  \n",
       "1                              Taxi Driver     ACTOR  \n",
       "2                              Taxi Driver     ACTOR  \n",
       "3                              Taxi Driver     ACTOR  \n",
       "4                              Taxi Driver     ACTOR  \n",
       "...                                    ...       ...  \n",
       "77580                       Shadow Parties     ACTOR  \n",
       "77581                       Shadow Parties     ACTOR  \n",
       "77582                       Shadow Parties     ACTOR  \n",
       "77583                       Shadow Parties  DIRECTOR  \n",
       "77584   Mighty Little Bheem: Kite Festival       NaN  \n",
       "\n",
       "[77147 rows x 6 columns]"
      ]
     },
     "execution_count": 56,
     "metadata": {},
     "output_type": "execute_result"
    }
   ],
   "source": [
    "temp_df"
   ]
  },
  {
   "cell_type": "code",
   "execution_count": 57,
   "id": "bc865d9d-a8e6-40a8-8d59-4b93b473d519",
   "metadata": {},
   "outputs": [
    {
     "data": {
      "text/plain": [
       "Text(0.5, 1.0, 'Employee ethnicity in films industry based on Netflix catalogue')"
      ]
     },
     "execution_count": 57,
     "metadata": {},
     "output_type": "execute_result"
    },
    {
     "data": {
      "image/png": "[encoded data removed]",
      "text/plain": [
       "<Figure size 432x288 with 1 Axes>"
      ]
     },
     "metadata": {
      "needs_background": "light"
     },
     "output_type": "display_data"
    }
   ],
   "source": [
    "sns.histplot(x='ethnicity', data=temp_df, stat='percent',hue='role', multiple='dodge', common_norm=False)\n",
    "plt.ylim(0,100)\n",
    "plt.xticks(horizontalalignment='right', rotation=45)\n",
    "plt.title('Employee ethnicity in films industry based on Netflix catalogue')"
   ]
  },
  {
   "cell_type": "markdown",
   "id": "9b549ffa-494f-43f5-b196-fcf24834b395",
   "metadata": {
    "tags": []
   },
   "source": [
    "# NLP"
   ]
  },
  {
   "cell_type": "code",
   "execution_count": 58,
   "id": "a54211ff-b368-4609-ad69-9b630f70f307",
   "metadata": {},
   "outputs": [],
   "source": [
    "import spacy\n",
    "from spacytextblob.spacytextblob import SpacyTextBlob"
   ]
  },
  {
   "cell_type": "code",
   "execution_count": 59,
   "id": "3257fd2f-eba7-4788-bca8-3dde25e4ee66",
   "metadata": {},
   "outputs": [],
   "source": [
    "nlp = spacy.load('en_core_web_sm')\n",
    "nlp.add_pipe('spacytextblob')\n",
    "\n",
    "def get_sentiment_score(text):\n",
    "    '''\n",
    "    Uses spacy to get the sentiment score of a blob of text\n",
    "    '''\n",
    "    if type(text) != str:\n",
    "        return text\n",
    "    \n",
    "    doc = nlp(text)\n",
    "    sentiment = doc._.blob.polarity\n",
    "    \n",
    "    return sentiment"
   ]
  },
  {
   "cell_type": "code",
   "execution_count": 60,
   "id": "5ffe8095-878f-4146-9b39-b28857a27357",
   "metadata": {},
   "outputs": [],
   "source": [
    "def label_sentiment_score(score):\n",
    "    if score > 0:\n",
    "        return 'positive'\n",
    "    elif score < 0:\n",
    "        return 'negative'\n",
    "    else:\n",
    "        return 'neutral'"
   ]
  },
  {
   "cell_type": "code",
   "execution_count": null,
   "id": "5479805f-b2fa-4197-9197-2e960fc3c291",
   "metadata": {},
   "outputs": [],
   "source": [
    "combined['sentiment_score'] = combined['description'].apply(get_sentiment_score)\n",
    "combined['sentiment'] = combined['sentiment_score'].apply(label_sentiment_score)"
   ]
  },
  {
   "cell_type": "code",
   "execution_count": null,
   "id": "7d977e74-ba91-4ea7-a235-5878c7d7b07e",
   "metadata": {},
   "outputs": [],
   "source": [
    "combined.groupby('release_year').mean().reset_index().plot('release_year','sentiment_score')\n",
    "plt.title(\"Sentiment score of descriptions over the years\")"
   ]
  },
  {
   "cell_type": "code",
   "execution_count": null,
   "id": "398b383f-1a67-44ec-b035-1eb153a44d02",
   "metadata": {},
   "outputs": [],
   "source": [
    "combined['decades'] = pd.cut(\n",
    "    x=combined['release_year'],\n",
    "    bins=[1940,1950,1960,1970,1980,1990,2000,2010,2020,2030],\n",
    "    labels=['40s','50s','60s','70s','80s','90s','00s','10s','20s']\n",
    ")"
   ]
  },
  {
   "cell_type": "code",
   "execution_count": null,
   "id": "9acf5f46-1bb3-44d9-8b82-64b9fa1aff7e",
   "metadata": {},
   "outputs": [],
   "source": [
    "grpd_plt = combined.groupby('decades').count().reset_index()"
   ]
  },
  {
   "cell_type": "code",
   "execution_count": null,
   "id": "27f38dd4-3e4d-4db6-ba0a-bd9a6685c551",
   "metadata": {},
   "outputs": [],
   "source": [
    "sns.catplot(x='decades', y='title', data=grpd_plt, kind='point')\n",
    "plt.title('Number of motion pictures from each decade')\n"
   ]
  },
  {
   "cell_type": "code",
   "execution_count": null,
   "id": "b0c05d48-9474-40f2-af5b-474430c1111f",
   "metadata": {},
   "outputs": [],
   "source": [
    "sns.catplot(x='decades', y='sentiment_score', data=combined, kind='strip')\n",
    "plt.title('Distribution of description sentiment scores')"
   ]
  },
  {
   "cell_type": "code",
   "execution_count": null,
   "id": "358f3a0f-7ac7-49a2-8247-3881b52afb20",
   "metadata": {},
   "outputs": [],
   "source": [
    "combined['sentiment_score_t'] = combined['title'].apply(get_sentiment_score)\n",
    "combined['sentiment_t'] = combined['sentiment_score_t'].apply(label_sentiment_score)"
   ]
  },
  {
   "cell_type": "code",
   "execution_count": null,
   "id": "6f73ceae-7b5f-4565-814b-33d7d3ddd2b8",
   "metadata": {},
   "outputs": [],
   "source": [
    "combined.groupby('release_year').mean().reset_index().plot('release_year','sentiment_score_t')\n",
    "plt.title(\"Sentiment scores of titles over the years\")"
   ]
  },
  {
   "cell_type": "code",
   "execution_count": null,
   "id": "b71be992-fb9c-4148-ad32-0b6f45e66718",
   "metadata": {},
   "outputs": [],
   "source": [
    "sns.catplot(x='decades', y='sentiment_score_t', data=combined, kind='strip')\n",
    "plt.title('Distribution of title sentiment scores')"
   ]
  },
  {
   "cell_type": "code",
   "execution_count": null,
   "id": "318994ec-b0dc-4e17-83dd-de766875e91a",
   "metadata": {},
   "outputs": [],
   "source": [
    "combined.corr()"
   ]
  },
  {
   "cell_type": "code",
   "execution_count": null,
   "id": "b2a3637c-27c3-4240-b2b3-96b8e374501a",
   "metadata": {},
   "outputs": [],
   "source": [
    "combined.plot(x='release_year',y='imdb_score', kind='scatter')\n",
    "plt.title('Netflix catalogue kept highly rated old films, but all new films')"
   ]
  },
  {
   "cell_type": "code",
   "execution_count": null,
   "id": "210b36a6-491a-4784-99b5-1980ebf858c0",
   "metadata": {},
   "outputs": [],
   "source": [
    "combined.plot(x='imdb_score', y='tmdb_score', kind='scatter')\n",
    "plt.title('IMDB and TMDB scores are highly correlated (r2 = 0.59)')"
   ]
  },
  {
   "cell_type": "code",
   "execution_count": null,
   "id": "bd03af91-7dd9-4694-8dde-284a749c4165",
   "metadata": {},
   "outputs": [],
   "source": [
    "score = len(combined.dropna(subset=['tmdb_score', 'imdb_score']))\n",
    "print(f\"{score} movies have both a TMDB and an IMDB score\")\n",
    "\n",
    "score = combined[combined['imdb_score'].isna()]['tmdb_score'].isna().sum()\n",
    "print(f\"{score} movies have no TMDB score or IMDB score\")\n",
    "\n",
    "score = combined[~combined['imdb_score'].isna()]['tmdb_score'].isna().sum()\n",
    "print(f\"{score} movies have a TMDB score but no IMDB score\")\n",
    "\n",
    "score = combined[~combined['tmdb_score'].isna()]['imdb_score'].isna().sum()\n",
    "print(f\"{score} movies have an IMDB score but no TMDB score\")"
   ]
  },
  {
   "cell_type": "code",
   "execution_count": null,
   "id": "ac6539d1-f8b7-4872-a5e7-14b1d6e138fa",
   "metadata": {},
   "outputs": [],
   "source": [
    "combined['potential_seasons'] = 2022 - combined['release_year']"
   ]
  },
  {
   "cell_type": "code",
   "execution_count": null,
   "id": "6dbb8fd9-dcdd-46fa-876b-197a15162762",
   "metadata": {},
   "outputs": [],
   "source": [
    "def cat_pot_seasons(pot_ses):\n",
    "    if pot_ses < 5:\n",
    "        return '< 5'\n",
    "    elif (pot_ses>=5) & (pot_ses<=10):\n",
    "        return '5-10'\n",
    "    else:\n",
    "        return '> 10'"
   ]
  },
  {
   "cell_type": "code",
   "execution_count": null,
   "id": "63e45642-b0ff-42dc-89b0-d796699425e7",
   "metadata": {},
   "outputs": [],
   "source": [
    "combined['potential_seasons_cat'] = combined['potential_seasons'].apply(cat_pot_seasons)"
   ]
  },
  {
   "cell_type": "code",
   "execution_count": null,
   "id": "91716e91-abfc-425d-a43b-0d1d0d9dfcc6",
   "metadata": {},
   "outputs": [],
   "source": [
    "combined['potential_seasons_left'] = combined['potential_seasons'] - combined['seasons']"
   ]
  },
  {
   "cell_type": "code",
   "execution_count": null,
   "id": "ed5df02b-f996-4319-aa3d-352a22c47ffb",
   "metadata": {},
   "outputs": [],
   "source": [
    "sns.scatterplot(x='release_year',y='potential_seasons_left', data=combined, hue='type')\n",
    "plt.title('The number of seasons per show decreases the newer the show is')"
   ]
  },
  {
   "cell_type": "code",
   "execution_count": null,
   "id": "110412a5-b07b-40cb-98ec-7ba92ba895ab",
   "metadata": {},
   "outputs": [],
   "source": [
    "sns.scatterplot(x='runtime', y='seasons', data=combined,hue='type')"
   ]
  },
  {
   "cell_type": "code",
   "execution_count": null,
   "id": "af1bf7c6-1781-455c-9544-dc0b0d059c28",
   "metadata": {},
   "outputs": [],
   "source": [
    "sns.scatterplot(x='runtime', y='imdb_score', data=combined,hue='type')"
   ]
  },
  {
   "cell_type": "code",
   "execution_count": null,
   "id": "76897987-a77a-4844-aad8-f394c129295c",
   "metadata": {},
   "outputs": [],
   "source": [
    "age_label = {\n",
    "    'G': 0,\n",
    "    'PG': 8,\n",
    "    'PG-13': 13,\n",
    "    'R': 17,\n",
    "    'NC-17': 18,\n",
    "    'TV-Y': 0,\n",
    "    'TV-Y7': 7,\n",
    "    'TV-G': 0,\n",
    "    'TV-PG': 8,\n",
    "    'TV-14': 14,\n",
    "    'TV-MA': 17\n",
    "}"
   ]
  },
  {
   "cell_type": "code",
   "execution_count": null,
   "id": "d23c5898-e7cf-4f85-8983-7bc8ff16b09d",
   "metadata": {},
   "outputs": [],
   "source": [
    "combined['recommended_min_age_viewership'] = combined['age_certification'].map(age_label)"
   ]
  },
  {
   "cell_type": "code",
   "execution_count": null,
   "id": "c09c138b-80f4-4772-ac05-52daeb399d7f",
   "metadata": {},
   "outputs": [],
   "source": [
    "sns.catplot(x='recommended_min_age_viewership', data=combined, kind='count')"
   ]
  },
  {
   "cell_type": "code",
   "execution_count": null,
   "id": "548ab208-c6fa-4342-9e53-6b32d88c06e8",
   "metadata": {},
   "outputs": [],
   "source": [
    "combined['type_dummy'] = pd.get_dummies(combined['type'])['MOVIE']"
   ]
  },
  {
   "cell_type": "code",
   "execution_count": null,
   "id": "17257fc3-8fa7-48cf-b0ef-29fd93d6ef73",
   "metadata": {},
   "outputs": [],
   "source": [
    "combined['age_certification'] = combined['age_certification'].fillna(0)\n",
    "combined['seasons'] = combined['seasons'].fillna(0)"
   ]
  },
  {
   "cell_type": "code",
   "execution_count": null,
   "id": "54e12d5d-24fe-4dcf-88e3-89c80ff00fa8",
   "metadata": {},
   "outputs": [],
   "source": [
    "combined"
   ]
  },
  {
   "cell_type": "markdown",
   "id": "20849808-efc2-4fe8-92fd-99ce336eb072",
   "metadata": {
    "tags": []
   },
   "source": [
    "# Spacy Tutorial"
   ]
  },
  {
   "cell_type": "markdown",
   "id": "3da8d9ed-7d1a-4cc3-a1ce-770c81b93c50",
   "metadata": {},
   "source": [
    "Source: https://realpython.com/natural-language-processing-spacy-python/"
   ]
  },
  {
   "cell_type": "code",
   "execution_count": null,
   "id": "810201e0-1633-4509-9795-b01ecc63ca69",
   "metadata": {},
   "outputs": [],
   "source": [
    "import spacy\n",
    "from spacytextblob.spacytextblob import SpacyTextBlob"
   ]
  },
  {
   "cell_type": "code",
   "execution_count": null,
   "id": "879232e6-5f48-4d9a-88e6-04a5474671c7",
   "metadata": {},
   "outputs": [],
   "source": [
    "nlp = spacy.load('en_core_web_sm')\n",
    "nlp.add_pipe('spacytextblob')\n",
    "introduction_text = ('This tutorial is about Natural Language Processing in Spacy.')\n",
    "intro_doc = nlp(introduction_text)"
   ]
  },
  {
   "cell_type": "code",
   "execution_count": null,
   "id": "575265da-34ec-41db-82d0-67a3ac9e0167",
   "metadata": {},
   "outputs": [],
   "source": [
    "spacy_stopwords = spacy.lang.en.stop_words.STOP_WORDS"
   ]
  },
  {
   "cell_type": "code",
   "execution_count": null,
   "id": "aedf1d21-77e0-462b-9c9e-5928066ae88a",
   "metadata": {},
   "outputs": [],
   "source": [
    "for token in intro_doc:\n",
    "    if not token.is_stop:\n",
    "        print(token)"
   ]
  },
  {
   "cell_type": "markdown",
   "id": "4ff8b71a-63ff-4c0d-a587-4e3a9f4cc7c3",
   "metadata": {},
   "source": [
    "Lemmatization is the process of reducing inflected forms of a word while still ensuring that the reduced form belongs to the language. This reduced form or root word is called a lemma."
   ]
  },
  {
   "cell_type": "code",
   "execution_count": null,
   "id": "71d72583-9f67-4479-9eeb-6381707f6c3d",
   "metadata": {},
   "outputs": [],
   "source": [
    "for token in intro_doc:\n",
    "    print(token, token.lemma_)"
   ]
  },
  {
   "cell_type": "code",
   "execution_count": null,
   "id": "b40475d2-0d52-43bb-a69d-851fddb8654b",
   "metadata": {},
   "outputs": [],
   "source": [
    "complete_text = nlp('Gus Proto is a Python developer currently'\n",
    "...     ' working for a London-based Fintech company. He did not work at kent state univeristy He is'\n",
    "...     ' interested in learning Natural Language Processing.'\n",
    "...     ' There is a developer conference happening on 21 July'\n",
    "...     ' 2019 in London. It is titled \"Applications of Natural'\n",
    "...     ' Language Processing\". There is a helpline number '\n",
    "...     ' available at +1-1234567891. Gus is helping organize it.'\n",
    "...     ' He keeps organizing local Python meetups and several'\n",
    "...     ' internal talks at his workplace. Gus is also presenting'\n",
    "...     ' a talk. The talk will introduce the reader about \"Use'\n",
    "...     ' cases of Natural Language Processing in Fintech\".'\n",
    "...     ' Apart from his work, he is very passionate about music.'\n",
    "...     ' Gus is learning to play the Piano. He has enrolled '\n",
    "...     ' himself in the weekend batch of Great Piano Academy.'\n",
    "...     ' Great Piano Academy is situated in Mayfair or the City'\n",
    "...     ' of London and has world-class piano instructors.')"
   ]
  },
  {
   "cell_type": "code",
   "execution_count": null,
   "id": "dbe26565-52e2-4871-bd51-6d6b1911a84c",
   "metadata": {},
   "outputs": [],
   "source": [
    "complete_text"
   ]
  },
  {
   "cell_type": "code",
   "execution_count": null,
   "id": "0438f00a-cc47-4087-8fe9-7ac5085e703a",
   "metadata": {},
   "outputs": [],
   "source": [
    "# remove stop words and puctuation\n",
    "words = [token.lemma_ for token in complete_text if not token.is_stop and not token.is_punct]\n",
    "words.sort()"
   ]
  },
  {
   "cell_type": "code",
   "execution_count": null,
   "id": "942a849d-cc36-410f-ac16-0e1ab97b1d28",
   "metadata": {},
   "outputs": [],
   "source": [
    "from collections import Counter"
   ]
  },
  {
   "cell_type": "code",
   "execution_count": null,
   "id": "7a50b42b-157c-4d22-94f8-bd427ff28353",
   "metadata": {},
   "outputs": [],
   "source": [
    "# I think this uses the lemmas of words to count freq\n",
    "word_freq = Counter(words)"
   ]
  },
  {
   "cell_type": "code",
   "execution_count": null,
   "id": "74b4c22c-0cf5-4c6e-bdd4-b7cf282215bf",
   "metadata": {},
   "outputs": [],
   "source": [
    "word_freq.most_common(5)"
   ]
  },
  {
   "cell_type": "markdown",
   "id": "947a4108-4b15-4dc7-9fa4-4140640776bd",
   "metadata": {},
   "source": [
    "## Part of Speech Tagging"
   ]
  },
  {
   "cell_type": "code",
   "execution_count": null,
   "id": "407a67bf-91dc-4b2f-bf61-5f8e26c46bd1",
   "metadata": {},
   "outputs": [],
   "source": [
    "nouns = []\n",
    "adjectives = []\n",
    "\n",
    "for token in complete_text:\n",
    "    if token.pos_ == 'NOUN':\n",
    "        nouns.append(token)\n",
    "    if token.pos_ == 'ADJ':\n",
    "        adjectives.append(token)"
   ]
  },
  {
   "cell_type": "code",
   "execution_count": null,
   "id": "70109c8b-1590-4bf0-b6a7-c3e6c3107150",
   "metadata": {},
   "outputs": [],
   "source": [
    "adjectives[0].lemma_"
   ]
  },
  {
   "cell_type": "code",
   "execution_count": null,
   "id": "f4b8932e-f405-41bb-a1cd-519386473092",
   "metadata": {},
   "outputs": [],
   "source": [
    "len(nouns) + len(adjectives)"
   ]
  },
  {
   "cell_type": "markdown",
   "id": "5d3c565e-a727-46d1-acc4-7de6b6ac2cee",
   "metadata": {},
   "source": [
    "## Visualization"
   ]
  },
  {
   "cell_type": "code",
   "execution_count": null,
   "id": "3a431064-dec9-4212-b385-9ade68e41f68",
   "metadata": {},
   "outputs": [],
   "source": [
    "from spacy import displacy"
   ]
  },
  {
   "cell_type": "code",
   "execution_count": null,
   "id": "749e5455-9da7-4a34-be5c-990b2881371b",
   "metadata": {},
   "outputs": [],
   "source": [
    "displacy.render(complete_text, style='dep', jupyter=True)"
   ]
  },
  {
   "cell_type": "code",
   "execution_count": null,
   "id": "0f024242-f9de-450e-a33b-eebdc1f64700",
   "metadata": {},
   "outputs": [],
   "source": [
    "def is_token_allowed(token):\n",
    "    '''\n",
    "    Only allow valid tokens that are not stop words or\n",
    "    punctuation symbols\n",
    "    '''\n",
    "    if (not token or not token.text.strip() or token.is_stop or token.is_punct):\n",
    "        return False\n",
    "    return True\n",
    "\n",
    "def preprocess_token(token):\n",
    "    '''\n",
    "    Reduce token to its lowercase lemma form\n",
    "    '''\n",
    "    return token.lemma_.strip().lower()\n",
    "\n",
    "complete_filtered_tokens = [preprocess_token(token) for token in complete_text if is_token_allowed(token)]"
   ]
  },
  {
   "cell_type": "markdown",
   "id": "07b99988-3ad5-4bf8-9a09-a2acf1011484",
   "metadata": {},
   "source": [
    "## Sentiment Analysis"
   ]
  },
  {
   "cell_type": "code",
   "execution_count": null,
   "id": "bf78852c-06eb-421d-badc-1cc84dfda5ee",
   "metadata": {},
   "outputs": [],
   "source": [
    "sentiment = complete_text._.blob.polarity\n",
    "sentiment = round(sentiment,2)"
   ]
  },
  {
   "cell_type": "code",
   "execution_count": null,
   "id": "4b0f468f-72a1-418f-9e74-129fea80213d",
   "metadata": {},
   "outputs": [],
   "source": [
    "sentiment"
   ]
  },
  {
   "cell_type": "code",
   "execution_count": null,
   "id": "76e72acc-c5a4-444a-b301-2d04b873c95d",
   "metadata": {},
   "outputs": [],
   "source": [
    "positive_words = []\n",
    "negative_words = []\n",
    "neutral_words = []\n",
    "\n",
    "for x in complete_text._.blob.sentiment_assessments.assessments:\n",
    "  if x[1] > 0:\n",
    "    positive_words.append(x[0][0])\n",
    "  elif x[1] < 0:\n",
    "    negative_words.append(x[0][0])\n",
    "  else:\n",
    "    neutral_words.append(x)"
   ]
  },
  {
   "cell_type": "code",
   "execution_count": null,
   "id": "64065ca9-16ec-4f49-b6fa-a268dd956597",
   "metadata": {},
   "outputs": [],
   "source": [
    "positive_words"
   ]
  },
  {
   "cell_type": "code",
   "execution_count": null,
   "id": "baded55b-6ef2-4fcf-8f94-899cf64f93b3",
   "metadata": {},
   "outputs": [],
   "source": [
    "negative_words"
   ]
  },
  {
   "cell_type": "code",
   "execution_count": null,
   "id": "2ced25fd-33a0-4dc0-8fcd-503859489525",
   "metadata": {},
   "outputs": [],
   "source": [
    "len(positive_words) + len(negative_words) + len(neutral_words)"
   ]
  },
  {
   "cell_type": "code",
   "execution_count": null,
   "id": "0a15a29d-297e-4a51-939c-a361538c57ef",
   "metadata": {},
   "outputs": [],
   "source": []
  }
 ],
 "metadata": {
  "kernelspec": {
   "display_name": "Data Env",
   "language": "python",
   "name": "data_env"
  },
  "language_info": {
   "codemirror_mode": {
    "name": "ipython",
    "version": 3
   },
   "file_extension": ".py",
   "mimetype": "text/x-python",
   "name": "python",
   "nbconvert_exporter": "python",
   "pygments_lexer": "ipython3",
   "version": "3.9.6"
  }
 },
 "nbformat": 4,
 "nbformat_minor": 5
}
