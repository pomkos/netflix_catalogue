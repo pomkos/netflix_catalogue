{
 "cells": [
  {
   "cell_type": "markdown",
   "id": "99b5396f-80fe-400a-a02f-211e95e564e1",
   "metadata": {
    "user_expressions": []
   },
   "source": [
    "# Target and Feature Columns"
   ]
  },
  {
   "cell_type": "code",
   "execution_count": 2,
   "id": "476a9631-77de-4c30-b530-758075ee2311",
   "metadata": {},
   "outputs": [],
   "source": [
    "import pandas as pd\n",
    "import numpy as np\n",
    "import matplotlib.pyplot as plt\n",
    "import seaborn as sns"
   ]
  },
  {
   "cell_type": "code",
   "execution_count": 3,
   "id": "ccaa6930-d38c-4b9c-9700-8dba9eac9f9e",
   "metadata": {},
   "outputs": [],
   "source": [
    "data_loc = 'data'"
   ]
  },
  {
   "cell_type": "code",
   "execution_count": 4,
   "id": "bebaad23-24d6-4d4f-9f9b-e2bff8e3520e",
   "metadata": {},
   "outputs": [],
   "source": [
    "df_og = pd.read_pickle(f\"{data_loc}/ml_dataset.pkl\")"
   ]
  },
  {
   "cell_type": "code",
   "execution_count": 5,
   "id": "f90a6877-3e39-4aa0-aff6-4a0b43501005",
   "metadata": {},
   "outputs": [],
   "source": [
    "cols_ctrs = [col for col in df_og.columns if (len(col)==2) | (col=='Lebanon')]\n",
    "cols_other = ['id']+[col for col in df_og.columns if col not in cols_ctrs]\n",
    "df_ctrs = df_og[cols_ctrs]"
   ]
  },
  {
   "cell_type": "code",
   "execution_count": 6,
   "id": "47a52d71-14f8-40fa-a8bc-1031b64c5c78",
   "metadata": {},
   "outputs": [],
   "source": [
    "df = df_og[cols_other]"
   ]
  },
  {
   "cell_type": "code",
   "execution_count": 7,
   "id": "657a57fb-785c-427b-9302-3b3610b8caf1",
   "metadata": {},
   "outputs": [],
   "source": [
    "df2 = df_og.dropna(subset=['ethnicity'])"
   ]
  },
  {
   "cell_type": "code",
   "execution_count": 8,
   "id": "914981c5-f1cc-421f-b520-e87532c2cdc9",
   "metadata": {},
   "outputs": [],
   "source": [
    "df2 = df2[cols_other].dropna(subset=['imdb_votes'])"
   ]
  },
  {
   "cell_type": "code",
   "execution_count": 9,
   "id": "73e6fe28-56fb-4010-845b-947390e64940",
   "metadata": {},
   "outputs": [],
   "source": [
    "unwanted_cols = ['id', 'imdb_score', 'sentiment_t', 'sentiment', ]"
   ]
  },
  {
   "cell_type": "code",
   "execution_count": 10,
   "id": "95bcadfb-0e2e-4e41-8a1a-d6e9b7105395",
   "metadata": {},
   "outputs": [],
   "source": [
    "target_col = 'imdb_score'\n",
    "feature_cols = df_og.select_dtypes([float, int]).columns\n",
    "feature_cols = feature_cols.drop(['imdb_score','tmdb_score','imdb_votes','tmdb_popularity', 'potential_seasons_left', 'recommended_min_age_viewership'])"
   ]
  },
  {
   "cell_type": "code",
   "execution_count": 11,
   "id": "056d0105-f74f-4d01-886c-cbfa21ceaf17",
   "metadata": {},
   "outputs": [
    {
     "data": {
      "text/plain": [
       "Index(['release_year', 'runtime', 'seasons', 'action', 'animation', 'comedy',\n",
       "       'crime', 'documentation', 'drama', 'european',\n",
       "       ...\n",
       "       'UY', 'VA', 'VE', 'VN', 'XX', 'ZA', 'ZW', 'sentiment_score',\n",
       "       'potential_seasons', 'sentiment_score_t'],\n",
       "      dtype='object', length=132)"
      ]
     },
     "execution_count": 11,
     "metadata": {},
     "output_type": "execute_result"
    }
   ],
   "source": [
    "feature_cols"
   ]
  },
  {
   "cell_type": "markdown",
   "id": "e3619c74-327d-4736-b971-5ab9f007c000",
   "metadata": {
    "user_expressions": []
   },
   "source": [
    "# ML Setup"
   ]
  },
  {
   "cell_type": "code",
   "execution_count": 12,
   "id": "3238dfba-3898-4ca3-9cc4-cd1afc92c853",
   "metadata": {},
   "outputs": [],
   "source": [
    "df_og = df_og.dropna(subset=['sentiment_score_t','sentiment_score', 'imdb_score'])\n",
    "X = df_og[feature_cols]\n",
    "y = df_og[target_col]"
   ]
  },
  {
   "cell_type": "code",
   "execution_count": 13,
   "id": "43da40d7-4f92-46fa-a254-c0368f4c2d6f",
   "metadata": {},
   "outputs": [
    {
     "data": {
      "text/plain": [
       "Series([], dtype: int64)"
      ]
     },
     "execution_count": 13,
     "metadata": {},
     "output_type": "execute_result"
    }
   ],
   "source": [
    "X.isna().sum()[X.isna().sum()>0]"
   ]
  },
  {
   "cell_type": "markdown",
   "id": "aab71267-161d-41c9-9b19-b54684666347",
   "metadata": {
    "user_expressions": []
   },
   "source": [
    "No NaNs confirmed"
   ]
  },
  {
   "cell_type": "code",
   "execution_count": 14,
   "id": "0f76ea7d-a58f-44b3-992e-df0f1d62e8ef",
   "metadata": {},
   "outputs": [],
   "source": [
    "from sklearn.pipeline import Pipeline\n",
    "from sklearn.preprocessing import StandardScaler"
   ]
  },
  {
   "cell_type": "code",
   "execution_count": 15,
   "id": "9cc418c5-4703-4c68-ae53-7d40ba6de4a2",
   "metadata": {},
   "outputs": [],
   "source": [
    "from sklearn.model_selection import train_test_split\n",
    "from sklearn.linear_model import LinearRegression\n",
    "from sklearn.svm import SVR\n",
    "from sklearn.tree import DecisionTreeRegressor\n",
    "\n",
    "# Ensemble Methods\n",
    "from sklearn.ensemble import RandomForestRegressor \n",
    "from sklearn.ensemble import GradientBoostingRegressor # fits regression tree on neg gradient of loss functions\n",
    "from sklearn.ensemble import AdaBoostRegressor # fit weak estimators on repeatedly modified versions of data, weigh them\n",
    "from sklearn.ensemble import VotingRegressor # combine equally well performing models to balance out weaknesses\n",
    "from sklearn.ensemble import StackingRegressor # uses output of individual estimators as input for new model"
   ]
  },
  {
   "cell_type": "code",
   "execution_count": 16,
   "id": "e8317df9-1643-4e5e-841d-fcfa0c2d5221",
   "metadata": {},
   "outputs": [],
   "source": [
    "from sklearn.metrics import mean_squared_error, r2_score"
   ]
  },
  {
   "cell_type": "code",
   "execution_count": 17,
   "id": "95d4fbb9-0c93-4463-807d-df263954275c",
   "metadata": {},
   "outputs": [],
   "source": [
    "X_train, X_test, y_train, y_test = train_test_split(X, y, random_state=69, shuffle=True, test_size=0.2)"
   ]
  },
  {
   "cell_type": "markdown",
   "id": "c3d78423-a73c-4e36-9cf9-7d123f6f6971",
   "metadata": {
    "user_expressions": []
   },
   "source": [
    "## Testing with Regression Models"
   ]
  },
  {
   "cell_type": "code",
   "execution_count": 18,
   "id": "98bf62d5-2b31-40f4-bd5c-0ddb25b34eb5",
   "metadata": {},
   "outputs": [],
   "source": [
    "def train_test_predict_score(model):\n",
    "    m = model()\n",
    "    m.fit(X_train, y_train)\n",
    "    y_pred = m.predict(X_test)\n",
    "    \n",
    "    mse = mean_squared_error(y_test, y_pred)\n",
    "    rmse = np.sqrt(mse)\n",
    "    r2 = r2_score(y_test, y_pred)\n",
    "    \n",
    "    print(f\"\"\"Results:\n",
    "    MSE: {mse}\n",
    "    RMSE: {rmse}\n",
    "    R2: {r2}\n",
    "    \"\"\")"
   ]
  },
  {
   "cell_type": "code",
   "execution_count": 72,
   "id": "2239c8c9-5805-432e-8896-ebc1a3943715",
   "metadata": {},
   "outputs": [
    {
     "name": "stdout",
     "output_type": "stream",
     "text": [
      "Results:\n",
      "    MSE: 0.8630015856966544\n",
      "    RMSE: 0.9289787864621315\n",
      "    R2: 0.2914836914667477\n",
      "    \n"
     ]
    }
   ],
   "source": [
    "train_test_predict_score(LinearRegression)"
   ]
  },
  {
   "cell_type": "code",
   "execution_count": 74,
   "id": "1c2c01d2-8059-4cea-ab15-04824bd50776",
   "metadata": {},
   "outputs": [
    {
     "name": "stdout",
     "output_type": "stream",
     "text": [
      "Results:\n",
      "    MSE: 1.1879713002609649\n",
      "    RMSE: 1.089940961823605\n",
      "    R2: 0.02468656575539152\n",
      "    \n"
     ]
    }
   ],
   "source": [
    "train_test_predict_score(SVR)"
   ]
  },
  {
   "cell_type": "code",
   "execution_count": 75,
   "id": "76a44750-4d9c-449f-8c78-71659a0a85d1",
   "metadata": {},
   "outputs": [
    {
     "name": "stdout",
     "output_type": "stream",
     "text": [
      "Results:\n",
      "    MSE: 0.020687606691703653\n",
      "    RMSE: 0.14383186952724925\n",
      "    R2: 0.983015666519591\n",
      "    \n"
     ]
    }
   ],
   "source": [
    "train_test_predict_score(DecisionTreeRegressor)"
   ]
  },
  {
   "cell_type": "code",
   "execution_count": 17,
   "id": "e1de1f9c-08db-46dd-9ffb-c9c39f0d8437",
   "metadata": {},
   "outputs": [
    {
     "name": "stdout",
     "output_type": "stream",
     "text": [
      "Results:\n",
      "    MSE: 0.016375600136565378\n",
      "    RMSE: 0.1279671838268131\n",
      "    R2: 0.9865557839625405\n",
      "    \n"
     ]
    }
   ],
   "source": [
    "train_test_predict_score(RandomForestRegressor)"
   ]
  },
  {
   "cell_type": "markdown",
   "id": "14f561a1-05a7-48fa-bcab-e98311a0ccf3",
   "metadata": {
    "user_expressions": []
   },
   "source": [
    "## Random Forest Regressor and GridSearch"
   ]
  },
  {
   "cell_type": "code",
   "execution_count": 19,
   "id": "980c8210-d809-4a57-b0dd-e49ec0a6ef1c",
   "metadata": {},
   "outputs": [],
   "source": [
    "from sklearn.feature_selection import VarianceThreshold # Feature selector\n",
    "from sklearn.pipeline import Pipeline # For setting up pipeline\n",
    "# Various pre-processing steps\n",
    "from sklearn.preprocessing import Normalizer, StandardScaler, MinMaxScaler, PowerTransformer, MaxAbsScaler\n",
    "from sklearn.model_selection import GridSearchCV # For optimization"
   ]
  },
  {
   "cell_type": "code",
   "execution_count": 20,
   "id": "a0820531-3ddd-4fd4-b264-b3d0a13e8c61",
   "metadata": {},
   "outputs": [
    {
     "name": "stdout",
     "output_type": "stream",
     "text": [
      "[Pipeline] ............ (step 1 of 3) Processing scaler, total=   0.2s\n",
      "[Pipeline] .......... (step 2 of 3) Processing selector, total=   0.1s\n",
      "[Pipeline] ......... (step 3 of 3) Processing regressor, total=  35.6s\n",
      "Training set score: 0.9982066723797783\n",
      "Testing set score: 0.9869010848185205\n"
     ]
    }
   ],
   "source": [
    "pipe = Pipeline([\n",
    "#    ('pca', PCA(n_components = 4)),\n",
    "    ('scaler', StandardScaler()),\n",
    "    ('selector', VarianceThreshold()),\n",
    "    ('regressor', RandomForestRegressor())\n",
    "], verbose=True)\n",
    "pipe.fit(X_train, y_train)\n",
    "train_score = pipe.score(X_train, y_train)\n",
    "test_score = pipe.score(X_test, y_test)\n",
    "\n",
    "print(f\"Training set score: {train_score}\")\n",
    "print(f\"Testing set score: {test_score}\")"
   ]
  },
  {
   "cell_type": "markdown",
   "id": "8927aeb9-10de-4554-9aca-5d69347e976f",
   "metadata": {
    "user_expressions": []
   },
   "source": [
    "Number of trees, t\n",
    "Size of Sample, n (Total - N)\n",
    "Number of variable to sample at each node, m (Total - M)"
   ]
  },
  {
   "cell_type": "code",
   "execution_count": 22,
   "id": "f9cfa04a-9d23-491c-86b0-21f1014cbfa3",
   "metadata": {},
   "outputs": [],
   "source": [
    "parameters = {\n",
    "    'scaler': [\n",
    "        StandardScaler(), MinMaxScaler(),\n",
    "        Normalizer(), MaxAbsScaler()\n",
    "    ],\n",
    "    'selector__threshold': [0, 0.1],\n",
    "    'regressor__n_estimators': [100, 500],\n",
    "    'regressor__min_samples_split': [2, 10],\n",
    "    'regressor__oob_score': [True],\n",
    "    'regressor__max_samples': [29289, 29289/3]\n",
    "}"
   ]
  },
  {
   "cell_type": "code",
   "execution_count": null,
   "id": "af2944ed-dd27-4d7a-9bcb-8f86b30d9b11",
   "metadata": {
    "scrolled": true,
    "tags": []
   },
   "outputs": [],
   "source": [
    "grid = GridSearchCV(pipe, parameters, cv=2).fit(X_train, y_train)\n",
    " \n",
    "print('Training set score: ' + str(grid.score(X_train, y_train)))\n",
    "print('Test set score: ' + str(grid.score(X_test, y_test)))"
   ]
  },
  {
   "cell_type": "code",
   "execution_count": 24,
   "id": "00729256-83ca-47e9-b723-75beef812dc8",
   "metadata": {},
   "outputs": [],
   "source": [
    "train_score = grid.score(X_train, y_train)\n",
    "test_score = grid.score(X_test, y_test)"
   ]
  },
  {
   "cell_type": "code",
   "execution_count": 27,
   "id": "6e1673b5-b22c-48b9-8c6c-f26bea072bb4",
   "metadata": {},
   "outputs": [
    {
     "name": "stdout",
     "output_type": "stream",
     "text": [
      "Training set score: 0.99\n",
      "Test set score: 0.98\n"
     ]
    }
   ],
   "source": [
    "print(f'Training set score: {train_score:.2f}')\n",
    "print(f'Test set score: {test_score:.2f}')"
   ]
  },
  {
   "cell_type": "code",
   "execution_count": null,
   "id": "335a614c-18d4-4a69-bd81-4c45b34f9bcc",
   "metadata": {},
   "outputs": [],
   "source": []
  },
  {
   "cell_type": "code",
   "execution_count": null,
   "id": "f2107858-5bc8-45bd-b19e-8f2da15b1fb6",
   "metadata": {},
   "outputs": [],
   "source": []
  },
  {
   "cell_type": "code",
   "execution_count": null,
   "id": "57add591-d94e-478b-93cd-616a8fc59b4b",
   "metadata": {},
   "outputs": [],
   "source": []
  }
 ],
 "metadata": {
  "kernelspec": {
   "display_name": "Data Env",
   "language": "python",
   "name": "data_env"
  },
  "language_info": {
   "codemirror_mode": {
    "name": "ipython",
    "version": 3
   },
   "file_extension": ".py",
   "mimetype": "text/x-python",
   "name": "python",
   "nbconvert_exporter": "python",
   "pygments_lexer": "ipython3",
   "version": "3.8.8"
  },
  "widgets": {
   "application/vnd.jupyter.widget-state+json": {
    "state": {},
    "version_major": 2,
    "version_minor": 0
   }
  }
 },
 "nbformat": 4,
 "nbformat_minor": 5
}
