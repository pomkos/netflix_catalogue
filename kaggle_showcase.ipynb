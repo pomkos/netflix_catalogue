{
 "cells": [
  {
   "cell_type": "markdown",
   "id": "634cf0b3-6b72-428c-8fd4-19eb900fed6a",
   "metadata": {
    "user_expressions": []
   },
   "source": [
    "# Background"
   ]
  },
  {
   "cell_type": "markdown",
   "id": "fb0fc8e7-5b80-44e0-97e5-3674e7337faa",
   "metadata": {
    "user_expressions": []
   },
   "source": [
    "We have in our posession a dataset of movies and tv series hosted on Netflix, including IMDB/TMDB ratings, descriptions, titles, actors and their roles. To try to predict IMDB ratings for each movie/series, we will include all numerical variables as well as create some new variables including:\n",
    "\n",
    "1. Actor/Director predicted ethnicity from name\n",
    "1. Sentiment score for description of video\n",
    "1. Sentiment score for title of video"
   ]
  },
  {
   "cell_type": "markdown",
   "id": "cd12b02a-d1ce-412e-bb1d-f766977c0532",
   "metadata": {
    "user_expressions": []
   },
   "source": [
    "## Data Sources\n",
    "\n",
    "Netflix dataset:\n",
    "* https://www.kaggle.com/datasets/victorsoeiro/netflix-tv-shows-and-movies?datasetId=2178661&sortBy=voteCount\n",
    "\n",
    "Names/Ethnicity dataset: \n",
    "* https://www.kaggle.com/code/residentmario/regional-ethnic-baby-name-popularity-variations/data\n",
    "* https://dataverse.harvard.edu/dataset.xhtml?persistentId=doi:10.7910/DVN/TYJKEZ\n",
    "* https://www.kaggle.com/datasets/fivethirtyeight/fivethirtyeight-most-common-name-dataset `#priority` because its from the US Census"
   ]
  },
  {
   "cell_type": "markdown",
   "id": "dc0aef52-71b8-4de2-ba4a-0cbf0466795b",
   "metadata": {
    "user_expressions": []
   },
   "source": [
    "# Imports"
   ]
  },
  {
   "cell_type": "code",
   "execution_count": 1,
   "id": "5ff90ee5-b0d0-47ea-aa60-4ab5189b8e6e",
   "metadata": {},
   "outputs": [],
   "source": [
    "import pandas as pd                                       # data processing and handling\n",
    "import numpy as np                                        # some minor statistical functions\n",
    "import matplotlib.pyplot as plt                           # accessing plot properties\n",
    "import seaborn as sns                                     # prettier plots"
   ]
  },
  {
   "cell_type": "code",
   "execution_count": 2,
   "id": "b02d4ca3-d421-4daa-adb2-e635790a57a5",
   "metadata": {},
   "outputs": [],
   "source": [
    "from sklearn.pipeline import Pipeline                     # for easier processing, and compatibility with gridsearch\n",
    "from sklearn.preprocessing import (Normalizer,            # scaling of features, gridsearchcv will look for\n",
    "                    StandardScaler, MinMaxScaler,         # best to use\n",
    "                    PowerTransformer, MaxAbsScaler)\n",
    "from sklearn.preprocessing import MultiLabelBinarizer     # to turn a series of lists of strings into dummy variables\n",
    "from sklearn.feature_selection import VarianceThreshold   # Feature selector\n",
    "\n",
    "from sklearn.model_selection import (train_test_split,    # to split dataset\n",
    "                                    GridSearchCV)         # for finding optimal hyperparameters"
   ]
  },
  {
   "cell_type": "code",
   "execution_count": 3,
   "id": "6beb1eb2-118c-46ed-b19c-3f72f94b3a6a",
   "metadata": {},
   "outputs": [],
   "source": [
    "# ML supervised regressor algorithms\n",
    "from sklearn.linear_model import LinearRegression\n",
    "from sklearn.svm import SVR\n",
    "from sklearn.tree import DecisionTreeRegressor\n",
    "from sklearn.ensemble import RandomForestRegressor        # ensemble method\n",
    "from sklearn.metrics import mean_squared_error, r2_score  # outcome metrics for regression algorithms"
   ]
  },
  {
   "cell_type": "code",
   "execution_count": 4,
   "id": "3e147e8d-73a2-4315-97d5-7056d64b3308",
   "metadata": {},
   "outputs": [],
   "source": [
    "import spacy                                              # sentiment scoring of descriptions and titles\n",
    "from spacytextblob.spacytextblob import SpacyTextBlob     # pipe support for spacy"
   ]
  },
  {
   "cell_type": "code",
   "execution_count": 5,
   "id": "34797b26-9211-4a64-9a51-47048eb624c2",
   "metadata": {},
   "outputs": [],
   "source": [
    "from tqdm.notebook import tqdm_notebook as pb             # adding a progressbar to functions, viewable from jupyter\n",
    "import datetime as dt                                     # handling datetime objects\n",
    "\n",
    "pb.pandas(desc=\"\")                                        # support for progress bars with df.progress_apply"
   ]
  },
  {
   "cell_type": "markdown",
   "id": "ddb81ecd-9be7-469c-8f8c-227937ee3020",
   "metadata": {
    "user_expressions": []
   },
   "source": [
    "First things first, data needs to be loaded, cleaned, made ready for our ML algorithms."
   ]
  },
  {
   "cell_type": "code",
   "execution_count": 6,
   "id": "32243fe3-737a-4a52-9289-1f39562696ac",
   "metadata": {},
   "outputs": [],
   "source": [
    "# folder that data sources are in\n",
    "data_loc = 'data'"
   ]
  },
  {
   "cell_type": "code",
   "execution_count": 7,
   "id": "c43e2e52-c6d4-4bd5-b119-6c424eeff3a2",
   "metadata": {},
   "outputs": [],
   "source": [
    "credits = pd.read_csv(f\"{data_loc}/credits.csv\") # actor/director dataset\n",
    "titles = pd.read_csv(f\"{data_loc}/titles.csv\")   # titles and their properties"
   ]
  },
  {
   "cell_type": "markdown",
   "id": "a6414e15-5559-4a99-805c-2469926c0578",
   "metadata": {
    "user_expressions": []
   },
   "source": [
    "# Data Processing"
   ]
  },
  {
   "cell_type": "markdown",
   "id": "2d81ed53-28fa-4cbb-9840-c76beca8c754",
   "metadata": {
    "user_expressions": []
   },
   "source": [
    "## Cleaning: Titles"
   ]
  },
  {
   "cell_type": "code",
   "execution_count": 8,
   "id": "d04905ba-e04e-41c6-ae00-ec509361825e",
   "metadata": {},
   "outputs": [
    {
     "data": {
      "text/html": [
       "<div>\n",
       "<style scoped>\n",
       "    .dataframe tbody tr th:only-of-type {\n",
       "        vertical-align: middle;\n",
       "    }\n",
       "\n",
       "    .dataframe tbody tr th {\n",
       "        vertical-align: top;\n",
       "    }\n",
       "\n",
       "    .dataframe thead th {\n",
       "        text-align: right;\n",
       "    }\n",
       "</style>\n",
       "<table border=\"1\" class=\"dataframe\">\n",
       "  <thead>\n",
       "    <tr style=\"text-align: right;\">\n",
       "      <th></th>\n",
       "      <th>id</th>\n",
       "      <th>title</th>\n",
       "      <th>type</th>\n",
       "      <th>description</th>\n",
       "      <th>release_year</th>\n",
       "      <th>age_certification</th>\n",
       "      <th>runtime</th>\n",
       "      <th>genres</th>\n",
       "      <th>production_countries</th>\n",
       "      <th>seasons</th>\n",
       "      <th>imdb_id</th>\n",
       "      <th>imdb_score</th>\n",
       "      <th>imdb_votes</th>\n",
       "      <th>tmdb_popularity</th>\n",
       "      <th>tmdb_score</th>\n",
       "    </tr>\n",
       "  </thead>\n",
       "  <tbody>\n",
       "    <tr>\n",
       "      <th>1872</th>\n",
       "      <td>tm244174</td>\n",
       "      <td>Okja</td>\n",
       "      <td>MOVIE</td>\n",
       "      <td>A young girl named Mija risks everything to pr...</td>\n",
       "      <td>2017</td>\n",
       "      <td>PG-13</td>\n",
       "      <td>122</td>\n",
       "      <td>['drama', 'scifi', 'action']</td>\n",
       "      <td>['KR', 'US']</td>\n",
       "      <td>NaN</td>\n",
       "      <td>tt3967856</td>\n",
       "      <td>7.3</td>\n",
       "      <td>116305.0</td>\n",
       "      <td>23.865</td>\n",
       "      <td>7.4</td>\n",
       "    </tr>\n",
       "  </tbody>\n",
       "</table>\n",
       "</div>"
      ],
      "text/plain": [
       "            id title   type  \\\n",
       "1872  tm244174  Okja  MOVIE   \n",
       "\n",
       "                                            description  release_year  \\\n",
       "1872  A young girl named Mija risks everything to pr...          2017   \n",
       "\n",
       "     age_certification  runtime                        genres  \\\n",
       "1872             PG-13      122  ['drama', 'scifi', 'action']   \n",
       "\n",
       "     production_countries  seasons    imdb_id  imdb_score  imdb_votes  \\\n",
       "1872         ['KR', 'US']      NaN  tt3967856         7.3    116305.0   \n",
       "\n",
       "      tmdb_popularity  tmdb_score  \n",
       "1872           23.865         7.4  "
      ]
     },
     "execution_count": 8,
     "metadata": {},
     "output_type": "execute_result"
    }
   ],
   "source": [
    "titles.sample(1)"
   ]
  },
  {
   "cell_type": "code",
   "execution_count": 9,
   "id": "fe7ffeb8-b713-4480-b4ce-57b7d8365d29",
   "metadata": {},
   "outputs": [],
   "source": [
    "genres = titles[['id','genres']]"
   ]
  },
  {
   "cell_type": "code",
   "execution_count": 10,
   "id": "c9ac7d03-e7cf-4400-97a5-6a0e0e688cd0",
   "metadata": {},
   "outputs": [
    {
     "data": {
      "text/plain": [
       "4131     2\n",
       "1805     2\n",
       "3129     2\n",
       "3152     2\n",
       "2998     2\n",
       "        ..\n",
       "423     86\n",
       "717     89\n",
       "371     93\n",
       "3636    94\n",
       "729     96\n",
       "Name: genres, Length: 5806, dtype: int64"
      ]
     },
     "execution_count": 10,
     "metadata": {},
     "output_type": "execute_result"
    }
   ],
   "source": [
    "genres['genres'].apply(len).sort_values()"
   ]
  },
  {
   "cell_type": "code",
   "execution_count": 11,
   "id": "f116c0ba-9e57-48ae-a1d3-84babdc615e2",
   "metadata": {},
   "outputs": [
    {
     "data": {
      "text/plain": [
       "id                                                  ts20429\n",
       "genres    ['scifi', 'action', 'animation', 'drama', 'wes...\n",
       "Name: 729, dtype: object"
      ]
     },
     "execution_count": 11,
     "metadata": {},
     "output_type": "execute_result"
    }
   ],
   "source": [
    "genres.iloc[729,:]"
   ]
  },
  {
   "cell_type": "markdown",
   "id": "797141fa-9095-4592-aab7-ef5590687a10",
   "metadata": {
    "user_expressions": []
   },
   "source": [
    "Based on the above, the longest list is in row 729 with 96 characters included for that title. Note that while the `genres` feature looks like it contains a list of strings, really it's a string with brackets, commas, and letters\n",
    "\n",
    "To have `genres` as a feature variable, it will be dummified:\n",
    "\n",
    "1. Discard all characters except for letters and numbers\n",
    "1. Split on the comma to get an actual list of strings\n",
    "1. Get all unique genres and dummify them, using `MultiLabelBinarizer`\n",
    "\n",
    "Then repeat the above three steps for the `production_countries` columns, which include the countries that the title was produced in"
   ]
  },
  {
   "cell_type": "code",
   "execution_count": 12,
   "id": "00b35ada-a379-4d4c-9607-20bcfff48023",
   "metadata": {},
   "outputs": [],
   "source": [
    "def keep_only_abc(my_series):\n",
    "    return my_series.str.replace('[^a-zA-Z]','')"
   ]
  },
  {
   "cell_type": "code",
   "execution_count": 13,
   "id": "b9adbb66-e446-4abd-a425-5b0e9fcd3383",
   "metadata": {},
   "outputs": [],
   "source": [
    "def string_lists_to_lists(my_series):\n",
    "    return my_series.str.replace('[^a-zA-Z0-9,]', '').str.split(',')"
   ]
  },
  {
   "cell_type": "code",
   "execution_count": 14,
   "id": "a853d2c2-7104-4168-866d-674c491fc8fa",
   "metadata": {},
   "outputs": [],
   "source": [
    "def series_lists_to_dummies(my_series, index):\n",
    "    mlb = MultiLabelBinarizer()\n",
    "    new_df = pd.DataFrame(mlb.fit_transform(my_series),columns=mlb.classes_, index=index).reset_index()\n",
    "    if '' in new_df.columns:\n",
    "        new_df = new_df.drop('', axis=1)\n",
    "    return new_df"
   ]
  },
  {
   "cell_type": "code",
   "execution_count": 15,
   "id": "4ada02fa-6133-4bad-b778-581f3feea709",
   "metadata": {},
   "outputs": [
    {
     "name": "stderr",
     "output_type": "stream",
     "text": [
      "<ipython-input-13-50b3a373118c>:2: FutureWarning: The default value of regex will change from True to False in a future version.\n",
      "  return my_series.str.replace('[^a-zA-Z0-9,]', '').str.split(',')\n"
     ]
    }
   ],
   "source": [
    "genres_dummies = series_lists_to_dummies(string_lists_to_lists(genres['genres']), genres.id)\n",
    "countries_dummies = series_lists_to_dummies(string_lists_to_lists(titles['production_countries']), titles.id)"
   ]
  },
  {
   "cell_type": "code",
   "execution_count": 16,
   "id": "bb5b0d63-2d8d-442e-b25e-c427a84fe0f8",
   "metadata": {},
   "outputs": [
    {
     "data": {
      "text/html": [
       "<div>\n",
       "<style scoped>\n",
       "    .dataframe tbody tr th:only-of-type {\n",
       "        vertical-align: middle;\n",
       "    }\n",
       "\n",
       "    .dataframe tbody tr th {\n",
       "        vertical-align: top;\n",
       "    }\n",
       "\n",
       "    .dataframe thead th {\n",
       "        text-align: right;\n",
       "    }\n",
       "</style>\n",
       "<table border=\"1\" class=\"dataframe\">\n",
       "  <thead>\n",
       "    <tr style=\"text-align: right;\">\n",
       "      <th></th>\n",
       "      <th>id</th>\n",
       "      <th>title</th>\n",
       "      <th>type</th>\n",
       "      <th>description</th>\n",
       "      <th>release_year</th>\n",
       "      <th>age_certification</th>\n",
       "      <th>runtime</th>\n",
       "      <th>genres</th>\n",
       "      <th>production_countries</th>\n",
       "      <th>seasons</th>\n",
       "      <th>...</th>\n",
       "      <th>TZ</th>\n",
       "      <th>UA</th>\n",
       "      <th>US</th>\n",
       "      <th>UY</th>\n",
       "      <th>VA</th>\n",
       "      <th>VE</th>\n",
       "      <th>VN</th>\n",
       "      <th>XX</th>\n",
       "      <th>ZA</th>\n",
       "      <th>ZW</th>\n",
       "    </tr>\n",
       "  </thead>\n",
       "  <tbody>\n",
       "    <tr>\n",
       "      <th>0</th>\n",
       "      <td>ts300399</td>\n",
       "      <td>Five Came Back: The Reference Films</td>\n",
       "      <td>SHOW</td>\n",
       "      <td>This collection includes 12 World War II-era p...</td>\n",
       "      <td>1945</td>\n",
       "      <td>TV-MA</td>\n",
       "      <td>48</td>\n",
       "      <td>['documentation']</td>\n",
       "      <td>['US']</td>\n",
       "      <td>1.0</td>\n",
       "      <td>...</td>\n",
       "      <td>0</td>\n",
       "      <td>0</td>\n",
       "      <td>1</td>\n",
       "      <td>0</td>\n",
       "      <td>0</td>\n",
       "      <td>0</td>\n",
       "      <td>0</td>\n",
       "      <td>0</td>\n",
       "      <td>0</td>\n",
       "      <td>0</td>\n",
       "    </tr>\n",
       "    <tr>\n",
       "      <th>1</th>\n",
       "      <td>tm84618</td>\n",
       "      <td>Taxi Driver</td>\n",
       "      <td>MOVIE</td>\n",
       "      <td>A mentally unstable Vietnam War veteran works ...</td>\n",
       "      <td>1976</td>\n",
       "      <td>R</td>\n",
       "      <td>113</td>\n",
       "      <td>['crime', 'drama']</td>\n",
       "      <td>['US']</td>\n",
       "      <td>NaN</td>\n",
       "      <td>...</td>\n",
       "      <td>0</td>\n",
       "      <td>0</td>\n",
       "      <td>1</td>\n",
       "      <td>0</td>\n",
       "      <td>0</td>\n",
       "      <td>0</td>\n",
       "      <td>0</td>\n",
       "      <td>0</td>\n",
       "      <td>0</td>\n",
       "      <td>0</td>\n",
       "    </tr>\n",
       "  </tbody>\n",
       "</table>\n",
       "<p>2 rows × 141 columns</p>\n",
       "</div>"
      ],
      "text/plain": [
       "         id                                title   type  \\\n",
       "0  ts300399  Five Came Back: The Reference Films   SHOW   \n",
       "1   tm84618                          Taxi Driver  MOVIE   \n",
       "\n",
       "                                         description  release_year  \\\n",
       "0  This collection includes 12 World War II-era p...          1945   \n",
       "1  A mentally unstable Vietnam War veteran works ...          1976   \n",
       "\n",
       "  age_certification  runtime              genres production_countries  \\\n",
       "0             TV-MA       48   ['documentation']               ['US']   \n",
       "1                 R      113  ['crime', 'drama']               ['US']   \n",
       "\n",
       "   seasons  ... TZ  UA  US  UY  VA  VE  VN  XX  ZA  ZW  \n",
       "0      1.0  ...  0   0   1   0   0   0   0   0   0   0  \n",
       "1      NaN  ...  0   0   1   0   0   0   0   0   0   0  \n",
       "\n",
       "[2 rows x 141 columns]"
      ]
     },
     "execution_count": 16,
     "metadata": {},
     "output_type": "execute_result"
    }
   ],
   "source": [
    "titles_dummies = titles.merge(genres_dummies)\n",
    "titles_dummies = titles_dummies.merge(countries_dummies)\n",
    "titles_dummies.head(2)"
   ]
  },
  {
   "cell_type": "markdown",
   "id": "b690af14-9953-40ad-8834-3aab35b228d7",
   "metadata": {
    "user_expressions": []
   },
   "source": [
    "Preview shows we were successful!"
   ]
  },
  {
   "cell_type": "markdown",
   "id": "966cde79-a13e-4941-9d92-e5ef8bde024e",
   "metadata": {
    "user_expressions": []
   },
   "source": [
    "## Feature Engineering: Ethnicities"
   ]
  },
  {
   "cell_type": "markdown",
   "id": "bd49856e-4039-48d0-b24a-d16ee8488958",
   "metadata": {
    "user_expressions": []
   },
   "source": [
    "The actors dataset does not include ethnicities, but it does include the names of actors and directors. To try to predict the ethnicity of actors/directors we will use three different datasets:\n",
    "\n",
    "1. Top 1000 baby names from NYC\n",
    "1. 4250 baby names and their proportional use in different ethnicities from Harvard\n",
    "1. 15000 surnames and their proportional use in different ethnicities, from the US Census Bureau, provided by 538"
   ]
  },
  {
   "cell_type": "code",
   "execution_count": 17,
   "id": "88d1c612-08f8-4814-b33b-6ba8dd93c2f8",
   "metadata": {
    "user_expressions": []
   },
   "outputs": [
    {
     "data": {
      "text/html": [
       "<div>\n",
       "<style scoped>\n",
       "    .dataframe tbody tr th:only-of-type {\n",
       "        vertical-align: middle;\n",
       "    }\n",
       "\n",
       "    .dataframe tbody tr th {\n",
       "        vertical-align: top;\n",
       "    }\n",
       "\n",
       "    .dataframe thead th {\n",
       "        text-align: right;\n",
       "    }\n",
       "</style>\n",
       "<table border=\"1\" class=\"dataframe\">\n",
       "  <thead>\n",
       "    <tr style=\"text-align: right;\">\n",
       "      <th></th>\n",
       "      <th>person_id</th>\n",
       "      <th>id</th>\n",
       "      <th>name</th>\n",
       "      <th>character</th>\n",
       "      <th>role</th>\n",
       "    </tr>\n",
       "  </thead>\n",
       "  <tbody>\n",
       "    <tr>\n",
       "      <th>57360</th>\n",
       "      <td>414974</td>\n",
       "      <td>ts222049</td>\n",
       "      <td>Phil Bertelsen</td>\n",
       "      <td>NaN</td>\n",
       "      <td>DIRECTOR</td>\n",
       "    </tr>\n",
       "    <tr>\n",
       "      <th>18530</th>\n",
       "      <td>9846</td>\n",
       "      <td>tm176630</td>\n",
       "      <td>Jim Gleason</td>\n",
       "      <td>R.D. Warner</td>\n",
       "      <td>ACTOR</td>\n",
       "    </tr>\n",
       "    <tr>\n",
       "      <th>49022</th>\n",
       "      <td>363127</td>\n",
       "      <td>ts236685</td>\n",
       "      <td>Óscar Ortuño</td>\n",
       "      <td>Lucas</td>\n",
       "      <td>ACTOR</td>\n",
       "    </tr>\n",
       "    <tr>\n",
       "      <th>8479</th>\n",
       "      <td>222</td>\n",
       "      <td>tm88382</td>\n",
       "      <td>Jennifer Coolidge</td>\n",
       "      <td>Fiona</td>\n",
       "      <td>ACTOR</td>\n",
       "    </tr>\n",
       "  </tbody>\n",
       "</table>\n",
       "</div>"
      ],
      "text/plain": [
       "       person_id        id               name    character      role\n",
       "57360     414974  ts222049     Phil Bertelsen          NaN  DIRECTOR\n",
       "18530       9846  tm176630        Jim Gleason  R.D. Warner     ACTOR\n",
       "49022     363127  ts236685       Óscar Ortuño        Lucas     ACTOR\n",
       "8479         222   tm88382  Jennifer Coolidge        Fiona     ACTOR"
      ]
     },
     "execution_count": 17,
     "metadata": {},
     "output_type": "execute_result"
    }
   ],
   "source": [
    "credits.sample(4, random_state=61)"
   ]
  },
  {
   "cell_type": "markdown",
   "id": "0fbc1ae5-7c59-429a-ba32-0bbfe632427a",
   "metadata": {
    "user_expressions": []
   },
   "source": [
    "### Dataset: NYC"
   ]
  },
  {
   "cell_type": "code",
   "execution_count": 18,
   "id": "e4f856fe-dd25-449a-be3f-d3ebcb63f045",
   "metadata": {},
   "outputs": [
    {
     "data": {
      "text/html": [
       "<div>\n",
       "<style scoped>\n",
       "    .dataframe tbody tr th:only-of-type {\n",
       "        vertical-align: middle;\n",
       "    }\n",
       "\n",
       "    .dataframe tbody tr th {\n",
       "        vertical-align: top;\n",
       "    }\n",
       "\n",
       "    .dataframe thead th {\n",
       "        text-align: right;\n",
       "    }\n",
       "</style>\n",
       "<table border=\"1\" class=\"dataframe\">\n",
       "  <thead>\n",
       "    <tr style=\"text-align: right;\">\n",
       "      <th></th>\n",
       "      <th>yob</th>\n",
       "      <th>gender</th>\n",
       "      <th>ethnicity</th>\n",
       "      <th>first_name</th>\n",
       "      <th>count</th>\n",
       "      <th>rank</th>\n",
       "    </tr>\n",
       "  </thead>\n",
       "  <tbody>\n",
       "    <tr>\n",
       "      <th>0</th>\n",
       "      <td>2011</td>\n",
       "      <td>FEMALE</td>\n",
       "      <td>HISPANIC</td>\n",
       "      <td>GERALDINE</td>\n",
       "      <td>13</td>\n",
       "      <td>75</td>\n",
       "    </tr>\n",
       "    <tr>\n",
       "      <th>1</th>\n",
       "      <td>2011</td>\n",
       "      <td>FEMALE</td>\n",
       "      <td>HISPANIC</td>\n",
       "      <td>GIA</td>\n",
       "      <td>21</td>\n",
       "      <td>67</td>\n",
       "    </tr>\n",
       "    <tr>\n",
       "      <th>2</th>\n",
       "      <td>2011</td>\n",
       "      <td>FEMALE</td>\n",
       "      <td>HISPANIC</td>\n",
       "      <td>GIANNA</td>\n",
       "      <td>49</td>\n",
       "      <td>42</td>\n",
       "    </tr>\n",
       "  </tbody>\n",
       "</table>\n",
       "</div>"
      ],
      "text/plain": [
       "    yob  gender ethnicity first_name  count  rank\n",
       "0  2011  FEMALE  HISPANIC  GERALDINE     13    75\n",
       "1  2011  FEMALE  HISPANIC        GIA     21    67\n",
       "2  2011  FEMALE  HISPANIC     GIANNA     49    42"
      ]
     },
     "execution_count": 18,
     "metadata": {},
     "output_type": "execute_result"
    }
   ],
   "source": [
    "baby_nyc = pd.read_csv(f\"{data_loc}/baby_names_nyc.csv\")\n",
    "baby_nyc.columns = ['yob', 'gender', 'ethnicity', 'first_name', 'count', 'rank']\n",
    "baby_nyc.head(3)"
   ]
  },
  {
   "cell_type": "markdown",
   "id": "4f3613d7-77fa-4d68-aae0-6ef7050a2220",
   "metadata": {
    "user_expressions": []
   },
   "source": [
    "First names are made lower case and fed through the `keep_only_abc` function, this is to ensure mispellings and typos are avoided and is an attempt at standardizing names."
   ]
  },
  {
   "cell_type": "code",
   "execution_count": 19,
   "id": "af925176-5369-4cbc-a358-66b831391124",
   "metadata": {},
   "outputs": [
    {
     "name": "stderr",
     "output_type": "stream",
     "text": [
      "<ipython-input-12-6016406696e0>:2: FutureWarning: The default value of regex will change from True to False in a future version.\n",
      "  return my_series.str.replace('[^a-zA-Z]','')\n"
     ]
    },
    {
     "data": {
      "text/html": [
       "<div>\n",
       "<style scoped>\n",
       "    .dataframe tbody tr th:only-of-type {\n",
       "        vertical-align: middle;\n",
       "    }\n",
       "\n",
       "    .dataframe tbody tr th {\n",
       "        vertical-align: top;\n",
       "    }\n",
       "\n",
       "    .dataframe thead th {\n",
       "        text-align: right;\n",
       "    }\n",
       "</style>\n",
       "<table border=\"1\" class=\"dataframe\">\n",
       "  <thead>\n",
       "    <tr style=\"text-align: right;\">\n",
       "      <th></th>\n",
       "      <th>yob</th>\n",
       "      <th>gender</th>\n",
       "      <th>ethnicity</th>\n",
       "      <th>first_name</th>\n",
       "      <th>count</th>\n",
       "      <th>rank</th>\n",
       "    </tr>\n",
       "  </thead>\n",
       "  <tbody>\n",
       "    <tr>\n",
       "      <th>0</th>\n",
       "      <td>2011</td>\n",
       "      <td>FEMALE</td>\n",
       "      <td>HISPANIC</td>\n",
       "      <td>geraldine</td>\n",
       "      <td>13</td>\n",
       "      <td>75</td>\n",
       "    </tr>\n",
       "    <tr>\n",
       "      <th>1</th>\n",
       "      <td>2011</td>\n",
       "      <td>FEMALE</td>\n",
       "      <td>HISPANIC</td>\n",
       "      <td>gia</td>\n",
       "      <td>21</td>\n",
       "      <td>67</td>\n",
       "    </tr>\n",
       "  </tbody>\n",
       "</table>\n",
       "</div>"
      ],
      "text/plain": [
       "    yob  gender ethnicity first_name  count  rank\n",
       "0  2011  FEMALE  HISPANIC  geraldine     13    75\n",
       "1  2011  FEMALE  HISPANIC        gia     21    67"
      ]
     },
     "execution_count": 19,
     "metadata": {},
     "output_type": "execute_result"
    }
   ],
   "source": [
    "baby_nyc['first_name'] = baby_nyc['first_name'].str.lower()\n",
    "baby_nyc['first_name'] = keep_only_abc(baby_nyc['first_name'])\n",
    "baby_nyc.head(2)"
   ]
  },
  {
   "cell_type": "markdown",
   "id": "d5846525-d081-4529-95af-81e347afb892",
   "metadata": {
    "user_expressions": []
   },
   "source": [
    "Duplicates are dropped from the NYC dataset to avoid duplicate copies of our actors/directors once merged.\n",
    "\n",
    "1. Sort first alphabetically by first name then by rank\n",
    "1. Keep the highest ranked value. It's assumed that multiple copies indicate multiple ethinicity values, so the highest ranked is extracted"
   ]
  },
  {
   "cell_type": "code",
   "execution_count": 20,
   "id": "0e1e53e4-e9a6-4941-9cf6-5231be48e026",
   "metadata": {},
   "outputs": [
    {
     "data": {
      "text/html": [
       "<div>\n",
       "<style scoped>\n",
       "    .dataframe tbody tr th:only-of-type {\n",
       "        vertical-align: middle;\n",
       "    }\n",
       "\n",
       "    .dataframe tbody tr th {\n",
       "        vertical-align: top;\n",
       "    }\n",
       "\n",
       "    .dataframe thead th {\n",
       "        text-align: right;\n",
       "    }\n",
       "</style>\n",
       "<table border=\"1\" class=\"dataframe\">\n",
       "  <thead>\n",
       "    <tr style=\"text-align: right;\">\n",
       "      <th></th>\n",
       "      <th>yob</th>\n",
       "      <th>gender</th>\n",
       "      <th>ethnicity</th>\n",
       "      <th>first_name</th>\n",
       "      <th>count</th>\n",
       "      <th>rank</th>\n",
       "    </tr>\n",
       "  </thead>\n",
       "  <tbody>\n",
       "    <tr>\n",
       "      <th>12956</th>\n",
       "      <td>2014</td>\n",
       "      <td>MALE</td>\n",
       "      <td>ASIAN AND PACIFIC ISLANDER</td>\n",
       "      <td>aahil</td>\n",
       "      <td>14</td>\n",
       "      <td>54</td>\n",
       "    </tr>\n",
       "    <tr>\n",
       "      <th>21549</th>\n",
       "      <td>2014</td>\n",
       "      <td>MALE</td>\n",
       "      <td>ASIAN AND PACIFIC ISLANDER</td>\n",
       "      <td>aahil</td>\n",
       "      <td>14</td>\n",
       "      <td>54</td>\n",
       "    </tr>\n",
       "    <tr>\n",
       "      <th>10031</th>\n",
       "      <td>2013</td>\n",
       "      <td>FEMALE</td>\n",
       "      <td>BLACK NON HISPANIC</td>\n",
       "      <td>aaliyah</td>\n",
       "      <td>73</td>\n",
       "      <td>3</td>\n",
       "    </tr>\n",
       "  </tbody>\n",
       "</table>\n",
       "</div>"
      ],
      "text/plain": [
       "        yob  gender                   ethnicity first_name  count  rank\n",
       "12956  2014    MALE  ASIAN AND PACIFIC ISLANDER      aahil     14    54\n",
       "21549  2014    MALE  ASIAN AND PACIFIC ISLANDER      aahil     14    54\n",
       "10031  2013  FEMALE          BLACK NON HISPANIC    aaliyah     73     3"
      ]
     },
     "execution_count": 20,
     "metadata": {},
     "output_type": "execute_result"
    }
   ],
   "source": [
    "baby_nyc_nodup = baby_nyc.sort_values(['first_name', 'rank'])\n",
    "baby_nyc_nodup.head(3)"
   ]
  },
  {
   "cell_type": "code",
   "execution_count": 21,
   "id": "3afa8e0b-ac64-4156-aa1c-581bbe5b3dc9",
   "metadata": {},
   "outputs": [
    {
     "data": {
      "text/html": [
       "<div>\n",
       "<style scoped>\n",
       "    .dataframe tbody tr th:only-of-type {\n",
       "        vertical-align: middle;\n",
       "    }\n",
       "\n",
       "    .dataframe tbody tr th {\n",
       "        vertical-align: top;\n",
       "    }\n",
       "\n",
       "    .dataframe thead th {\n",
       "        text-align: right;\n",
       "    }\n",
       "</style>\n",
       "<table border=\"1\" class=\"dataframe\">\n",
       "  <thead>\n",
       "    <tr style=\"text-align: right;\">\n",
       "      <th></th>\n",
       "      <th>yob</th>\n",
       "      <th>gender</th>\n",
       "      <th>ethnicity</th>\n",
       "      <th>first_name</th>\n",
       "      <th>count</th>\n",
       "      <th>rank</th>\n",
       "    </tr>\n",
       "  </thead>\n",
       "  <tbody>\n",
       "    <tr>\n",
       "      <th>12956</th>\n",
       "      <td>2014</td>\n",
       "      <td>MALE</td>\n",
       "      <td>ASIAN AND PACIFIC ISLANDER</td>\n",
       "      <td>aahil</td>\n",
       "      <td>14</td>\n",
       "      <td>54</td>\n",
       "    </tr>\n",
       "    <tr>\n",
       "      <th>10031</th>\n",
       "      <td>2013</td>\n",
       "      <td>FEMALE</td>\n",
       "      <td>BLACK NON HISPANIC</td>\n",
       "      <td>aaliyah</td>\n",
       "      <td>73</td>\n",
       "      <td>3</td>\n",
       "    </tr>\n",
       "    <tr>\n",
       "      <th>10887</th>\n",
       "      <td>2013</td>\n",
       "      <td>MALE</td>\n",
       "      <td>ASIAN AND PACIFIC ISLANDER</td>\n",
       "      <td>aarav</td>\n",
       "      <td>17</td>\n",
       "      <td>50</td>\n",
       "    </tr>\n",
       "  </tbody>\n",
       "</table>\n",
       "</div>"
      ],
      "text/plain": [
       "        yob  gender                   ethnicity first_name  count  rank\n",
       "12956  2014    MALE  ASIAN AND PACIFIC ISLANDER      aahil     14    54\n",
       "10031  2013  FEMALE          BLACK NON HISPANIC    aaliyah     73     3\n",
       "10887  2013    MALE  ASIAN AND PACIFIC ISLANDER      aarav     17    50"
      ]
     },
     "execution_count": 21,
     "metadata": {},
     "output_type": "execute_result"
    }
   ],
   "source": [
    "baby_nyc_nodup = baby_nyc_nodup.drop_duplicates(subset='first_name', keep='first')\n",
    "baby_nyc_nodup.head(3)"
   ]
  },
  {
   "cell_type": "code",
   "execution_count": 22,
   "id": "5bc3c512-c9e2-404b-a60b-b109c1ddd58e",
   "metadata": {},
   "outputs": [
    {
     "data": {
      "text/plain": [
       "array(['ASIAN AND PACIFIC ISLANDER', 'BLACK NON HISPANIC', 'HISPANIC',\n",
       "       'BLACK NON HISP', 'WHITE NON HISPANIC', 'WHITE NON HISP',\n",
       "       'ASIAN AND PACI'], dtype=object)"
      ]
     },
     "execution_count": 22,
     "metadata": {},
     "output_type": "execute_result"
    }
   ],
   "source": [
    "baby_nyc_nodup['ethnicity'].unique()"
   ]
  },
  {
   "cell_type": "markdown",
   "id": "e720612d-9d15-4c7d-ae57-e7dd18d1721e",
   "metadata": {
    "user_expressions": []
   },
   "source": [
    "There are some weird ethinicity values that were cut off in the dataset for some reason these are standardized"
   ]
  },
  {
   "cell_type": "code",
   "execution_count": 23,
   "id": "50ec9b15-ffd3-468d-bf04-7342bee68f21",
   "metadata": {},
   "outputs": [],
   "source": [
    "def rename_ethnicities(value: str) -> str:\n",
    "    if type(value) != str:\n",
    "        return value\n",
    "    value = value.strip()\n",
    "    if value == 'WHITE NON HISP':\n",
    "        return 'WHITE NON HISPANIC'\n",
    "    elif value == 'ASIAN AND PACI':\n",
    "        return 'ASIAN AND PACIFIC ISLANDER'\n",
    "    elif value == 'BLACK NON HISP':\n",
    "        return 'BLACK NON HISPANIC'\n",
    "    else:\n",
    "        return value"
   ]
  },
  {
   "cell_type": "code",
   "execution_count": 24,
   "id": "c8688c9d-d9b4-46f8-bbb4-9c40755099b4",
   "metadata": {},
   "outputs": [],
   "source": [
    "baby_nyc_nodup['ethnicity'] = baby_nyc_nodup['ethnicity'].apply(rename_ethnicities)"
   ]
  },
  {
   "cell_type": "code",
   "execution_count": 25,
   "id": "41cf2bc9-b76d-4bb0-a5b0-27f8475084f5",
   "metadata": {},
   "outputs": [
    {
     "data": {
      "text/plain": [
       "WHITE NON HISPANIC            536\n",
       "HISPANIC                      398\n",
       "BLACK NON HISPANIC            364\n",
       "ASIAN AND PACIFIC ISLANDER    330\n",
       "Name: ethnicity, dtype: int64"
      ]
     },
     "execution_count": 25,
     "metadata": {},
     "output_type": "execute_result"
    }
   ],
   "source": [
    "baby_nyc_nodup['ethnicity'].value_counts()"
   ]
  },
  {
   "cell_type": "markdown",
   "id": "961f7b93-f7a2-4db6-85d5-204bb494713d",
   "metadata": {
    "user_expressions": []
   },
   "source": [
    "### Dataset: Harvard Names"
   ]
  },
  {
   "cell_type": "markdown",
   "id": "d3bc61ad-026a-4bda-963b-14f8ef10fe39",
   "metadata": {
    "user_expressions": []
   },
   "source": [
    "The same general strategy as above will be used for our harvard dataset, and then merged"
   ]
  },
  {
   "cell_type": "code",
   "execution_count": 26,
   "id": "51a17e43-8a73-4cc8-8978-62d737758975",
   "metadata": {},
   "outputs": [
    {
     "data": {
      "text/html": [
       "<div>\n",
       "<style scoped>\n",
       "    .dataframe tbody tr th:only-of-type {\n",
       "        vertical-align: middle;\n",
       "    }\n",
       "\n",
       "    .dataframe tbody tr th {\n",
       "        vertical-align: top;\n",
       "    }\n",
       "\n",
       "    .dataframe thead th {\n",
       "        text-align: right;\n",
       "    }\n",
       "</style>\n",
       "<table border=\"1\" class=\"dataframe\">\n",
       "  <thead>\n",
       "    <tr style=\"text-align: right;\">\n",
       "      <th></th>\n",
       "      <th>firstname</th>\n",
       "      <th>obs</th>\n",
       "      <th>pcthispanic</th>\n",
       "      <th>pctwhite</th>\n",
       "      <th>pctblack</th>\n",
       "      <th>pctapi</th>\n",
       "      <th>pctaian</th>\n",
       "      <th>pct2prace</th>\n",
       "      <th>Unnamed: 8</th>\n",
       "    </tr>\n",
       "  </thead>\n",
       "  <tbody>\n",
       "    <tr>\n",
       "      <th>0</th>\n",
       "      <td>AARON</td>\n",
       "      <td>3646</td>\n",
       "      <td>2.88</td>\n",
       "      <td>91.607</td>\n",
       "      <td>3.264</td>\n",
       "      <td>2.057</td>\n",
       "      <td>0.055</td>\n",
       "      <td>0.137</td>\n",
       "      <td>NaN</td>\n",
       "    </tr>\n",
       "    <tr>\n",
       "      <th>1</th>\n",
       "      <td>ABBAS</td>\n",
       "      <td>59</td>\n",
       "      <td>0.00</td>\n",
       "      <td>71.186</td>\n",
       "      <td>3.390</td>\n",
       "      <td>25.424</td>\n",
       "      <td>0.000</td>\n",
       "      <td>0.000</td>\n",
       "      <td>NaN</td>\n",
       "    </tr>\n",
       "    <tr>\n",
       "      <th>2</th>\n",
       "      <td>ABBEY</td>\n",
       "      <td>57</td>\n",
       "      <td>0.00</td>\n",
       "      <td>96.491</td>\n",
       "      <td>3.509</td>\n",
       "      <td>0.000</td>\n",
       "      <td>0.000</td>\n",
       "      <td>0.000</td>\n",
       "      <td>NaN</td>\n",
       "    </tr>\n",
       "  </tbody>\n",
       "</table>\n",
       "</div>"
      ],
      "text/plain": [
       "  firstname   obs  pcthispanic  pctwhite  pctblack  pctapi  pctaian  \\\n",
       "0     AARON  3646         2.88    91.607     3.264   2.057    0.055   \n",
       "1     ABBAS    59         0.00    71.186     3.390  25.424    0.000   \n",
       "2     ABBEY    57         0.00    96.491     3.509   0.000    0.000   \n",
       "\n",
       "   pct2prace  Unnamed: 8  \n",
       "0      0.137         NaN  \n",
       "1      0.000         NaN  \n",
       "2      0.000         NaN  "
      ]
     },
     "execution_count": 26,
     "metadata": {},
     "output_type": "execute_result"
    }
   ],
   "source": [
    "baby_harvard = pd.read_excel(f\"{data_loc}/firstnames_harvard.xlsx\",sheet_name=1)\n",
    "baby_harvard.head(3)"
   ]
  },
  {
   "cell_type": "code",
   "execution_count": 27,
   "id": "85b7302c-6751-49cc-822c-65a9338507e5",
   "metadata": {},
   "outputs": [
    {
     "data": {
      "text/plain": [
       "Index(['firstname', 'obs', 'pcthispanic', 'pctwhite', 'pctblack', 'pctapi',\n",
       "       'pctaian', 'pct2prace', 'Unnamed: 8'],\n",
       "      dtype='object')"
      ]
     },
     "execution_count": 27,
     "metadata": {},
     "output_type": "execute_result"
    }
   ],
   "source": [
    "baby_harvard.columns"
   ]
  },
  {
   "cell_type": "markdown",
   "id": "bd0d2dbe-0833-43fa-803f-3fa1e0425f58",
   "metadata": {
    "user_expressions": []
   },
   "source": [
    "This dataset has a different method of presenting ethnicity. Instead of ranks, it gives the percent of survey respondents with that ethnicity. So our strategy is as follows:\n",
    "\n",
    "1. Create a new ethnicity column, populated with the highest percentage value ethnicity for each row\n",
    "1. Rename ethnicity columns to be inline with the NYC dataset, by mapping the new dictionary"
   ]
  },
  {
   "cell_type": "code",
   "execution_count": 28,
   "id": "1c63bfef-bcee-4024-a58d-2317b14499cd",
   "metadata": {},
   "outputs": [],
   "source": [
    "ethnicity_dict = {\n",
    "    'pcthispanic':'HISPANIC',\n",
    "    'pctwhite':'WHITE NON HISPANIC',\n",
    "    'pctblack':'BLACK NON HISPANIC',\n",
    "    'pctapi':'ASIAN AND PACIFIC ISLANDER',\n",
    "    'pctaian':'ASIAN AND PACIFIC ISLANDER',\n",
    "    'pct2prace':'MULTI ETHNIC'\n",
    "}"
   ]
  },
  {
   "cell_type": "code",
   "execution_count": 29,
   "id": "78525640-8c6e-49db-a0d8-b5773a7f457d",
   "metadata": {},
   "outputs": [],
   "source": [
    "# idxmax will take the maximum value from all rows, and record the correspondent variable\n",
    "baby_harvard['ethnicity'] = baby_harvard[['pcthispanic', 'pctwhite', \n",
    "                                          'pctblack', 'pctapi', \n",
    "                                          'pctaian', 'pct2prace']].idxmax(axis=1)"
   ]
  },
  {
   "cell_type": "code",
   "execution_count": 30,
   "id": "cf4b4e8f-84ce-44c2-a69b-894dcdb07fec",
   "metadata": {},
   "outputs": [
    {
     "data": {
      "text/plain": [
       "array(['WHITE NON HISPANIC', 'ASIAN AND PACIFIC ISLANDER', 'HISPANIC',\n",
       "       'BLACK NON HISPANIC'], dtype=object)"
      ]
     },
     "execution_count": 30,
     "metadata": {},
     "output_type": "execute_result"
    }
   ],
   "source": [
    "# Map and rename ethnicities\n",
    "baby_harvard['ethnicity'] = baby_harvard['ethnicity'].map(ethnicity_dict)\n",
    "baby_harvard['ethnicity'].unique()"
   ]
  },
  {
   "cell_type": "markdown",
   "id": "b21bbb39-d117-4c98-8411-a2690428d991",
   "metadata": {
    "user_expressions": []
   },
   "source": [
    "Mapping was successful, no NaNs"
   ]
  },
  {
   "cell_type": "code",
   "execution_count": 31,
   "id": "a5a200fd-cbf2-409c-b576-86d8afe67f26",
   "metadata": {},
   "outputs": [
    {
     "data": {
      "text/plain": [
       "0"
      ]
     },
     "execution_count": 31,
     "metadata": {},
     "output_type": "execute_result"
    }
   ],
   "source": [
    "baby_harvard['firstname'].isna().sum()"
   ]
  },
  {
   "cell_type": "markdown",
   "id": "6f1ae6f2-5584-40ee-a382-3d42c6f2094d",
   "metadata": {
    "user_expressions": []
   },
   "source": [
    "No duplicates confirmed"
   ]
  },
  {
   "cell_type": "code",
   "execution_count": 32,
   "id": "0c172712-0f31-401e-9deb-17983bba1cc8",
   "metadata": {},
   "outputs": [
    {
     "name": "stderr",
     "output_type": "stream",
     "text": [
      "<ipython-input-12-6016406696e0>:2: FutureWarning: The default value of regex will change from True to False in a future version.\n",
      "  return my_series.str.replace('[^a-zA-Z]','')\n"
     ]
    }
   ],
   "source": [
    "# standardize names to lower case and letters only\n",
    "baby_harvard['first_name'] = keep_only_abc(baby_harvard['firstname'].str.lower())"
   ]
  },
  {
   "cell_type": "code",
   "execution_count": 33,
   "id": "aff307bd-e187-429e-b141-73fa7eda65c3",
   "metadata": {},
   "outputs": [
    {
     "data": {
      "text/html": [
       "<div>\n",
       "<style scoped>\n",
       "    .dataframe tbody tr th:only-of-type {\n",
       "        vertical-align: middle;\n",
       "    }\n",
       "\n",
       "    .dataframe tbody tr th {\n",
       "        vertical-align: top;\n",
       "    }\n",
       "\n",
       "    .dataframe thead th {\n",
       "        text-align: right;\n",
       "    }\n",
       "</style>\n",
       "<table border=\"1\" class=\"dataframe\">\n",
       "  <thead>\n",
       "    <tr style=\"text-align: right;\">\n",
       "      <th></th>\n",
       "      <th>firstname</th>\n",
       "      <th>obs</th>\n",
       "      <th>pcthispanic</th>\n",
       "      <th>pctwhite</th>\n",
       "      <th>pctblack</th>\n",
       "      <th>pctapi</th>\n",
       "      <th>pctaian</th>\n",
       "      <th>pct2prace</th>\n",
       "      <th>Unnamed: 8</th>\n",
       "      <th>ethnicity</th>\n",
       "      <th>first_name</th>\n",
       "    </tr>\n",
       "  </thead>\n",
       "  <tbody>\n",
       "    <tr>\n",
       "      <th>0</th>\n",
       "      <td>AARON</td>\n",
       "      <td>3646</td>\n",
       "      <td>2.880</td>\n",
       "      <td>91.607</td>\n",
       "      <td>3.264</td>\n",
       "      <td>2.057</td>\n",
       "      <td>0.055</td>\n",
       "      <td>0.137</td>\n",
       "      <td>NaN</td>\n",
       "      <td>WHITE NON HISPANIC</td>\n",
       "      <td>aaron</td>\n",
       "    </tr>\n",
       "    <tr>\n",
       "      <th>1</th>\n",
       "      <td>ABBAS</td>\n",
       "      <td>59</td>\n",
       "      <td>0.000</td>\n",
       "      <td>71.186</td>\n",
       "      <td>3.390</td>\n",
       "      <td>25.424</td>\n",
       "      <td>0.000</td>\n",
       "      <td>0.000</td>\n",
       "      <td>NaN</td>\n",
       "      <td>WHITE NON HISPANIC</td>\n",
       "      <td>abbas</td>\n",
       "    </tr>\n",
       "    <tr>\n",
       "      <th>2</th>\n",
       "      <td>ABBEY</td>\n",
       "      <td>57</td>\n",
       "      <td>0.000</td>\n",
       "      <td>96.491</td>\n",
       "      <td>3.509</td>\n",
       "      <td>0.000</td>\n",
       "      <td>0.000</td>\n",
       "      <td>0.000</td>\n",
       "      <td>NaN</td>\n",
       "      <td>WHITE NON HISPANIC</td>\n",
       "      <td>abbey</td>\n",
       "    </tr>\n",
       "    <tr>\n",
       "      <th>3</th>\n",
       "      <td>ABBIE</td>\n",
       "      <td>74</td>\n",
       "      <td>1.351</td>\n",
       "      <td>95.946</td>\n",
       "      <td>2.703</td>\n",
       "      <td>0.000</td>\n",
       "      <td>0.000</td>\n",
       "      <td>0.000</td>\n",
       "      <td>NaN</td>\n",
       "      <td>WHITE NON HISPANIC</td>\n",
       "      <td>abbie</td>\n",
       "    </tr>\n",
       "  </tbody>\n",
       "</table>\n",
       "</div>"
      ],
      "text/plain": [
       "  firstname   obs  pcthispanic  pctwhite  pctblack  pctapi  pctaian  \\\n",
       "0     AARON  3646        2.880    91.607     3.264   2.057    0.055   \n",
       "1     ABBAS    59        0.000    71.186     3.390  25.424    0.000   \n",
       "2     ABBEY    57        0.000    96.491     3.509   0.000    0.000   \n",
       "3     ABBIE    74        1.351    95.946     2.703   0.000    0.000   \n",
       "\n",
       "   pct2prace  Unnamed: 8           ethnicity first_name  \n",
       "0      0.137         NaN  WHITE NON HISPANIC      aaron  \n",
       "1      0.000         NaN  WHITE NON HISPANIC      abbas  \n",
       "2      0.000         NaN  WHITE NON HISPANIC      abbey  \n",
       "3      0.000         NaN  WHITE NON HISPANIC      abbie  "
      ]
     },
     "execution_count": 33,
     "metadata": {},
     "output_type": "execute_result"
    }
   ],
   "source": [
    "baby_harvard.head(4)"
   ]
  },
  {
   "cell_type": "code",
   "execution_count": 34,
   "id": "fc02e4a0-6fb4-4463-bf1e-fa075fb2d2ff",
   "metadata": {},
   "outputs": [
    {
     "name": "stdout",
     "output_type": "stream",
     "text": [
      "<class 'pandas.core.frame.DataFrame'>\n",
      "Int64Index: 4251 entries, 0 to 4250\n",
      "Data columns (total 16 columns):\n",
      " #   Column       Non-Null Count  Dtype  \n",
      "---  ------       --------------  -----  \n",
      " 0   yob          928 non-null    float64\n",
      " 1   gender       928 non-null    object \n",
      " 2   ethnicity_x  928 non-null    object \n",
      " 3   first_name   4251 non-null   object \n",
      " 4   count        928 non-null    float64\n",
      " 5   rank         928 non-null    float64\n",
      " 6   firstname    4251 non-null   object \n",
      " 7   obs          4251 non-null   int64  \n",
      " 8   pcthispanic  4251 non-null   float64\n",
      " 9   pctwhite     4251 non-null   float64\n",
      " 10  pctblack     4251 non-null   float64\n",
      " 11  pctapi       4251 non-null   float64\n",
      " 12  pctaian      4251 non-null   float64\n",
      " 13  pct2prace    4251 non-null   float64\n",
      " 14  Unnamed: 8   0 non-null      float64\n",
      " 15  ethnicity_y  4251 non-null   object \n",
      "dtypes: float64(10), int64(1), object(5)\n",
      "memory usage: 564.6+ KB\n"
     ]
    }
   ],
   "source": [
    "baby_nyc_nodup.merge(baby_harvard, on='first_name',how='right').info()"
   ]
  },
  {
   "cell_type": "markdown",
   "id": "33e0a9d2-b3e4-403d-a5b9-4002e2ac1621",
   "metadata": {
    "user_expressions": []
   },
   "source": [
    "### Dataset: 538/Census"
   ]
  },
  {
   "cell_type": "markdown",
   "id": "288d7f25-b895-4e83-9c81-d6645495fd93",
   "metadata": {
    "user_expressions": []
   },
   "source": [
    "The census dataset is laid out in the same manner as the Harvard dataset, however some values are depicted as `(S)`. After reading the excel sheet it can be assumed that these values are very close to 0, and masked to protect the identity of survey responders."
   ]
  },
  {
   "cell_type": "code",
   "execution_count": 35,
   "id": "9736f1e4-b226-4f90-be28-a0c98ab85232",
   "metadata": {},
   "outputs": [],
   "source": [
    "# NOTE: \"(S)\" means assumed to be NaN\n",
    "surnames = pd.read_csv(f\"{data_loc}/538_most_common/surnames.csv\", na_values='(S)')"
   ]
  },
  {
   "cell_type": "code",
   "execution_count": 36,
   "id": "bec6b5e3-575d-4412-ab02-003e6c0207a9",
   "metadata": {},
   "outputs": [],
   "source": [
    "ethnicity_dict = {\n",
    "    'pcthispanic':'HISPANIC',\n",
    "    'pctwhite':'WHITE NON HISPANIC',\n",
    "    'pctblack':'BLACK NON HISPANIC',\n",
    "    'pctapi':'ASIAN AND PACIFIC ISLANDER',\n",
    "    'pctaian':'ASIAN AND PACIFIC ISLANDER',\n",
    "    'pct2prace':'MULTI ETHNIC'\n",
    "}"
   ]
  },
  {
   "cell_type": "code",
   "execution_count": 37,
   "id": "dd9fbe47-a191-4fce-8c76-081792c7e655",
   "metadata": {},
   "outputs": [
    {
     "data": {
      "text/plain": [
       "['pctwhite', 'pctblack', 'pctapi', 'pctaian', 'pct2prace', 'pcthispanic']"
      ]
     },
     "execution_count": 37,
     "metadata": {},
     "output_type": "execute_result"
    }
   ],
   "source": [
    "pct_ethnic = [col for col in surnames.columns if 'pct' in col]\n",
    "pct_ethnic"
   ]
  },
  {
   "cell_type": "markdown",
   "id": "73004fc0-6391-40eb-ab27-7c53bd4bba37",
   "metadata": {
    "user_expressions": []
   },
   "source": [
    "The same strategy is used as for the Harvard dataset:\n",
    "\n",
    "1. Select the ethnicity label with the highest percentage value\n",
    "1. Reap the label to match those of the NYC dataset"
   ]
  },
  {
   "cell_type": "code",
   "execution_count": 38,
   "id": "726d5967-2187-4536-8eb8-6e2f49a190ce",
   "metadata": {},
   "outputs": [],
   "source": [
    "surnames['ethnicity'] = surnames[pct_ethnic].idxmax(axis=1)\n",
    "surnames['ethnicity'] = surnames['ethnicity'].map(ethnicity_dict)"
   ]
  },
  {
   "cell_type": "code",
   "execution_count": 39,
   "id": "389dfec6-7c1d-4efd-b10f-a0fc5e0083c7",
   "metadata": {},
   "outputs": [
    {
     "name": "stderr",
     "output_type": "stream",
     "text": [
      "<ipython-input-12-6016406696e0>:2: FutureWarning: The default value of regex will change from True to False in a future version.\n",
      "  return my_series.str.replace('[^a-zA-Z]','')\n"
     ]
    },
    {
     "data": {
      "text/html": [
       "<div>\n",
       "<style scoped>\n",
       "    .dataframe tbody tr th:only-of-type {\n",
       "        vertical-align: middle;\n",
       "    }\n",
       "\n",
       "    .dataframe tbody tr th {\n",
       "        vertical-align: top;\n",
       "    }\n",
       "\n",
       "    .dataframe thead th {\n",
       "        text-align: right;\n",
       "    }\n",
       "</style>\n",
       "<table border=\"1\" class=\"dataframe\">\n",
       "  <thead>\n",
       "    <tr style=\"text-align: right;\">\n",
       "      <th></th>\n",
       "      <th>name</th>\n",
       "      <th>rank</th>\n",
       "      <th>count</th>\n",
       "      <th>prop100k</th>\n",
       "      <th>cum_prop100k</th>\n",
       "      <th>pctwhite</th>\n",
       "      <th>pctblack</th>\n",
       "      <th>pctapi</th>\n",
       "      <th>pctaian</th>\n",
       "      <th>pct2prace</th>\n",
       "      <th>pcthispanic</th>\n",
       "      <th>ethnicity</th>\n",
       "      <th>surname</th>\n",
       "    </tr>\n",
       "  </thead>\n",
       "  <tbody>\n",
       "    <tr>\n",
       "      <th>0</th>\n",
       "      <td>SMITH</td>\n",
       "      <td>1</td>\n",
       "      <td>2376206</td>\n",
       "      <td>880.85</td>\n",
       "      <td>880.85</td>\n",
       "      <td>73.35</td>\n",
       "      <td>22.22</td>\n",
       "      <td>0.40</td>\n",
       "      <td>0.85</td>\n",
       "      <td>1.63</td>\n",
       "      <td>1.56</td>\n",
       "      <td>WHITE NON HISPANIC</td>\n",
       "      <td>smith</td>\n",
       "    </tr>\n",
       "    <tr>\n",
       "      <th>1</th>\n",
       "      <td>JOHNSON</td>\n",
       "      <td>2</td>\n",
       "      <td>1857160</td>\n",
       "      <td>688.44</td>\n",
       "      <td>1569.30</td>\n",
       "      <td>61.55</td>\n",
       "      <td>33.80</td>\n",
       "      <td>0.42</td>\n",
       "      <td>0.91</td>\n",
       "      <td>1.82</td>\n",
       "      <td>1.50</td>\n",
       "      <td>WHITE NON HISPANIC</td>\n",
       "      <td>johnson</td>\n",
       "    </tr>\n",
       "  </tbody>\n",
       "</table>\n",
       "</div>"
      ],
      "text/plain": [
       "      name  rank    count  prop100k  cum_prop100k  pctwhite  pctblack  pctapi  \\\n",
       "0    SMITH     1  2376206    880.85        880.85     73.35     22.22    0.40   \n",
       "1  JOHNSON     2  1857160    688.44       1569.30     61.55     33.80    0.42   \n",
       "\n",
       "   pctaian  pct2prace  pcthispanic           ethnicity  surname  \n",
       "0     0.85       1.63         1.56  WHITE NON HISPANIC    smith  \n",
       "1     0.91       1.82         1.50  WHITE NON HISPANIC  johnson  "
      ]
     },
     "execution_count": 39,
     "metadata": {},
     "output_type": "execute_result"
    }
   ],
   "source": [
    "surnames['surname'] = keep_only_abc(surnames['name'].str.lower())\n",
    "surnames.head(2)"
   ]
  },
  {
   "cell_type": "markdown",
   "id": "27cec9ff-6a13-4b8b-99d1-a0aa8008e5d8",
   "metadata": {
    "user_expressions": []
   },
   "source": [
    "### Dataset: all names"
   ]
  },
  {
   "cell_type": "markdown",
   "id": "de11062b-b879-4883-9d4c-1a0814c1d100",
   "metadata": {
    "user_expressions": []
   },
   "source": [
    "Now comes the merging of datasets, let's see how many names we were able to estimate ethnicity for!"
   ]
  },
  {
   "cell_type": "code",
   "execution_count": 40,
   "id": "2c0f614a-d242-45b3-a502-ac654185ff57",
   "metadata": {},
   "outputs": [],
   "source": [
    "def calculate_num_names_left(dataset):\n",
    "    '''\n",
    "    Purely for informational purposes\n",
    "    '''\n",
    "    res = dataset.drop_duplicates(subset=['first_name', 'surname'], keep='first')['ethnicity'].isna()\n",
    "    nans = res.sum()\n",
    "    total = len(res)\n",
    "    print(f\"There are {nans} out of a total {total} non-duplicate names still without an assigned ethnicity\")\n",
    "    return None"
   ]
  },
  {
   "cell_type": "code",
   "execution_count": 53,
   "id": "f71db4af-d9a4-47fa-80e6-42e5c7e25145",
   "metadata": {},
   "outputs": [],
   "source": [
    "def combine_ethnicity_columns(dataset):\n",
    "    '''\n",
    "    Combines all columns that contain ethnicity data into one column, giving\n",
    "    preference in abc order of column name so that W > X > Y\n",
    "    '''\n",
    "    ethnicity_columns = [col for col in dataset.columns if 'ethnicity' in col]\n",
    "    if 'ethnicity' in ethnicity_columns:\n",
    "        ethnicity_columns.remove('ethnicity')\n",
    "    # preference will be given to the alphabetically first col\n",
    "    ethnicity_columns.sort()\n",
    "    dataset['ethnicity'] = dataset[ethnicity_columns[0]].copy()\n",
    "    for i in range(len(ethnicity_columns)):\n",
    "        if i == len(ethnicity_columns)-1:\n",
    "            # drop the extra columns that are no longer needed\n",
    "            return dataset.drop(ethnicity_columns, axis=1)\n",
    "        # first instance was copied, so this time it's skipped and filled with\n",
    "        # the other sources\n",
    "        dataset['ethnicity'] = dataset['ethnicity'].fillna(dataset[ethnicity_columns[i+1]])"
   ]
  },
  {
   "cell_type": "markdown",
   "id": "0f81a86b-104d-4279-a28f-84d9a9c6db4c",
   "metadata": {
    "user_expressions": []
   },
   "source": [
    "The Netflix dataset of actors/directors is standardized in the same manner as our other dataset with one exception:\n",
    "\n",
    "1. The some actors/directors have more than two words (Robert De Niro vs Jodie Foster) for a name\n",
    "1. For these, we will the third word as the last name (Niro)\n",
    "1. Any `nan` that pop up (they don't have a third word) will be filled in with the second word (Foster)"
   ]
  },
  {
   "cell_type": "code",
   "execution_count": 45,
   "id": "c787e357-eafa-4cb6-b674-227164ab6248",
   "metadata": {},
   "outputs": [
    {
     "name": "stderr",
     "output_type": "stream",
     "text": [
      "<ipython-input-12-6016406696e0>:2: FutureWarning: The default value of regex will change from True to False in a future version.\n",
      "  return my_series.str.replace('[^a-zA-Z]','')\n"
     ]
    },
    {
     "data": {
      "text/html": [
       "<div>\n",
       "<style scoped>\n",
       "    .dataframe tbody tr th:only-of-type {\n",
       "        vertical-align: middle;\n",
       "    }\n",
       "\n",
       "    .dataframe tbody tr th {\n",
       "        vertical-align: top;\n",
       "    }\n",
       "\n",
       "    .dataframe thead th {\n",
       "        text-align: right;\n",
       "    }\n",
       "</style>\n",
       "<table border=\"1\" class=\"dataframe\">\n",
       "  <thead>\n",
       "    <tr style=\"text-align: right;\">\n",
       "      <th></th>\n",
       "      <th>person_id</th>\n",
       "      <th>id</th>\n",
       "      <th>name</th>\n",
       "      <th>character</th>\n",
       "      <th>role</th>\n",
       "      <th>first_name</th>\n",
       "      <th>surname</th>\n",
       "    </tr>\n",
       "  </thead>\n",
       "  <tbody>\n",
       "    <tr>\n",
       "      <th>0</th>\n",
       "      <td>3748</td>\n",
       "      <td>tm84618</td>\n",
       "      <td>Robert De Niro</td>\n",
       "      <td>Travis Bickle</td>\n",
       "      <td>ACTOR</td>\n",
       "      <td>robert</td>\n",
       "      <td>niro</td>\n",
       "    </tr>\n",
       "    <tr>\n",
       "      <th>1</th>\n",
       "      <td>14658</td>\n",
       "      <td>tm84618</td>\n",
       "      <td>Jodie Foster</td>\n",
       "      <td>Iris Steensma</td>\n",
       "      <td>ACTOR</td>\n",
       "      <td>jodie</td>\n",
       "      <td>foster</td>\n",
       "    </tr>\n",
       "  </tbody>\n",
       "</table>\n",
       "</div>"
      ],
      "text/plain": [
       "   person_id       id            name      character   role first_name surname\n",
       "0       3748  tm84618  Robert De Niro  Travis Bickle  ACTOR     robert    niro\n",
       "1      14658  tm84618    Jodie Foster  Iris Steensma  ACTOR      jodie  foster"
      ]
     },
     "execution_count": 45,
     "metadata": {},
     "output_type": "execute_result"
    }
   ],
   "source": [
    "credits['first_name'] = credits['name'].str.split(' ', expand=True)[0].str.lower()\n",
    "credits['first_name'] = keep_only_abc(credits['first_name'])\n",
    "\n",
    "last_names = credits['name'].str.split(' ', expand=True)[[1,2]]\n",
    "credits['surname'] = last_names[2].fillna(last_names[1])\n",
    "credits['surname'] = keep_only_abc(credits['surname'].str.lower())\n",
    "credits.head(2)"
   ]
  },
  {
   "cell_type": "markdown",
   "id": "8c62372e-ced4-427f-b305-c3655e5b0239",
   "metadata": {
    "user_expressions": []
   },
   "source": [
    "Time to start merging! Will be done in order of priority:\n",
    "\n",
    "1. First the US Census dataset of last names\n",
    "1. Then the Harvard dataset of first names\n",
    "1. Finally, the NYC top 1000 dataset of first names"
   ]
  },
  {
   "cell_type": "code",
   "execution_count": 64,
   "id": "a169744f-86c1-43ee-a249-e8c6b076cd64",
   "metadata": {},
   "outputs": [
    {
     "data": {
      "text/html": [
       "<div>\n",
       "<style scoped>\n",
       "    .dataframe tbody tr th:only-of-type {\n",
       "        vertical-align: middle;\n",
       "    }\n",
       "\n",
       "    .dataframe tbody tr th {\n",
       "        vertical-align: top;\n",
       "    }\n",
       "\n",
       "    .dataframe thead th {\n",
       "        text-align: right;\n",
       "    }\n",
       "</style>\n",
       "<table border=\"1\" class=\"dataframe\">\n",
       "  <thead>\n",
       "    <tr style=\"text-align: right;\">\n",
       "      <th></th>\n",
       "      <th>person_id</th>\n",
       "      <th>id</th>\n",
       "      <th>name</th>\n",
       "      <th>character</th>\n",
       "      <th>role</th>\n",
       "      <th>first_name</th>\n",
       "      <th>surname</th>\n",
       "      <th>ethnicity</th>\n",
       "    </tr>\n",
       "  </thead>\n",
       "  <tbody>\n",
       "    <tr>\n",
       "      <th>0</th>\n",
       "      <td>3748</td>\n",
       "      <td>tm84618</td>\n",
       "      <td>Robert De Niro</td>\n",
       "      <td>Travis Bickle</td>\n",
       "      <td>ACTOR</td>\n",
       "      <td>robert</td>\n",
       "      <td>niro</td>\n",
       "      <td>WHITE NON HISPANIC</td>\n",
       "    </tr>\n",
       "    <tr>\n",
       "      <th>1</th>\n",
       "      <td>14658</td>\n",
       "      <td>tm84618</td>\n",
       "      <td>Jodie Foster</td>\n",
       "      <td>Iris Steensma</td>\n",
       "      <td>ACTOR</td>\n",
       "      <td>jodie</td>\n",
       "      <td>foster</td>\n",
       "      <td>WHITE NON HISPANIC</td>\n",
       "    </tr>\n",
       "  </tbody>\n",
       "</table>\n",
       "</div>"
      ],
      "text/plain": [
       "   person_id       id            name      character   role first_name  \\\n",
       "0       3748  tm84618  Robert De Niro  Travis Bickle  ACTOR     robert   \n",
       "1      14658  tm84618    Jodie Foster  Iris Steensma  ACTOR      jodie   \n",
       "\n",
       "  surname           ethnicity  \n",
       "0    niro  WHITE NON HISPANIC  \n",
       "1  foster  WHITE NON HISPANIC  "
      ]
     },
     "execution_count": 64,
     "metadata": {},
     "output_type": "execute_result"
    }
   ],
   "source": [
    "combined = credits.merge(surnames[['surname','ethnicity']], on='surname', how='left')\n",
    "combined.head(2)"
   ]
  },
  {
   "cell_type": "code",
   "execution_count": 65,
   "id": "811cfca0-5d11-4d7d-9742-ffb8a9bce810",
   "metadata": {},
   "outputs": [
    {
     "data": {
      "text/html": [
       "<div>\n",
       "<style scoped>\n",
       "    .dataframe tbody tr th:only-of-type {\n",
       "        vertical-align: middle;\n",
       "    }\n",
       "\n",
       "    .dataframe tbody tr th {\n",
       "        vertical-align: top;\n",
       "    }\n",
       "\n",
       "    .dataframe thead th {\n",
       "        text-align: right;\n",
       "    }\n",
       "</style>\n",
       "<table border=\"1\" class=\"dataframe\">\n",
       "  <thead>\n",
       "    <tr style=\"text-align: right;\">\n",
       "      <th></th>\n",
       "      <th>person_id</th>\n",
       "      <th>id</th>\n",
       "      <th>name</th>\n",
       "      <th>character</th>\n",
       "      <th>role</th>\n",
       "      <th>first_name</th>\n",
       "      <th>surname</th>\n",
       "      <th>ethnicity_W</th>\n",
       "      <th>ethnicity_X</th>\n",
       "    </tr>\n",
       "  </thead>\n",
       "  <tbody>\n",
       "    <tr>\n",
       "      <th>0</th>\n",
       "      <td>3748</td>\n",
       "      <td>tm84618</td>\n",
       "      <td>Robert De Niro</td>\n",
       "      <td>Travis Bickle</td>\n",
       "      <td>ACTOR</td>\n",
       "      <td>robert</td>\n",
       "      <td>niro</td>\n",
       "      <td>WHITE NON HISPANIC</td>\n",
       "      <td>WHITE NON HISPANIC</td>\n",
       "    </tr>\n",
       "    <tr>\n",
       "      <th>1</th>\n",
       "      <td>14658</td>\n",
       "      <td>tm84618</td>\n",
       "      <td>Jodie Foster</td>\n",
       "      <td>Iris Steensma</td>\n",
       "      <td>ACTOR</td>\n",
       "      <td>jodie</td>\n",
       "      <td>foster</td>\n",
       "      <td>WHITE NON HISPANIC</td>\n",
       "      <td>WHITE NON HISPANIC</td>\n",
       "    </tr>\n",
       "  </tbody>\n",
       "</table>\n",
       "</div>"
      ],
      "text/plain": [
       "   person_id       id            name      character   role first_name  \\\n",
       "0       3748  tm84618  Robert De Niro  Travis Bickle  ACTOR     robert   \n",
       "1      14658  tm84618    Jodie Foster  Iris Steensma  ACTOR      jodie   \n",
       "\n",
       "  surname         ethnicity_W         ethnicity_X  \n",
       "0    niro  WHITE NON HISPANIC  WHITE NON HISPANIC  \n",
       "1  foster  WHITE NON HISPANIC  WHITE NON HISPANIC  "
      ]
     },
     "execution_count": 65,
     "metadata": {},
     "output_type": "execute_result"
    }
   ],
   "source": [
    "combined = combined.merge(baby_harvard[['first_name','ethnicity']], \n",
    "                          on='first_name', \n",
    "                          how='left',\n",
    "                          suffixes=('_W','_X'))\n",
    "combined.head(2)"
   ]
  },
  {
   "cell_type": "code",
   "execution_count": 66,
   "id": "96639d3e-de36-4230-9293-57ee8c6235ee",
   "metadata": {},
   "outputs": [
    {
     "data": {
      "text/html": [
       "<div>\n",
       "<style scoped>\n",
       "    .dataframe tbody tr th:only-of-type {\n",
       "        vertical-align: middle;\n",
       "    }\n",
       "\n",
       "    .dataframe tbody tr th {\n",
       "        vertical-align: top;\n",
       "    }\n",
       "\n",
       "    .dataframe thead th {\n",
       "        text-align: right;\n",
       "    }\n",
       "</style>\n",
       "<table border=\"1\" class=\"dataframe\">\n",
       "  <thead>\n",
       "    <tr style=\"text-align: right;\">\n",
       "      <th></th>\n",
       "      <th>person_id</th>\n",
       "      <th>id</th>\n",
       "      <th>name</th>\n",
       "      <th>character</th>\n",
       "      <th>role</th>\n",
       "      <th>first_name</th>\n",
       "      <th>surname</th>\n",
       "      <th>ethnicity_W</th>\n",
       "      <th>ethnicity_X</th>\n",
       "      <th>ethnicity_Y</th>\n",
       "    </tr>\n",
       "  </thead>\n",
       "  <tbody>\n",
       "    <tr>\n",
       "      <th>0</th>\n",
       "      <td>3748</td>\n",
       "      <td>tm84618</td>\n",
       "      <td>Robert De Niro</td>\n",
       "      <td>Travis Bickle</td>\n",
       "      <td>ACTOR</td>\n",
       "      <td>robert</td>\n",
       "      <td>niro</td>\n",
       "      <td>WHITE NON HISPANIC</td>\n",
       "      <td>WHITE NON HISPANIC</td>\n",
       "      <td>WHITE NON HISPANIC</td>\n",
       "    </tr>\n",
       "    <tr>\n",
       "      <th>1</th>\n",
       "      <td>14658</td>\n",
       "      <td>tm84618</td>\n",
       "      <td>Jodie Foster</td>\n",
       "      <td>Iris Steensma</td>\n",
       "      <td>ACTOR</td>\n",
       "      <td>jodie</td>\n",
       "      <td>foster</td>\n",
       "      <td>WHITE NON HISPANIC</td>\n",
       "      <td>WHITE NON HISPANIC</td>\n",
       "      <td>NaN</td>\n",
       "    </tr>\n",
       "  </tbody>\n",
       "</table>\n",
       "</div>"
      ],
      "text/plain": [
       "   person_id       id            name      character   role first_name  \\\n",
       "0       3748  tm84618  Robert De Niro  Travis Bickle  ACTOR     robert   \n",
       "1      14658  tm84618    Jodie Foster  Iris Steensma  ACTOR      jodie   \n",
       "\n",
       "  surname         ethnicity_W         ethnicity_X         ethnicity_Y  \n",
       "0    niro  WHITE NON HISPANIC  WHITE NON HISPANIC  WHITE NON HISPANIC  \n",
       "1  foster  WHITE NON HISPANIC  WHITE NON HISPANIC                 NaN  "
      ]
     },
     "execution_count": 66,
     "metadata": {},
     "output_type": "execute_result"
    }
   ],
   "source": [
    "combined = combined.merge(baby_nyc_nodup[['first_name','ethnicity']], on='first_name', how='left')\n",
    "# rename to allow function to prioritize sources\n",
    "combined['ethnicity_Y'] = combined['ethnicity']\n",
    "combined = combined.drop('ethnicity', axis=1)\n",
    "combined.head(2)"
   ]
  },
  {
   "cell_type": "markdown",
   "id": "4c6e0b0b-b0a8-4e24-a065-937a385283fe",
   "metadata": {
    "user_expressions": []
   },
   "source": [
    "We now have 3 ethincity variables, ranked so that W > X > Y in priority. These will be combined into one `ethnicity` variable using the `combine_ethnicity_columns` function. It's logic is:\n",
    "\n",
    "1. US Census dataset is used as base ethnicity estimate\n",
    "1. Any `nan` in the US Census is filled with Harvard dataset estimates\n",
    "1. Any leftover `nan` are filled in with the NYC dataset estimates"
   ]
  },
  {
   "cell_type": "code",
   "execution_count": 67,
   "id": "077a07e2-4b7f-4c28-a639-b52afc1265c9",
   "metadata": {},
   "outputs": [
    {
     "data": {
      "text/html": [
       "<div>\n",
       "<style scoped>\n",
       "    .dataframe tbody tr th:only-of-type {\n",
       "        vertical-align: middle;\n",
       "    }\n",
       "\n",
       "    .dataframe tbody tr th {\n",
       "        vertical-align: top;\n",
       "    }\n",
       "\n",
       "    .dataframe thead th {\n",
       "        text-align: right;\n",
       "    }\n",
       "</style>\n",
       "<table border=\"1\" class=\"dataframe\">\n",
       "  <thead>\n",
       "    <tr style=\"text-align: right;\">\n",
       "      <th></th>\n",
       "      <th>person_id</th>\n",
       "      <th>id</th>\n",
       "      <th>name</th>\n",
       "      <th>character</th>\n",
       "      <th>role</th>\n",
       "      <th>first_name</th>\n",
       "      <th>surname</th>\n",
       "      <th>ethnicity</th>\n",
       "    </tr>\n",
       "  </thead>\n",
       "  <tbody>\n",
       "    <tr>\n",
       "      <th>3441</th>\n",
       "      <td>230153</td>\n",
       "      <td>tm12499</td>\n",
       "      <td>Elaine Corral Kendall</td>\n",
       "      <td>Newscaster</td>\n",
       "      <td>ACTOR</td>\n",
       "      <td>elaine</td>\n",
       "      <td>kendall</td>\n",
       "      <td>WHITE NON HISPANIC</td>\n",
       "    </tr>\n",
       "    <tr>\n",
       "      <th>48401</th>\n",
       "      <td>16731</td>\n",
       "      <td>tm458585</td>\n",
       "      <td>Craig Brewer</td>\n",
       "      <td>NaN</td>\n",
       "      <td>DIRECTOR</td>\n",
       "      <td>craig</td>\n",
       "      <td>brewer</td>\n",
       "      <td>WHITE NON HISPANIC</td>\n",
       "    </tr>\n",
       "  </tbody>\n",
       "</table>\n",
       "</div>"
      ],
      "text/plain": [
       "       person_id        id                   name   character      role  \\\n",
       "3441      230153   tm12499  Elaine Corral Kendall  Newscaster     ACTOR   \n",
       "48401      16731  tm458585           Craig Brewer         NaN  DIRECTOR   \n",
       "\n",
       "      first_name  surname           ethnicity  \n",
       "3441      elaine  kendall  WHITE NON HISPANIC  \n",
       "48401      craig   brewer  WHITE NON HISPANIC  "
      ]
     },
     "execution_count": 67,
     "metadata": {},
     "output_type": "execute_result"
    }
   ],
   "source": [
    "# merge columns and remove unneeded ones\n",
    "combined = combine_ethnicity_columns(combined)\n",
    "combined.sample(2, random_state=62)"
   ]
  },
  {
   "cell_type": "markdown",
   "id": "9f41ec4f-5671-40c1-8e61-2a1f312447f9",
   "metadata": {
    "user_expressions": []
   },
   "source": [
    "Just a double check of how many names are left unassigned to ethnicities using the `calculate_num_names_left` function"
   ]
  },
  {
   "cell_type": "code",
   "execution_count": 69,
   "id": "4616ad20-03e3-4311-8ceb-8376c9c11d53",
   "metadata": {},
   "outputs": [
    {
     "name": "stdout",
     "output_type": "stream",
     "text": [
      "There are 7022 out of a total 53450 non-duplicate names still without an assigned ethnicity\n"
     ]
    }
   ],
   "source": [
    "ethn_na = calculate_num_names_left(combined)"
   ]
  },
  {
   "cell_type": "markdown",
   "id": "b3989c54-2e2e-40d4-94d6-eb27d5554e35",
   "metadata": {
    "user_expressions": []
   },
   "source": [
    "Finally, let's merge our names dataset with the titles dataset while keeping only the desired variables from names:\n",
    "\n",
    "1. ID (to merge on)\n",
    "1. Name (just in case)\n",
    "1. Role (just in case)\n",
    "1. Ethnicity (for ML)"
   ]
  },
  {
   "cell_type": "code",
   "execution_count": 70,
   "id": "2c4c88ab-d1f0-4b72-a7ab-161e344b8e69",
   "metadata": {},
   "outputs": [],
   "source": [
    "# we dont need any of these columns, since the sole purpose was to estimate the\n",
    "# actor ethnicities and then merge that info with our movies dataset\n",
    "combined = combined[['id','name','role','ethnicity']].merge(titles_dummies, how='right')"
   ]
  },
  {
   "cell_type": "code",
   "execution_count": 71,
   "id": "7f9c2447-0743-4642-9eff-2690a43ba73b",
   "metadata": {},
   "outputs": [
    {
     "data": {
      "text/html": [
       "<div>\n",
       "<style scoped>\n",
       "    .dataframe tbody tr th:only-of-type {\n",
       "        vertical-align: middle;\n",
       "    }\n",
       "\n",
       "    .dataframe tbody tr th {\n",
       "        vertical-align: top;\n",
       "    }\n",
       "\n",
       "    .dataframe thead th {\n",
       "        text-align: right;\n",
       "    }\n",
       "</style>\n",
       "<table border=\"1\" class=\"dataframe\">\n",
       "  <thead>\n",
       "    <tr style=\"text-align: right;\">\n",
       "      <th></th>\n",
       "      <th>id</th>\n",
       "      <th>name</th>\n",
       "      <th>role</th>\n",
       "      <th>ethnicity</th>\n",
       "      <th>title</th>\n",
       "      <th>type</th>\n",
       "      <th>description</th>\n",
       "      <th>release_year</th>\n",
       "      <th>age_certification</th>\n",
       "      <th>runtime</th>\n",
       "      <th>...</th>\n",
       "      <th>TZ</th>\n",
       "      <th>UA</th>\n",
       "      <th>US</th>\n",
       "      <th>UY</th>\n",
       "      <th>VA</th>\n",
       "      <th>VE</th>\n",
       "      <th>VN</th>\n",
       "      <th>XX</th>\n",
       "      <th>ZA</th>\n",
       "      <th>ZW</th>\n",
       "    </tr>\n",
       "  </thead>\n",
       "  <tbody>\n",
       "    <tr>\n",
       "      <th>0</th>\n",
       "      <td>ts300399</td>\n",
       "      <td>NaN</td>\n",
       "      <td>NaN</td>\n",
       "      <td>NaN</td>\n",
       "      <td>Five Came Back: The Reference Films</td>\n",
       "      <td>SHOW</td>\n",
       "      <td>This collection includes 12 World War II-era p...</td>\n",
       "      <td>1945</td>\n",
       "      <td>TV-MA</td>\n",
       "      <td>48</td>\n",
       "      <td>...</td>\n",
       "      <td>0</td>\n",
       "      <td>0</td>\n",
       "      <td>1</td>\n",
       "      <td>0</td>\n",
       "      <td>0</td>\n",
       "      <td>0</td>\n",
       "      <td>0</td>\n",
       "      <td>0</td>\n",
       "      <td>0</td>\n",
       "      <td>0</td>\n",
       "    </tr>\n",
       "    <tr>\n",
       "      <th>1</th>\n",
       "      <td>tm84618</td>\n",
       "      <td>Robert De Niro</td>\n",
       "      <td>ACTOR</td>\n",
       "      <td>WHITE NON HISPANIC</td>\n",
       "      <td>Taxi Driver</td>\n",
       "      <td>MOVIE</td>\n",
       "      <td>A mentally unstable Vietnam War veteran works ...</td>\n",
       "      <td>1976</td>\n",
       "      <td>R</td>\n",
       "      <td>113</td>\n",
       "      <td>...</td>\n",
       "      <td>0</td>\n",
       "      <td>0</td>\n",
       "      <td>1</td>\n",
       "      <td>0</td>\n",
       "      <td>0</td>\n",
       "      <td>0</td>\n",
       "      <td>0</td>\n",
       "      <td>0</td>\n",
       "      <td>0</td>\n",
       "      <td>0</td>\n",
       "    </tr>\n",
       "  </tbody>\n",
       "</table>\n",
       "<p>2 rows × 144 columns</p>\n",
       "</div>"
      ],
      "text/plain": [
       "         id            name   role           ethnicity  \\\n",
       "0  ts300399             NaN    NaN                 NaN   \n",
       "1   tm84618  Robert De Niro  ACTOR  WHITE NON HISPANIC   \n",
       "\n",
       "                                 title   type  \\\n",
       "0  Five Came Back: The Reference Films   SHOW   \n",
       "1                          Taxi Driver  MOVIE   \n",
       "\n",
       "                                         description  release_year  \\\n",
       "0  This collection includes 12 World War II-era p...          1945   \n",
       "1  A mentally unstable Vietnam War veteran works ...          1976   \n",
       "\n",
       "  age_certification  runtime  ... TZ UA  US UY  VA  VE  VN  XX  ZA  ZW  \n",
       "0             TV-MA       48  ...  0  0   1  0   0   0   0   0   0   0  \n",
       "1                 R      113  ...  0  0   1  0   0   0   0   0   0   0  \n",
       "\n",
       "[2 rows x 144 columns]"
      ]
     },
     "execution_count": 71,
     "metadata": {},
     "output_type": "execute_result"
    }
   ],
   "source": [
    "combined.head(2)"
   ]
  },
  {
   "cell_type": "markdown",
   "id": "f1dec956-188e-41f2-a4f0-43e0a9372a73",
   "metadata": {
    "user_expressions": []
   },
   "source": [
    "## Feature Engineering: Decades"
   ]
  },
  {
   "cell_type": "markdown",
   "id": "38446fb9-48e2-40b9-bfdd-1bab6e06891e",
   "metadata": {
    "user_expressions": []
   },
   "source": [
    "The `released_year` variable includes all years from 1940-2022. To make EDA and visualization easier, these will be bucketed into decades"
   ]
  },
  {
   "cell_type": "code",
   "execution_count": 72,
   "id": "84212682-fcf3-4b09-bab5-3f13899ae37f",
   "metadata": {},
   "outputs": [],
   "source": [
    "def create_decades(my_series: pd.Series)->pd.Series:\n",
    "    labeled_series = pd.cut(\n",
    "        my_series,\n",
    "        bins=[1940,1950,1960,1970,1980,1990,2000,2010,2020,2030],\n",
    "        labels=['40s','50s','60s','70s','80s','90s','00s','10s','20s']\n",
    "    )\n",
    "    return labeled_series"
   ]
  },
  {
   "cell_type": "code",
   "execution_count": 74,
   "id": "56cf3bfc-4e48-43ad-ba30-43e1aacb2a37",
   "metadata": {},
   "outputs": [],
   "source": [
    "combined['decades'] = create_decades(combined['release_year'])"
   ]
  },
  {
   "cell_type": "markdown",
   "id": "85243bf4-5a0c-4b2c-af29-bb333e0c5563",
   "metadata": {
    "user_expressions": []
   },
   "source": [
    "### EDA: Ethnicity across the decades"
   ]
  },
  {
   "cell_type": "code",
   "execution_count": 76,
   "id": "5d1fbafe-f60d-47f9-804d-a5db76b0e78e",
   "metadata": {},
   "outputs": [
    {
     "data": {
      "text/plain": [
       "id         ethnicity                 \n",
       "tm1063792  WHITE NON HISPANIC              0\n",
       "tm1000037  BLACK NON HISPANIC              1\n",
       "ts219895   BLACK NON HISPANIC              1\n",
       "tm332500   BLACK NON HISPANIC              1\n",
       "ts21981    ASIAN AND PACIFIC ISLANDER      1\n",
       "                                        ... \n",
       "tm467467   WHITE NON HISPANIC            105\n",
       "tm158304   WHITE NON HISPANIC            113\n",
       "tm84613    WHITE NON HISPANIC            139\n",
       "tm244149   WHITE NON HISPANIC            162\n",
       "tm32982    WHITE NON HISPANIC            198\n",
       "Name: title, Length: 10311, dtype: int64"
      ]
     },
     "execution_count": 76,
     "metadata": {},
     "output_type": "execute_result"
    }
   ],
   "source": [
    "# this df is solely so that we can plot the number of ethnicities per title\n",
    "temp_df = combined.drop_duplicates(subset=['id','name'])[['id','name','decades','ethnicity','title','role']]\n",
    "temp_df.groupby(['id','ethnicity']).count()['title'].sort_values()"
   ]
  },
  {
   "cell_type": "code",
   "execution_count": 79,
   "id": "0cbbea34-8fab-4c5b-9204-584119b35b8e",
   "metadata": {},
   "outputs": [
    {
     "data": {
      "text/html": [
       "<div>\n",
       "<style scoped>\n",
       "    .dataframe tbody tr th:only-of-type {\n",
       "        vertical-align: middle;\n",
       "    }\n",
       "\n",
       "    .dataframe tbody tr th {\n",
       "        vertical-align: top;\n",
       "    }\n",
       "\n",
       "    .dataframe thead th {\n",
       "        text-align: right;\n",
       "    }\n",
       "</style>\n",
       "<table border=\"1\" class=\"dataframe\">\n",
       "  <thead>\n",
       "    <tr style=\"text-align: right;\">\n",
       "      <th></th>\n",
       "      <th>id</th>\n",
       "      <th>name</th>\n",
       "      <th>decades</th>\n",
       "      <th>ethnicity</th>\n",
       "      <th>title</th>\n",
       "      <th>role</th>\n",
       "    </tr>\n",
       "  </thead>\n",
       "  <tbody>\n",
       "    <tr>\n",
       "      <th>13352</th>\n",
       "      <td>tm152413</td>\n",
       "      <td>Jaclyn Victor</td>\n",
       "      <td>00s</td>\n",
       "      <td>WHITE NON HISPANIC</td>\n",
       "      <td>Talentime</td>\n",
       "      <td>ACTOR</td>\n",
       "    </tr>\n",
       "    <tr>\n",
       "      <th>63564</th>\n",
       "      <td>tm457410</td>\n",
       "      <td>Ekin Türkmen</td>\n",
       "      <td>10s</td>\n",
       "      <td>NaN</td>\n",
       "      <td>Money Trap</td>\n",
       "      <td>ACTOR</td>\n",
       "    </tr>\n",
       "  </tbody>\n",
       "</table>\n",
       "</div>"
      ],
      "text/plain": [
       "             id           name decades           ethnicity       title   role\n",
       "13352  tm152413  Jaclyn Victor     00s  WHITE NON HISPANIC   Talentime  ACTOR\n",
       "63564  tm457410   Ekin Türkmen     10s                 NaN  Money Trap  ACTOR"
      ]
     },
     "execution_count": 79,
     "metadata": {},
     "output_type": "execute_result"
    }
   ],
   "source": [
    "temp_df.sample(2)"
   ]
  },
  {
   "cell_type": "code",
   "execution_count": 73,
   "id": "2d4c7f76-be51-4559-8d8f-54a3c28ff7bb",
   "metadata": {},
   "outputs": [],
   "source": [
    "def add_subtext_to_plot(text, ax, y_loc):\n",
    "    ax.text(x=0.5, y=y_loc, \n",
    "            s=text, \n",
    "            fontsize=10, \n",
    "            alpha=0.75, \n",
    "            ha='center', \n",
    "            va='bottom', \n",
    "            transform=ax.transAxes)"
   ]
  },
  {
   "cell_type": "code",
   "execution_count": 80,
   "id": "d7104fcd-671d-468c-9e60-5eb1cd7fe5e9",
   "metadata": {},
   "outputs": [
    {
     "data": {
      "text/plain": [
       "Text(0.5, 0, 'Decade')"
      ]
     },
     "execution_count": 80,
     "metadata": {},
     "output_type": "execute_result"
    },
    {
     "data": {
      "image/png": "[encoded data removed]",
      "text/plain": [
       "<Figure size 432x288 with 1 Axes>"
      ]
     },
     "metadata": {
      "needs_background": "light"
     },
     "output_type": "display_data"
    }
   ],
   "source": [
    "ax = sns.histplot(x='decades', data=temp_df, hue='ethnicity', \n",
    "             stat='percent',shrink = 0.8, common_norm=False,\n",
    "             multiple='fill'\n",
    "            )\n",
    "sns.move_legend(ax, bbox_to_anchor=(1,0.9),loc='upper left')\n",
    "row1 = f'NOTE: ethnicity estimated based on surname then first name.'\n",
    "row2 = f'{((53450-7022)/53450) * 100:.1f}% of unique names have ethnicity estimation, but 7022 do not.'\n",
    "add_subtext_to_plot(row1, ax, -0.2)\n",
    "add_subtext_to_plot(row2, ax, -0.25)\n",
    "plt.title(\"Ethnicity distribution across the decades\")\n",
    "plt.xlabel(\"Decade\")"
   ]
  },
  {
   "cell_type": "code",
   "execution_count": 59,
   "id": "f16d62fc-82a4-423a-9ca8-557dde409cfb",
   "metadata": {},
   "outputs": [
    {
     "data": {
      "text/plain": [
       "Text(0.5, 1.0, 'Employee ethnicity in films industry based on Netflix catalogue')"
      ]
     },
     "execution_count": 59,
     "metadata": {},
     "output_type": "execute_result"
    },
    {
     "data": {
      "image/png": "[encoded data removed]",
      "text/plain": [
       "<Figure size 432x288 with 1 Axes>"
      ]
     },
     "metadata": {
      "needs_background": "light"
     },
     "output_type": "display_data"
    }
   ],
   "source": [
    "sns.histplot(x='ethnicity', data=temp_df, stat='percent',hue='role', multiple='dodge', common_norm=False)\n",
    "plt.ylim(0,100)\n",
    "plt.xticks(horizontalalignment='right', rotation=45)\n",
    "plt.title('Employee ethnicity in films industry based on Netflix catalogue')"
   ]
  },
  {
   "cell_type": "markdown",
   "id": "2189aa6c-aaaa-4714-803a-35beeeccdc8f",
   "metadata": {
    "user_expressions": []
   },
   "source": [
    "Looks like there is an equal distribution of ethnicities across roles, however White ethnicities make up 60% of all ethnicities overall."
   ]
  },
  {
   "cell_type": "markdown",
   "id": "97dc4649-6476-4b6c-a4aa-64ef994a68e2",
   "metadata": {
    "user_expressions": []
   },
   "source": [
    "## Feature Engineering: Sentiment Scores"
   ]
  },
  {
   "cell_type": "markdown",
   "id": "b2ea176a-4b0f-457e-819a-0164cf18719c",
   "metadata": {
    "user_expressions": []
   },
   "source": [
    "Did the way descriptions and titles were written change across decades? Have they become more evocative? To answer that question, and to include this information in our model, sentiment scores for titles and descriptions using `spacy` is found."
   ]
  },
  {
   "cell_type": "code",
   "execution_count": 81,
   "id": "224b5f36-bee5-482f-a4ef-ea6029c18a76",
   "metadata": {},
   "outputs": [],
   "source": [
    "nlp = spacy.load('en_core_web_sm')\n",
    "nlp.add_pipe('spacytextblob')\n",
    "\n",
    "def get_sentiment_score(text):\n",
    "    '''\n",
    "    Uses spacy to get the sentiment score of a blob of text\n",
    "    '''\n",
    "    if type(text) != str:\n",
    "        return text\n",
    "    \n",
    "    doc = nlp(text)\n",
    "    sentiment = doc._.blob.polarity\n",
    "    \n",
    "    return sentiment"
   ]
  },
  {
   "cell_type": "code",
   "execution_count": 82,
   "id": "e6476ebd-3ec7-4f64-8bc0-3f059adbae2c",
   "metadata": {},
   "outputs": [],
   "source": [
    "def label_sentiment_score(score):\n",
    "    if score > 0:\n",
    "        return 'positive'\n",
    "    elif score < 0:\n",
    "        return 'negative'\n",
    "    else:\n",
    "        return 'neutral'"
   ]
  },
  {
   "cell_type": "code",
   "execution_count": 84,
   "id": "f2531454-f539-475f-8b8d-e2931328e029",
   "metadata": {},
   "outputs": [
    {
     "data": {
      "application/vnd.jupyter.widget-view+json": {
       "model_id": "5ff101a2f96f4478a0782610b0503700",
       "version_major": 2,
       "version_minor": 0
      },
      "text/plain": [
       "  0%|          | 0/77585 [00:00<?, ?it/s]"
      ]
     },
     "metadata": {},
     "output_type": "display_data"
    },
    {
     "data": {
      "application/vnd.jupyter.widget-view+json": {
       "model_id": "5abc506ee5fa42ffacb8c9eba3deba04",
       "version_major": 2,
       "version_minor": 0
      },
      "text/plain": [
       "  0%|          | 0/77585 [00:00<?, ?it/s]"
      ]
     },
     "metadata": {},
     "output_type": "display_data"
    },
    {
     "name": "stdout",
     "output_type": "stream",
     "text": [
      "CPU times: user 15min 11s, sys: 2.67 s, total: 15min 13s\n",
      "Wall time: 15min 16s\n"
     ]
    }
   ],
   "source": [
    "%%time\n",
    "\n",
    "# NOTE: progress_apply function from tqdm is used to allow for a progress bar. This will take a while.\n",
    "combined['sentiment_score'] = combined['description'].progress_apply(get_sentiment_score)\n",
    "combined['sentiment'] = combined['sentiment_score'].progress_apply(label_sentiment_score)"
   ]
  },
  {
   "cell_type": "code",
   "execution_count": 85,
   "id": "32c45b4d-24ca-4925-ad4b-2df8fe06c2cc",
   "metadata": {},
   "outputs": [
    {
     "data": {
      "text/plain": [
       "Text(0.5, 1.0, 'Sentiment score of descriptions over the years')"
      ]
     },
     "execution_count": 85,
     "metadata": {},
     "output_type": "execute_result"
    },
    {
     "data": {
      "image/png": "[encoded data removed]",
      "text/plain": [
       "<Figure size 432x288 with 1 Axes>"
      ]
     },
     "metadata": {
      "needs_background": "light"
     },
     "output_type": "display_data"
    }
   ],
   "source": [
    "combined.groupby('release_year').mean().reset_index().plot('release_year','sentiment_score')\n",
    "plt.title(\"Sentiment score of descriptions over the years\")"
   ]
  },
  {
   "cell_type": "code",
   "execution_count": 86,
   "id": "e05927e9-c5dc-4598-bf05-e1818d76549e",
   "metadata": {},
   "outputs": [],
   "source": [
    "grpd_plt = combined.groupby('decades').count().reset_index()"
   ]
  },
  {
   "cell_type": "code",
   "execution_count": 87,
   "id": "bb578ab0-0054-403e-bcd2-e96498e59f32",
   "metadata": {},
   "outputs": [
    {
     "data": {
      "text/plain": [
       "Text(0.5, 1.0, 'Number of motion pictures from each decade')"
      ]
     },
     "execution_count": 87,
     "metadata": {},
     "output_type": "execute_result"
    },
    {
     "data": {
      "image/png": "[encoded data removed]",
      "text/plain": [
       "<Figure size 360x360 with 1 Axes>"
      ]
     },
     "metadata": {
      "needs_background": "light"
     },
     "output_type": "display_data"
    }
   ],
   "source": [
    "sns.catplot(x='decades', y='title', data=grpd_plt, kind='point')\n",
    "plt.title('Number of motion pictures from each decade')\n"
   ]
  },
  {
   "cell_type": "code",
   "execution_count": 88,
   "id": "e95e4704-adf0-4785-91ae-12ff94ebc2d5",
   "metadata": {},
   "outputs": [
    {
     "data": {
      "text/plain": [
       "Text(0.5, 1.0, 'Distribution of description sentiment scores')"
      ]
     },
     "execution_count": 88,
     "metadata": {},
     "output_type": "execute_result"
    },
    {
     "data": {
      "image/png": "[encoded data removed]",
      "text/plain": [
       "<Figure size 360x360 with 1 Axes>"
      ]
     },
     "metadata": {
      "needs_background": "light"
     },
     "output_type": "display_data"
    }
   ],
   "source": [
    "sns.catplot(x='decades', y='sentiment_score', data=combined, kind='strip')\n",
    "plt.title('Distribution of description sentiment scores')"
   ]
  },
  {
   "cell_type": "markdown",
   "id": "2f89fe26-086c-4dca-b088-493de5775813",
   "metadata": {
    "user_expressions": []
   },
   "source": [
    "Looks like as we get closer to the 2020s we get descriptions from across the spectrum: positive, neutral, negative. But we also have more movies and TV series.\n",
    "\n",
    "Does the same apply to titles?"
   ]
  },
  {
   "cell_type": "code",
   "execution_count": 90,
   "id": "657c5c92-425b-4ff4-9641-61b0a1356035",
   "metadata": {},
   "outputs": [
    {
     "data": {
      "application/vnd.jupyter.widget-view+json": {
       "model_id": "2a73aaf24e7f47e1aa03c41da7e501d9",
       "version_major": 2,
       "version_minor": 0
      },
      "text/plain": [
       "  0%|          | 0/77585 [00:00<?, ?it/s]"
      ]
     },
     "metadata": {},
     "output_type": "display_data"
    },
    {
     "name": "stdout",
     "output_type": "stream",
     "text": [
      "CPU times: user 10min, sys: 5.79 s, total: 10min 6s\n",
      "Wall time: 8min 55s\n"
     ]
    }
   ],
   "source": [
    "%%time\n",
    "\n",
    "combined['sentiment_score_t'] = combined['title'].progress_apply(get_sentiment_score)\n",
    "combined['sentiment_t'] = combined['sentiment_score_t'].apply(label_sentiment_score)"
   ]
  },
  {
   "cell_type": "code",
   "execution_count": 91,
   "id": "ee392f62-bec1-4030-b5ee-3c9eae450eed",
   "metadata": {},
   "outputs": [
    {
     "data": {
      "text/plain": [
       "Text(0.5, 1.0, 'Sentiment scores of titles over the years')"
      ]
     },
     "execution_count": 91,
     "metadata": {},
     "output_type": "execute_result"
    },
    {
     "data": {
      "image/png": "[encoded data removed]",
      "text/plain": [
       "<Figure size 432x288 with 1 Axes>"
      ]
     },
     "metadata": {
      "needs_background": "light"
     },
     "output_type": "display_data"
    }
   ],
   "source": [
    "combined.groupby('release_year').mean().reset_index().plot('release_year','sentiment_score_t')\n",
    "plt.title(\"Sentiment scores of titles over the years\")"
   ]
  },
  {
   "cell_type": "code",
   "execution_count": 92,
   "id": "74079104-bcda-4cfa-905c-235906ad6e1e",
   "metadata": {},
   "outputs": [
    {
     "data": {
      "text/plain": [
       "Text(0.5, 1.0, 'Distribution of title sentiment scores')"
      ]
     },
     "execution_count": 92,
     "metadata": {},
     "output_type": "execute_result"
    },
    {
     "data": {
      "image/png": "[encoded data removed]",
      "text/plain": [
       "<Figure size 360x360 with 1 Axes>"
      ]
     },
     "metadata": {
      "needs_background": "light"
     },
     "output_type": "display_data"
    }
   ],
   "source": [
    "sns.catplot(x='decades', y='sentiment_score_t', data=combined, kind='strip')\n",
    "plt.title('Distribution of title sentiment scores')"
   ]
  },
  {
   "cell_type": "markdown",
   "id": "0fd7383a-4107-4cb6-9bdf-880e8fc4554f",
   "metadata": {
    "user_expressions": []
   },
   "source": [
    "Looks like yes! A similar pattern holds with sentiment scores of titles."
   ]
  },
  {
   "cell_type": "code",
   "execution_count": 93,
   "id": "be1f651f-92ba-448e-a419-1dc123819aba",
   "metadata": {},
   "outputs": [
    {
     "data": {
      "text/html": [
       "<div>\n",
       "<style scoped>\n",
       "    .dataframe tbody tr th:only-of-type {\n",
       "        vertical-align: middle;\n",
       "    }\n",
       "\n",
       "    .dataframe tbody tr th {\n",
       "        vertical-align: top;\n",
       "    }\n",
       "\n",
       "    .dataframe thead th {\n",
       "        text-align: right;\n",
       "    }\n",
       "</style>\n",
       "<table border=\"1\" class=\"dataframe\">\n",
       "  <thead>\n",
       "    <tr style=\"text-align: right;\">\n",
       "      <th></th>\n",
       "      <th>release_year</th>\n",
       "      <th>imdb_score</th>\n",
       "      <th>tmdb_score</th>\n",
       "    </tr>\n",
       "  </thead>\n",
       "  <tbody>\n",
       "    <tr>\n",
       "      <th>release_year</th>\n",
       "      <td>1.000000</td>\n",
       "      <td>-0.144912</td>\n",
       "      <td>0.014813</td>\n",
       "    </tr>\n",
       "    <tr>\n",
       "      <th>imdb_score</th>\n",
       "      <td>-0.144912</td>\n",
       "      <td>1.000000</td>\n",
       "      <td>0.689030</td>\n",
       "    </tr>\n",
       "    <tr>\n",
       "      <th>tmdb_score</th>\n",
       "      <td>0.014813</td>\n",
       "      <td>0.689030</td>\n",
       "      <td>1.000000</td>\n",
       "    </tr>\n",
       "  </tbody>\n",
       "</table>\n",
       "</div>"
      ],
      "text/plain": [
       "              release_year  imdb_score  tmdb_score\n",
       "release_year      1.000000   -0.144912    0.014813\n",
       "imdb_score       -0.144912    1.000000    0.689030\n",
       "tmdb_score        0.014813    0.689030    1.000000"
      ]
     },
     "execution_count": 93,
     "metadata": {},
     "output_type": "execute_result"
    }
   ],
   "source": [
    "combined[['release_year','imdb_score','tmdb_score']].corr()"
   ]
  },
  {
   "cell_type": "code",
   "execution_count": 96,
   "id": "bc82b6f4-008d-4e90-8e04-3606e73aafa5",
   "metadata": {},
   "outputs": [
    {
     "data": {
      "text/plain": [
       "Text(0.5, 1.0, 'Netflix catalogue kept highly rated old films, but all new films')"
      ]
     },
     "execution_count": 96,
     "metadata": {},
     "output_type": "execute_result"
    },
    {
     "data": {
      "image/png": "[encoded data removed]",
      "text/plain": [
       "<Figure size 428.25x360 with 1 Axes>"
      ]
     },
     "metadata": {
      "needs_background": "light"
     },
     "output_type": "display_data"
    }
   ],
   "source": [
    "sns.relplot(x='release_year',y='imdb_score', kind='scatter', hue='type', data=combined)\n",
    "plt.title('Netflix catalogue kept highly rated old films, but all new films')"
   ]
  },
  {
   "cell_type": "code",
   "execution_count": 100,
   "id": "c8192e02-e8db-4700-b5ae-4c47b4a39b15",
   "metadata": {},
   "outputs": [
    {
     "data": {
      "text/plain": [
       "Text(0.5, 1.0, 'IMDB and TMDB scores are highly correlated (r2 = 0.59)')"
      ]
     },
     "execution_count": 100,
     "metadata": {},
     "output_type": "execute_result"
    },
    {
     "data": {
      "image/png": "[encoded data removed]",
      "text/plain": [
       "<Figure size 428.25x360 with 1 Axes>"
      ]
     },
     "metadata": {
      "needs_background": "light"
     },
     "output_type": "display_data"
    }
   ],
   "source": [
    "sns.relplot(x='imdb_score', y='tmdb_score', kind='scatter', hue='type', data=combined, alpha=0.5)\n",
    "plt.title('IMDB and TMDB scores are highly correlated (r2 = 0.59)')"
   ]
  },
  {
   "cell_type": "code",
   "execution_count": 101,
   "id": "68b3e6c5-81ac-46a6-893c-130ba46099cb",
   "metadata": {},
   "outputs": [
    {
     "name": "stdout",
     "output_type": "stream",
     "text": [
      "72388 movies have both a TMDB and an IMDB score\n",
      "394 movies have no TMDB score or IMDB score\n",
      "869 movies have a TMDB score but no IMDB score\n",
      "3934 movies have an IMDB score but no TMDB score\n"
     ]
    }
   ],
   "source": [
    "score = len(combined.dropna(subset=['tmdb_score', 'imdb_score']))\n",
    "print(f\"{score} movies have both a TMDB and an IMDB score\")\n",
    "\n",
    "score = combined[combined['imdb_score'].isna()]['tmdb_score'].isna().sum()\n",
    "print(f\"{score} movies have no TMDB score or IMDB score\")\n",
    "\n",
    "score = combined[~combined['imdb_score'].isna()]['tmdb_score'].isna().sum()\n",
    "print(f\"{score} movies have a TMDB score but no IMDB score\")\n",
    "\n",
    "score = combined[~combined['tmdb_score'].isna()]['imdb_score'].isna().sum()\n",
    "print(f\"{score} movies have an IMDB score but no TMDB score\")"
   ]
  },
  {
   "cell_type": "code",
   "execution_count": 102,
   "id": "5443a707-a5cb-4f93-9019-915e241a95a6",
   "metadata": {},
   "outputs": [],
   "source": [
    "combined['potential_seasons'] = 2022 - combined['release_year']"
   ]
  },
  {
   "cell_type": "code",
   "execution_count": 103,
   "id": "ba8b8c08-7311-43b0-800d-6ddc3b4412c3",
   "metadata": {},
   "outputs": [],
   "source": [
    "def cat_pot_seasons(pot_ses):\n",
    "    if pot_ses < 5:\n",
    "        return '< 5'\n",
    "    elif (pot_ses>=5) & (pot_ses<=10):\n",
    "        return '5-10'\n",
    "    else:\n",
    "        return '> 10'"
   ]
  },
  {
   "cell_type": "code",
   "execution_count": 104,
   "id": "c489885b-a72b-40ed-984d-a1d1a97ba5b2",
   "metadata": {},
   "outputs": [],
   "source": [
    "combined['potential_seasons_cat'] = combined['potential_seasons'].apply(cat_pot_seasons)"
   ]
  },
  {
   "cell_type": "code",
   "execution_count": 105,
   "id": "6cb5e51f-ae86-4ff0-b7f0-876281a609b6",
   "metadata": {},
   "outputs": [],
   "source": [
    "combined['potential_seasons_left'] = combined['potential_seasons'] - combined['seasons']"
   ]
  },
  {
   "cell_type": "code",
   "execution_count": 106,
   "id": "d0653d47-a0e0-443a-b12d-0821876fc4bd",
   "metadata": {},
   "outputs": [
    {
     "data": {
      "text/plain": [
       "Text(0.5, 1.0, 'The number of seasons per show decreases the newer the show is')"
      ]
     },
     "execution_count": 106,
     "metadata": {},
     "output_type": "execute_result"
    },
    {
     "data": {
      "image/png": "[encoded data removed]",
      "text/plain": [
       "<Figure size 432x288 with 1 Axes>"
      ]
     },
     "metadata": {
      "needs_background": "light"
     },
     "output_type": "display_data"
    }
   ],
   "source": [
    "sns.scatterplot(x='release_year',y='potential_seasons_left', data=combined, hue='type')\n",
    "plt.title('The number of seasons per show decreases the newer the show is')"
   ]
  },
  {
   "cell_type": "markdown",
   "id": "acfcb285-b2f0-430a-93ac-8b3a04eaab7c",
   "metadata": {
    "user_expressions": []
   },
   "source": [
    "Makes sense, since Movies don't get the priviledge of seasons"
   ]
  },
  {
   "cell_type": "code",
   "execution_count": 108,
   "id": "0b309c4c-65d7-4462-a4b4-5630d678e6f0",
   "metadata": {},
   "outputs": [
    {
     "data": {
      "text/plain": [
       "<AxesSubplot:xlabel='runtime', ylabel='seasons'>"
      ]
     },
     "execution_count": 108,
     "metadata": {},
     "output_type": "execute_result"
    },
    {
     "data": {
      "image/png": "[encoded data removed]",
      "text/plain": [
       "<Figure size 432x288 with 1 Axes>"
      ]
     },
     "metadata": {
      "needs_background": "light"
     },
     "output_type": "display_data"
    }
   ],
   "source": [
    "sns.scatterplot(x='runtime', y='seasons', data=combined,hue='type')"
   ]
  },
  {
   "cell_type": "code",
   "execution_count": 109,
   "id": "2e3242eb-d678-4075-9726-34d04b29b566",
   "metadata": {},
   "outputs": [
    {
     "data": {
      "text/plain": [
       "<AxesSubplot:xlabel='runtime', ylabel='imdb_score'>"
      ]
     },
     "execution_count": 109,
     "metadata": {},
     "output_type": "execute_result"
    },
    {
     "data": {
      "image/png": "[encoded data removed]",
      "text/plain": [
       "<Figure size 432x288 with 1 Axes>"
      ]
     },
     "metadata": {
      "needs_background": "light"
     },
     "output_type": "display_data"
    }
   ],
   "source": [
    "sns.scatterplot(x='runtime', y='imdb_score', data=combined,hue='type')"
   ]
  },
  {
   "cell_type": "code",
   "execution_count": 110,
   "id": "b9902789-8d25-4be2-95c2-20886af773cc",
   "metadata": {},
   "outputs": [],
   "source": [
    "age_label = {\n",
    "    'G': 0,\n",
    "    'PG': 8,\n",
    "    'PG-13': 13,\n",
    "    'R': 17,\n",
    "    'NC-17': 18,\n",
    "    'TV-Y': 0,\n",
    "    'TV-Y7': 7,\n",
    "    'TV-G': 0,\n",
    "    'TV-PG': 8,\n",
    "    'TV-14': 14,\n",
    "    'TV-MA': 17\n",
    "}"
   ]
  },
  {
   "cell_type": "code",
   "execution_count": 111,
   "id": "ad131d23-78e0-4a6d-a628-5d27683a5cff",
   "metadata": {},
   "outputs": [],
   "source": [
    "combined['recommended_min_age_viewership'] = combined['age_certification'].map(age_label)"
   ]
  },
  {
   "cell_type": "code",
   "execution_count": 113,
   "id": "0e5874e4-41ea-4fe3-bf0b-54db26210253",
   "metadata": {},
   "outputs": [
    {
     "data": {
      "text/plain": [
       "<seaborn.axisgrid.FacetGrid at 0x7f0560e89e20>"
      ]
     },
     "execution_count": 113,
     "metadata": {},
     "output_type": "execute_result"
    },
    {
     "data": {
      "image/png": "[encoded data removed]",
      "text/plain": [
       "<Figure size 428.25x360 with 1 Axes>"
      ]
     },
     "metadata": {
      "needs_background": "light"
     },
     "output_type": "display_data"
    }
   ],
   "source": [
    "sns.catplot(x='recommended_min_age_viewership', data=combined, kind='count', hue='type')"
   ]
  },
  {
   "cell_type": "code",
   "execution_count": 114,
   "id": "c20bc31a-c151-492a-85f8-e266073e03bd",
   "metadata": {},
   "outputs": [],
   "source": [
    "combined['type_dummy'] = pd.get_dummies(combined['type'])['MOVIE']"
   ]
  },
  {
   "cell_type": "code",
   "execution_count": 115,
   "id": "225b0ab5-ce1c-4863-a7c1-4cd81fa9b9c2",
   "metadata": {},
   "outputs": [],
   "source": [
    "combined['age_certification'] = combined['age_certification'].fillna(0)\n",
    "combined['seasons'] = combined['seasons'].fillna(0)"
   ]
  },
  {
   "cell_type": "code",
   "execution_count": 116,
   "id": "f4e406d1-47c8-4c0c-9dd8-18b32cbd22ed",
   "metadata": {},
   "outputs": [],
   "source": [
    "def save_dataset_as_pkl(dataset, suffix=''):\n",
    "    date = dt.datetime.now()\n",
    "    timestamp = f'{date.hour}:{date.minute}, {date.month}/{date.day}/{date.year}'\n",
    "    try:\n",
    "        combined.to_pickle(f'{data_loc}/ml_dataset{suffix}.pkl')\n",
    "        print(f\"Successfully saved on {timestamp}\")\n",
    "        return True\n",
    "    except:\n",
    "        print(f\"Error occurred on {timestamp}\")\n",
    "        return False"
   ]
  },
  {
   "cell_type": "code",
   "execution_count": 117,
   "id": "4291b7b1-d61b-44f2-8b9c-f33705d022c2",
   "metadata": {},
   "outputs": [
    {
     "name": "stdout",
     "output_type": "stream",
     "text": [
      "Successfully saved on 23:36, 6/30/2022\n"
     ]
    },
    {
     "data": {
      "text/plain": [
       "True"
      ]
     },
     "execution_count": 117,
     "metadata": {},
     "output_type": "execute_result"
    }
   ],
   "source": [
    "save_dataset_as_pkl(combined, suffix='')"
   ]
  },
  {
   "cell_type": "markdown",
   "id": "e286f5d7-9d4e-4b04-8888-333c8919c33e",
   "metadata": {
    "user_expressions": []
   },
   "source": [
    "## Findings"
   ]
  },
  {
   "cell_type": "code",
   "execution_count": null,
   "id": "bec20ca7-8122-4e33-a8aa-89fd0eda4c31",
   "metadata": {},
   "outputs": [],
   "source": []
  },
  {
   "cell_type": "markdown",
   "id": "89318580-e115-4448-ba54-b6b0d8fe9d94",
   "metadata": {
    "user_expressions": []
   },
   "source": [
    "# ML Setup"
   ]
  },
  {
   "cell_type": "markdown",
   "id": "d70087d5-d3b5-43a8-9060-1682888bfb81",
   "metadata": {
    "user_expressions": []
   },
   "source": [
    "## Target and Feature Columns"
   ]
  },
  {
   "cell_type": "code",
   "execution_count": 2,
   "id": "923c1905-0df1-4d69-9a52-2dac2bfab03f",
   "metadata": {},
   "outputs": [],
   "source": [
    "data_loc = 'data'"
   ]
  },
  {
   "cell_type": "code",
   "execution_count": 3,
   "id": "62459bf6-d8d4-4581-8f42-434cf1f5d765",
   "metadata": {},
   "outputs": [],
   "source": [
    "df_og = pd.read_pickle(f\"{data_loc}/ml_dataset.pkl\")\n",
    "df_og['ethnicity'] = df_og['ethnicity'].str.lower().str.replace(' ','_')\n",
    "# dropna, not supported by ML\n",
    "df_og = df_og.dropna(subset=['sentiment_score_t','sentiment_score', 'imdb_score', 'ethnicity'])"
   ]
  },
  {
   "cell_type": "code",
   "execution_count": 4,
   "id": "5574b852-a91b-4010-931c-d7127cacf26f",
   "metadata": {},
   "outputs": [],
   "source": [
    "df_og = df_og.merge(pd.get_dummies(df_og['ethnicity']), left_index=True, right_index=True)"
   ]
  },
  {
   "cell_type": "code",
   "execution_count": 5,
   "id": "5a2104a7-01cb-4c1f-b488-70c55d9ffd1e",
   "metadata": {},
   "outputs": [],
   "source": [
    "unwanted_cols = [\n",
    "    'id', 'imdb_score', 'sentiment_t', 'sentiment', \n",
    "    'imdb_score','tmdb_score','imdb_votes','tmdb_popularity', \n",
    "    'potential_seasons_left', 'recommended_min_age_viewership'\n",
    "]"
   ]
  },
  {
   "cell_type": "code",
   "execution_count": 6,
   "id": "5975b6af-d423-43fe-9dbd-a9a94eee675c",
   "metadata": {},
   "outputs": [],
   "source": [
    "target_col = 'imdb_score'\n",
    "feature_cols = df_og.select_dtypes([float, int, 'uint8']).columns\n",
    "\n",
    "# errors raised are of columns that are not float/int. ID, sentiment_t, sentiment\n",
    "feature_cols = feature_cols.drop(unwanted_cols, errors='ignore')"
   ]
  },
  {
   "cell_type": "code",
   "execution_count": 7,
   "id": "21bc20f5-b3a0-43c1-840d-2621c7ffa848",
   "metadata": {},
   "outputs": [],
   "source": [
    "X = df_og[feature_cols]\n",
    "y = df_og[target_col]"
   ]
  },
  {
   "cell_type": "code",
   "execution_count": 8,
   "id": "f61cc203-037d-4920-a68e-7ccaea9fe407",
   "metadata": {},
   "outputs": [
    {
     "data": {
      "text/plain": [
       "Series([], dtype: int64)"
      ]
     },
     "execution_count": 8,
     "metadata": {},
     "output_type": "execute_result"
    }
   ],
   "source": [
    "X.isna().sum()[X.isna().sum()>0]"
   ]
  },
  {
   "cell_type": "markdown",
   "id": "f7cf324f-172e-4d5f-968a-349fe7bcbc44",
   "metadata": {
    "user_expressions": []
   },
   "source": [
    "No NaNs confirmed"
   ]
  },
  {
   "cell_type": "code",
   "execution_count": 12,
   "id": "d905f5d0-9b45-4634-8a2c-c93f2a368899",
   "metadata": {},
   "outputs": [],
   "source": [
    "X_train, X_test, y_train, y_test = train_test_split(X, y, random_state=69, shuffle=True, test_size=0.2)"
   ]
  },
  {
   "cell_type": "markdown",
   "id": "66359f6d-d0fb-45e7-8015-804fd0578ce5",
   "metadata": {
    "user_expressions": []
   },
   "source": [
    "## Testing with Regression Models"
   ]
  },
  {
   "cell_type": "code",
   "execution_count": 13,
   "id": "e5d9fdd2-f58a-4bfe-b5dc-c631697cb4bd",
   "metadata": {},
   "outputs": [],
   "source": [
    "def train_test_predict_score(model):\n",
    "    m = model()\n",
    "    m.fit(X_train, y_train)\n",
    "    y_pred = m.predict(X_test)\n",
    "    \n",
    "    mse = mean_squared_error(y_test, y_pred)\n",
    "    rmse = np.sqrt(mse)\n",
    "    r2 = r2_score(y_test, y_pred)\n",
    "    \n",
    "    print(f\"\"\"Results:\n",
    "    MSE: {mse}\n",
    "    RMSE: {rmse}\n",
    "    R2: {r2}\n",
    "    \"\"\")"
   ]
  },
  {
   "cell_type": "code",
   "execution_count": 126,
   "id": "47bd9f2b-3d16-449e-8f30-666fd5d6a9ff",
   "metadata": {},
   "outputs": [
    {
     "name": "stdout",
     "output_type": "stream",
     "text": [
      "Results:\n",
      "    MSE: 0.7747434969039734\n",
      "    RMSE: 0.8801951470577268\n",
      "    R2: 0.35051128324389935\n",
      "    \n",
      "CPU times: user 8min 37s, sys: 14min 3s, total: 22min 40s\n",
      "Wall time: 2min 24s\n"
     ]
    }
   ],
   "source": [
    "%%time\n",
    "train_test_predict_score(LinearRegression)"
   ]
  },
  {
   "cell_type": "code",
   "execution_count": 14,
   "id": "432ec8af-0135-4ff1-9710-c49763d63b05",
   "metadata": {},
   "outputs": [
    {
     "name": "stdout",
     "output_type": "stream",
     "text": [
      "Results:\n",
      "    MSE: 1.1640308635157262\n",
      "    RMSE: 1.0789026200337666\n",
      "    R2: 0.024161009636675557\n",
      "    \n",
      "CPU times: user 6min 49s, sys: 0 ns, total: 6min 49s\n",
      "Wall time: 6min 49s\n"
     ]
    }
   ],
   "source": [
    "%%time\n",
    "train_test_predict_score(SVR)"
   ]
  },
  {
   "cell_type": "code",
   "execution_count": 128,
   "id": "7a4d2e50-147f-4bea-b83a-d993c446d4e2",
   "metadata": {},
   "outputs": [
    {
     "name": "stdout",
     "output_type": "stream",
     "text": [
      "Results:\n",
      "    MSE: 0.01414480917229464\n",
      "    RMSE: 0.11893195185607036\n",
      "    R2: 0.9881420186232137\n",
      "    \n",
      "CPU times: user 520 ms, sys: 0 ns, total: 520 ms\n",
      "Wall time: 517 ms\n"
     ]
    }
   ],
   "source": [
    "%%time\n",
    "train_test_predict_score(DecisionTreeRegressor)"
   ]
  },
  {
   "cell_type": "code",
   "execution_count": 15,
   "id": "c3faac3a-b92e-4fe8-bd94-cb319b7c3d1e",
   "metadata": {},
   "outputs": [
    {
     "name": "stdout",
     "output_type": "stream",
     "text": [
      "Results:\n",
      "    MSE: 0.012014282786241566\n",
      "    RMSE: 0.10960968381599122\n",
      "    R2: 0.9899280973112213\n",
      "    \n",
      "CPU times: user 33.4 s, sys: 0 ns, total: 33.4 s\n",
      "Wall time: 33.4 s\n"
     ]
    }
   ],
   "source": [
    "%%time\n",
    "train_test_predict_score(RandomForestRegressor)"
   ]
  },
  {
   "cell_type": "markdown",
   "id": "99ad8d18-b950-443d-8c89-89374de2dbc3",
   "metadata": {
    "user_expressions": []
   },
   "source": [
    "## Random Forest Regressor and GridSearch"
   ]
  },
  {
   "cell_type": "code",
   "execution_count": 14,
   "id": "11ef9475-ea50-4d0f-a105-e7040a9d4d70",
   "metadata": {},
   "outputs": [
    {
     "name": "stdout",
     "output_type": "stream",
     "text": [
      "Training set score: 0.998300455765183\n",
      "Testing set score: 0.9897347730436775\n",
      "CPU times: user 42.2 s, sys: 0 ns, total: 42.2 s\n",
      "Wall time: 43.1 s\n"
     ]
    }
   ],
   "source": [
    "%%time\n",
    "pipe = Pipeline([\n",
    "#    ('pca', PCA(n_components = 4)),\n",
    "    ('scaler', StandardScaler()),\n",
    "    ('selector', VarianceThreshold()),\n",
    "    ('regressor', RandomForestRegressor())\n",
    "], verbose=False)\n",
    "pipe.fit(X_train, y_train)\n",
    "train_score = pipe.score(X_train, y_train)\n",
    "test_score = pipe.score(X_test, y_test)\n",
    "\n",
    "print(f\"Training set score: {train_score}\")\n",
    "print(f\"Testing set score: {test_score}\")"
   ]
  },
  {
   "cell_type": "markdown",
   "id": "33e53a77-7584-49ef-92de-27d0b53ae2dc",
   "metadata": {
    "user_expressions": []
   },
   "source": [
    "Number of trees, t\n",
    "Size of Sample, n (Total - N)\n",
    "Number of variable to sample at each node, m (Total - M)"
   ]
  },
  {
   "cell_type": "code",
   "execution_count": 15,
   "id": "7393b223-8e9b-465a-8a03-9805aaf84e0c",
   "metadata": {},
   "outputs": [
    {
     "name": "stdout",
     "output_type": "stream",
     "text": [
      "CPU times: user 26 µs, sys: 0 ns, total: 26 µs\n",
      "Wall time: 28.8 µs\n"
     ]
    }
   ],
   "source": [
    "%%time\n",
    "parameters = {\n",
    "    'scaler': [\n",
    "        StandardScaler(), MinMaxScaler(),\n",
    "        Normalizer(), MaxAbsScaler()\n",
    "    ],\n",
    "    'selector__threshold': [0, 0.1],\n",
    "    'regressor__n_estimators': [100, 500],\n",
    "    'regressor__min_samples_split': [2, 10],\n",
    "    'regressor__oob_score': [True],\n",
    "    'regressor__max_samples': [25467, 25467/3]\n",
    "}"
   ]
  },
  {
   "cell_type": "code",
   "execution_count": 16,
   "id": "366ab9bb-5bfc-47d1-8528-9e0a1ad45bcf",
   "metadata": {
    "scrolled": true,
    "tags": []
   },
   "outputs": [
    {
     "name": "stderr",
     "output_type": "stream",
     "text": [
      "/home/jupyter-pomkos/.conda/envs/data_env/lib/python3.8/site-packages/sklearn/model_selection/_validation.py:615: FitFailedWarning: Estimator fit failed. The score on this train-test partition for these parameters will be set to nan. Details: \n",
      "Traceback (most recent call last):\n",
      "  File \"/home/jupyter-pomkos/.conda/envs/data_env/lib/python3.8/site-packages/sklearn/model_selection/_validation.py\", line 598, in _fit_and_score\n",
      "    estimator.fit(X_train, y_train, **fit_params)\n",
      "  File \"/home/jupyter-pomkos/.conda/envs/data_env/lib/python3.8/site-packages/sklearn/pipeline.py\", line 341, in fit\n",
      "    Xt = self._fit(X, y, **fit_params_steps)\n",
      "  File \"/home/jupyter-pomkos/.conda/envs/data_env/lib/python3.8/site-packages/sklearn/pipeline.py\", line 303, in _fit\n",
      "    X, fitted_transformer = fit_transform_one_cached(\n",
      "  File \"/home/jupyter-pomkos/.conda/envs/data_env/lib/python3.8/site-packages/joblib/memory.py\", line 352, in __call__\n",
      "    return self.func(*args, **kwargs)\n",
      "  File \"/home/jupyter-pomkos/.conda/envs/data_env/lib/python3.8/site-packages/sklearn/pipeline.py\", line 754, in _fit_transform_one\n",
      "    res = transformer.fit_transform(X, y, **fit_params)\n",
      "  File \"/home/jupyter-pomkos/.conda/envs/data_env/lib/python3.8/site-packages/sklearn/base.py\", line 702, in fit_transform\n",
      "    return self.fit(X, y, **fit_params).transform(X)\n",
      "  File \"/home/jupyter-pomkos/.conda/envs/data_env/lib/python3.8/site-packages/sklearn/feature_selection/_variance_threshold.py\", line 93, in fit\n",
      "    raise ValueError(msg.format(self.threshold))\n",
      "ValueError: No feature in X meets the variance threshold 0.10000\n",
      "\n",
      "  warnings.warn(\"Estimator fit failed. The score on this train-test\"\n",
      "/home/jupyter-pomkos/.conda/envs/data_env/lib/python3.8/site-packages/sklearn/model_selection/_validation.py:615: FitFailedWarning: Estimator fit failed. The score on this train-test partition for these parameters will be set to nan. Details: \n",
      "Traceback (most recent call last):\n",
      "  File \"/home/jupyter-pomkos/.conda/envs/data_env/lib/python3.8/site-packages/sklearn/model_selection/_validation.py\", line 598, in _fit_and_score\n",
      "    estimator.fit(X_train, y_train, **fit_params)\n",
      "  File \"/home/jupyter-pomkos/.conda/envs/data_env/lib/python3.8/site-packages/sklearn/pipeline.py\", line 341, in fit\n",
      "    Xt = self._fit(X, y, **fit_params_steps)\n",
      "  File \"/home/jupyter-pomkos/.conda/envs/data_env/lib/python3.8/site-packages/sklearn/pipeline.py\", line 303, in _fit\n",
      "    X, fitted_transformer = fit_transform_one_cached(\n",
      "  File \"/home/jupyter-pomkos/.conda/envs/data_env/lib/python3.8/site-packages/joblib/memory.py\", line 352, in __call__\n",
      "    return self.func(*args, **kwargs)\n",
      "  File \"/home/jupyter-pomkos/.conda/envs/data_env/lib/python3.8/site-packages/sklearn/pipeline.py\", line 754, in _fit_transform_one\n",
      "    res = transformer.fit_transform(X, y, **fit_params)\n",
      "  File \"/home/jupyter-pomkos/.conda/envs/data_env/lib/python3.8/site-packages/sklearn/base.py\", line 702, in fit_transform\n",
      "    return self.fit(X, y, **fit_params).transform(X)\n",
      "  File \"/home/jupyter-pomkos/.conda/envs/data_env/lib/python3.8/site-packages/sklearn/feature_selection/_variance_threshold.py\", line 93, in fit\n",
      "    raise ValueError(msg.format(self.threshold))\n",
      "ValueError: No feature in X meets the variance threshold 0.10000\n",
      "\n",
      "  warnings.warn(\"Estimator fit failed. The score on this train-test\"\n",
      "/home/jupyter-pomkos/.conda/envs/data_env/lib/python3.8/site-packages/sklearn/model_selection/_validation.py:615: FitFailedWarning: Estimator fit failed. The score on this train-test partition for these parameters will be set to nan. Details: \n",
      "Traceback (most recent call last):\n",
      "  File \"/home/jupyter-pomkos/.conda/envs/data_env/lib/python3.8/site-packages/sklearn/model_selection/_validation.py\", line 598, in _fit_and_score\n",
      "    estimator.fit(X_train, y_train, **fit_params)\n",
      "  File \"/home/jupyter-pomkos/.conda/envs/data_env/lib/python3.8/site-packages/sklearn/pipeline.py\", line 341, in fit\n",
      "    Xt = self._fit(X, y, **fit_params_steps)\n",
      "  File \"/home/jupyter-pomkos/.conda/envs/data_env/lib/python3.8/site-packages/sklearn/pipeline.py\", line 303, in _fit\n",
      "    X, fitted_transformer = fit_transform_one_cached(\n",
      "  File \"/home/jupyter-pomkos/.conda/envs/data_env/lib/python3.8/site-packages/joblib/memory.py\", line 352, in __call__\n",
      "    return self.func(*args, **kwargs)\n",
      "  File \"/home/jupyter-pomkos/.conda/envs/data_env/lib/python3.8/site-packages/sklearn/pipeline.py\", line 754, in _fit_transform_one\n",
      "    res = transformer.fit_transform(X, y, **fit_params)\n",
      "  File \"/home/jupyter-pomkos/.conda/envs/data_env/lib/python3.8/site-packages/sklearn/base.py\", line 702, in fit_transform\n",
      "    return self.fit(X, y, **fit_params).transform(X)\n",
      "  File \"/home/jupyter-pomkos/.conda/envs/data_env/lib/python3.8/site-packages/sklearn/feature_selection/_variance_threshold.py\", line 93, in fit\n",
      "    raise ValueError(msg.format(self.threshold))\n",
      "ValueError: No feature in X meets the variance threshold 0.10000\n",
      "\n",
      "  warnings.warn(\"Estimator fit failed. The score on this train-test\"\n",
      "/home/jupyter-pomkos/.conda/envs/data_env/lib/python3.8/site-packages/sklearn/model_selection/_validation.py:615: FitFailedWarning: Estimator fit failed. The score on this train-test partition for these parameters will be set to nan. Details: \n",
      "Traceback (most recent call last):\n",
      "  File \"/home/jupyter-pomkos/.conda/envs/data_env/lib/python3.8/site-packages/sklearn/model_selection/_validation.py\", line 598, in _fit_and_score\n",
      "    estimator.fit(X_train, y_train, **fit_params)\n",
      "  File \"/home/jupyter-pomkos/.conda/envs/data_env/lib/python3.8/site-packages/sklearn/pipeline.py\", line 341, in fit\n",
      "    Xt = self._fit(X, y, **fit_params_steps)\n",
      "  File \"/home/jupyter-pomkos/.conda/envs/data_env/lib/python3.8/site-packages/sklearn/pipeline.py\", line 303, in _fit\n",
      "    X, fitted_transformer = fit_transform_one_cached(\n",
      "  File \"/home/jupyter-pomkos/.conda/envs/data_env/lib/python3.8/site-packages/joblib/memory.py\", line 352, in __call__\n",
      "    return self.func(*args, **kwargs)\n",
      "  File \"/home/jupyter-pomkos/.conda/envs/data_env/lib/python3.8/site-packages/sklearn/pipeline.py\", line 754, in _fit_transform_one\n",
      "    res = transformer.fit_transform(X, y, **fit_params)\n",
      "  File \"/home/jupyter-pomkos/.conda/envs/data_env/lib/python3.8/site-packages/sklearn/base.py\", line 702, in fit_transform\n",
      "    return self.fit(X, y, **fit_params).transform(X)\n",
      "  File \"/home/jupyter-pomkos/.conda/envs/data_env/lib/python3.8/site-packages/sklearn/feature_selection/_variance_threshold.py\", line 93, in fit\n",
      "    raise ValueError(msg.format(self.threshold))\n",
      "ValueError: No feature in X meets the variance threshold 0.10000\n",
      "\n",
      "  warnings.warn(\"Estimator fit failed. The score on this train-test\"\n",
      "/home/jupyter-pomkos/.conda/envs/data_env/lib/python3.8/site-packages/sklearn/model_selection/_validation.py:615: FitFailedWarning: Estimator fit failed. The score on this train-test partition for these parameters will be set to nan. Details: \n",
      "Traceback (most recent call last):\n",
      "  File \"/home/jupyter-pomkos/.conda/envs/data_env/lib/python3.8/site-packages/sklearn/model_selection/_validation.py\", line 598, in _fit_and_score\n",
      "    estimator.fit(X_train, y_train, **fit_params)\n",
      "  File \"/home/jupyter-pomkos/.conda/envs/data_env/lib/python3.8/site-packages/sklearn/pipeline.py\", line 341, in fit\n",
      "    Xt = self._fit(X, y, **fit_params_steps)\n",
      "  File \"/home/jupyter-pomkos/.conda/envs/data_env/lib/python3.8/site-packages/sklearn/pipeline.py\", line 303, in _fit\n",
      "    X, fitted_transformer = fit_transform_one_cached(\n",
      "  File \"/home/jupyter-pomkos/.conda/envs/data_env/lib/python3.8/site-packages/joblib/memory.py\", line 352, in __call__\n",
      "    return self.func(*args, **kwargs)\n",
      "  File \"/home/jupyter-pomkos/.conda/envs/data_env/lib/python3.8/site-packages/sklearn/pipeline.py\", line 754, in _fit_transform_one\n",
      "    res = transformer.fit_transform(X, y, **fit_params)\n",
      "  File \"/home/jupyter-pomkos/.conda/envs/data_env/lib/python3.8/site-packages/sklearn/base.py\", line 702, in fit_transform\n",
      "    return self.fit(X, y, **fit_params).transform(X)\n",
      "  File \"/home/jupyter-pomkos/.conda/envs/data_env/lib/python3.8/site-packages/sklearn/feature_selection/_variance_threshold.py\", line 93, in fit\n",
      "    raise ValueError(msg.format(self.threshold))\n",
      "ValueError: No feature in X meets the variance threshold 0.10000\n",
      "\n",
      "  warnings.warn(\"Estimator fit failed. The score on this train-test\"\n",
      "/home/jupyter-pomkos/.conda/envs/data_env/lib/python3.8/site-packages/sklearn/model_selection/_validation.py:615: FitFailedWarning: Estimator fit failed. The score on this train-test partition for these parameters will be set to nan. Details: \n",
      "Traceback (most recent call last):\n",
      "  File \"/home/jupyter-pomkos/.conda/envs/data_env/lib/python3.8/site-packages/sklearn/model_selection/_validation.py\", line 598, in _fit_and_score\n",
      "    estimator.fit(X_train, y_train, **fit_params)\n",
      "  File \"/home/jupyter-pomkos/.conda/envs/data_env/lib/python3.8/site-packages/sklearn/pipeline.py\", line 341, in fit\n",
      "    Xt = self._fit(X, y, **fit_params_steps)\n",
      "  File \"/home/jupyter-pomkos/.conda/envs/data_env/lib/python3.8/site-packages/sklearn/pipeline.py\", line 303, in _fit\n",
      "    X, fitted_transformer = fit_transform_one_cached(\n",
      "  File \"/home/jupyter-pomkos/.conda/envs/data_env/lib/python3.8/site-packages/joblib/memory.py\", line 352, in __call__\n",
      "    return self.func(*args, **kwargs)\n",
      "  File \"/home/jupyter-pomkos/.conda/envs/data_env/lib/python3.8/site-packages/sklearn/pipeline.py\", line 754, in _fit_transform_one\n",
      "    res = transformer.fit_transform(X, y, **fit_params)\n",
      "  File \"/home/jupyter-pomkos/.conda/envs/data_env/lib/python3.8/site-packages/sklearn/base.py\", line 702, in fit_transform\n",
      "    return self.fit(X, y, **fit_params).transform(X)\n",
      "  File \"/home/jupyter-pomkos/.conda/envs/data_env/lib/python3.8/site-packages/sklearn/feature_selection/_variance_threshold.py\", line 93, in fit\n",
      "    raise ValueError(msg.format(self.threshold))\n",
      "ValueError: No feature in X meets the variance threshold 0.10000\n",
      "\n",
      "  warnings.warn(\"Estimator fit failed. The score on this train-test\"\n",
      "/home/jupyter-pomkos/.conda/envs/data_env/lib/python3.8/site-packages/sklearn/model_selection/_validation.py:615: FitFailedWarning: Estimator fit failed. The score on this train-test partition for these parameters will be set to nan. Details: \n",
      "Traceback (most recent call last):\n",
      "  File \"/home/jupyter-pomkos/.conda/envs/data_env/lib/python3.8/site-packages/sklearn/model_selection/_validation.py\", line 598, in _fit_and_score\n",
      "    estimator.fit(X_train, y_train, **fit_params)\n",
      "  File \"/home/jupyter-pomkos/.conda/envs/data_env/lib/python3.8/site-packages/sklearn/pipeline.py\", line 341, in fit\n",
      "    Xt = self._fit(X, y, **fit_params_steps)\n",
      "  File \"/home/jupyter-pomkos/.conda/envs/data_env/lib/python3.8/site-packages/sklearn/pipeline.py\", line 303, in _fit\n",
      "    X, fitted_transformer = fit_transform_one_cached(\n",
      "  File \"/home/jupyter-pomkos/.conda/envs/data_env/lib/python3.8/site-packages/joblib/memory.py\", line 352, in __call__\n",
      "    return self.func(*args, **kwargs)\n",
      "  File \"/home/jupyter-pomkos/.conda/envs/data_env/lib/python3.8/site-packages/sklearn/pipeline.py\", line 754, in _fit_transform_one\n",
      "    res = transformer.fit_transform(X, y, **fit_params)\n",
      "  File \"/home/jupyter-pomkos/.conda/envs/data_env/lib/python3.8/site-packages/sklearn/base.py\", line 702, in fit_transform\n",
      "    return self.fit(X, y, **fit_params).transform(X)\n",
      "  File \"/home/jupyter-pomkos/.conda/envs/data_env/lib/python3.8/site-packages/sklearn/feature_selection/_variance_threshold.py\", line 93, in fit\n",
      "    raise ValueError(msg.format(self.threshold))\n",
      "ValueError: No feature in X meets the variance threshold 0.10000\n",
      "\n",
      "  warnings.warn(\"Estimator fit failed. The score on this train-test\"\n",
      "/home/jupyter-pomkos/.conda/envs/data_env/lib/python3.8/site-packages/sklearn/model_selection/_validation.py:615: FitFailedWarning: Estimator fit failed. The score on this train-test partition for these parameters will be set to nan. Details: \n",
      "Traceback (most recent call last):\n",
      "  File \"/home/jupyter-pomkos/.conda/envs/data_env/lib/python3.8/site-packages/sklearn/model_selection/_validation.py\", line 598, in _fit_and_score\n",
      "    estimator.fit(X_train, y_train, **fit_params)\n",
      "  File \"/home/jupyter-pomkos/.conda/envs/data_env/lib/python3.8/site-packages/sklearn/pipeline.py\", line 341, in fit\n",
      "    Xt = self._fit(X, y, **fit_params_steps)\n",
      "  File \"/home/jupyter-pomkos/.conda/envs/data_env/lib/python3.8/site-packages/sklearn/pipeline.py\", line 303, in _fit\n",
      "    X, fitted_transformer = fit_transform_one_cached(\n",
      "  File \"/home/jupyter-pomkos/.conda/envs/data_env/lib/python3.8/site-packages/joblib/memory.py\", line 352, in __call__\n",
      "    return self.func(*args, **kwargs)\n",
      "  File \"/home/jupyter-pomkos/.conda/envs/data_env/lib/python3.8/site-packages/sklearn/pipeline.py\", line 754, in _fit_transform_one\n",
      "    res = transformer.fit_transform(X, y, **fit_params)\n",
      "  File \"/home/jupyter-pomkos/.conda/envs/data_env/lib/python3.8/site-packages/sklearn/base.py\", line 702, in fit_transform\n",
      "    return self.fit(X, y, **fit_params).transform(X)\n",
      "  File \"/home/jupyter-pomkos/.conda/envs/data_env/lib/python3.8/site-packages/sklearn/feature_selection/_variance_threshold.py\", line 93, in fit\n",
      "    raise ValueError(msg.format(self.threshold))\n",
      "ValueError: No feature in X meets the variance threshold 0.10000\n",
      "\n",
      "  warnings.warn(\"Estimator fit failed. The score on this train-test\"\n",
      "/home/jupyter-pomkos/.conda/envs/data_env/lib/python3.8/site-packages/sklearn/model_selection/_validation.py:615: FitFailedWarning: Estimator fit failed. The score on this train-test partition for these parameters will be set to nan. Details: \n",
      "Traceback (most recent call last):\n",
      "  File \"/home/jupyter-pomkos/.conda/envs/data_env/lib/python3.8/site-packages/sklearn/model_selection/_validation.py\", line 598, in _fit_and_score\n",
      "    estimator.fit(X_train, y_train, **fit_params)\n",
      "  File \"/home/jupyter-pomkos/.conda/envs/data_env/lib/python3.8/site-packages/sklearn/pipeline.py\", line 346, in fit\n",
      "    self._final_estimator.fit(Xt, y, **fit_params_last_step)\n",
      "  File \"/home/jupyter-pomkos/.conda/envs/data_env/lib/python3.8/site-packages/sklearn/ensemble/_forest.py\", line 343, in fit\n",
      "    n_samples_bootstrap = _get_n_samples_bootstrap(\n",
      "  File \"/home/jupyter-pomkos/.conda/envs/data_env/lib/python3.8/site-packages/sklearn/ensemble/_forest.py\", line 110, in _get_n_samples_bootstrap\n",
      "    raise ValueError(msg.format(max_samples))\n",
      "ValueError: `max_samples` must be in range (0, 1) but got value 8489.0\n",
      "\n",
      "  warnings.warn(\"Estimator fit failed. The score on this train-test\"\n",
      "/home/jupyter-pomkos/.conda/envs/data_env/lib/python3.8/site-packages/sklearn/model_selection/_validation.py:615: FitFailedWarning: Estimator fit failed. The score on this train-test partition for these parameters will be set to nan. Details: \n",
      "Traceback (most recent call last):\n",
      "  File \"/home/jupyter-pomkos/.conda/envs/data_env/lib/python3.8/site-packages/sklearn/model_selection/_validation.py\", line 598, in _fit_and_score\n",
      "    estimator.fit(X_train, y_train, **fit_params)\n",
      "  File \"/home/jupyter-pomkos/.conda/envs/data_env/lib/python3.8/site-packages/sklearn/pipeline.py\", line 346, in fit\n",
      "    self._final_estimator.fit(Xt, y, **fit_params_last_step)\n",
      "  File \"/home/jupyter-pomkos/.conda/envs/data_env/lib/python3.8/site-packages/sklearn/ensemble/_forest.py\", line 343, in fit\n",
      "    n_samples_bootstrap = _get_n_samples_bootstrap(\n",
      "  File \"/home/jupyter-pomkos/.conda/envs/data_env/lib/python3.8/site-packages/sklearn/ensemble/_forest.py\", line 110, in _get_n_samples_bootstrap\n",
      "    raise ValueError(msg.format(max_samples))\n",
      "ValueError: `max_samples` must be in range (0, 1) but got value 8489.0\n",
      "\n",
      "  warnings.warn(\"Estimator fit failed. The score on this train-test\"\n",
      "/home/jupyter-pomkos/.conda/envs/data_env/lib/python3.8/site-packages/sklearn/model_selection/_validation.py:615: FitFailedWarning: Estimator fit failed. The score on this train-test partition for these parameters will be set to nan. Details: \n",
      "Traceback (most recent call last):\n",
      "  File \"/home/jupyter-pomkos/.conda/envs/data_env/lib/python3.8/site-packages/sklearn/model_selection/_validation.py\", line 598, in _fit_and_score\n",
      "    estimator.fit(X_train, y_train, **fit_params)\n",
      "  File \"/home/jupyter-pomkos/.conda/envs/data_env/lib/python3.8/site-packages/sklearn/pipeline.py\", line 346, in fit\n",
      "    self._final_estimator.fit(Xt, y, **fit_params_last_step)\n",
      "  File \"/home/jupyter-pomkos/.conda/envs/data_env/lib/python3.8/site-packages/sklearn/ensemble/_forest.py\", line 343, in fit\n",
      "    n_samples_bootstrap = _get_n_samples_bootstrap(\n",
      "  File \"/home/jupyter-pomkos/.conda/envs/data_env/lib/python3.8/site-packages/sklearn/ensemble/_forest.py\", line 110, in _get_n_samples_bootstrap\n",
      "    raise ValueError(msg.format(max_samples))\n",
      "ValueError: `max_samples` must be in range (0, 1) but got value 8489.0\n",
      "\n",
      "  warnings.warn(\"Estimator fit failed. The score on this train-test\"\n",
      "/home/jupyter-pomkos/.conda/envs/data_env/lib/python3.8/site-packages/sklearn/model_selection/_validation.py:615: FitFailedWarning: Estimator fit failed. The score on this train-test partition for these parameters will be set to nan. Details: \n",
      "Traceback (most recent call last):\n",
      "  File \"/home/jupyter-pomkos/.conda/envs/data_env/lib/python3.8/site-packages/sklearn/model_selection/_validation.py\", line 598, in _fit_and_score\n",
      "    estimator.fit(X_train, y_train, **fit_params)\n",
      "  File \"/home/jupyter-pomkos/.conda/envs/data_env/lib/python3.8/site-packages/sklearn/pipeline.py\", line 346, in fit\n",
      "    self._final_estimator.fit(Xt, y, **fit_params_last_step)\n",
      "  File \"/home/jupyter-pomkos/.conda/envs/data_env/lib/python3.8/site-packages/sklearn/ensemble/_forest.py\", line 343, in fit\n",
      "    n_samples_bootstrap = _get_n_samples_bootstrap(\n",
      "  File \"/home/jupyter-pomkos/.conda/envs/data_env/lib/python3.8/site-packages/sklearn/ensemble/_forest.py\", line 110, in _get_n_samples_bootstrap\n",
      "    raise ValueError(msg.format(max_samples))\n",
      "ValueError: `max_samples` must be in range (0, 1) but got value 8489.0\n",
      "\n",
      "  warnings.warn(\"Estimator fit failed. The score on this train-test\"\n",
      "/home/jupyter-pomkos/.conda/envs/data_env/lib/python3.8/site-packages/sklearn/model_selection/_validation.py:615: FitFailedWarning: Estimator fit failed. The score on this train-test partition for these parameters will be set to nan. Details: \n",
      "Traceback (most recent call last):\n",
      "  File \"/home/jupyter-pomkos/.conda/envs/data_env/lib/python3.8/site-packages/sklearn/model_selection/_validation.py\", line 598, in _fit_and_score\n",
      "    estimator.fit(X_train, y_train, **fit_params)\n",
      "  File \"/home/jupyter-pomkos/.conda/envs/data_env/lib/python3.8/site-packages/sklearn/pipeline.py\", line 346, in fit\n",
      "    self._final_estimator.fit(Xt, y, **fit_params_last_step)\n",
      "  File \"/home/jupyter-pomkos/.conda/envs/data_env/lib/python3.8/site-packages/sklearn/ensemble/_forest.py\", line 343, in fit\n",
      "    n_samples_bootstrap = _get_n_samples_bootstrap(\n",
      "  File \"/home/jupyter-pomkos/.conda/envs/data_env/lib/python3.8/site-packages/sklearn/ensemble/_forest.py\", line 110, in _get_n_samples_bootstrap\n",
      "    raise ValueError(msg.format(max_samples))\n",
      "ValueError: `max_samples` must be in range (0, 1) but got value 8489.0\n",
      "\n",
      "  warnings.warn(\"Estimator fit failed. The score on this train-test\"\n",
      "/home/jupyter-pomkos/.conda/envs/data_env/lib/python3.8/site-packages/sklearn/model_selection/_validation.py:615: FitFailedWarning: Estimator fit failed. The score on this train-test partition for these parameters will be set to nan. Details: \n",
      "Traceback (most recent call last):\n",
      "  File \"/home/jupyter-pomkos/.conda/envs/data_env/lib/python3.8/site-packages/sklearn/model_selection/_validation.py\", line 598, in _fit_and_score\n",
      "    estimator.fit(X_train, y_train, **fit_params)\n",
      "  File \"/home/jupyter-pomkos/.conda/envs/data_env/lib/python3.8/site-packages/sklearn/pipeline.py\", line 346, in fit\n",
      "    self._final_estimator.fit(Xt, y, **fit_params_last_step)\n",
      "  File \"/home/jupyter-pomkos/.conda/envs/data_env/lib/python3.8/site-packages/sklearn/ensemble/_forest.py\", line 343, in fit\n",
      "    n_samples_bootstrap = _get_n_samples_bootstrap(\n",
      "  File \"/home/jupyter-pomkos/.conda/envs/data_env/lib/python3.8/site-packages/sklearn/ensemble/_forest.py\", line 110, in _get_n_samples_bootstrap\n",
      "    raise ValueError(msg.format(max_samples))\n",
      "ValueError: `max_samples` must be in range (0, 1) but got value 8489.0\n",
      "\n",
      "  warnings.warn(\"Estimator fit failed. The score on this train-test\"\n",
      "/home/jupyter-pomkos/.conda/envs/data_env/lib/python3.8/site-packages/sklearn/model_selection/_validation.py:615: FitFailedWarning: Estimator fit failed. The score on this train-test partition for these parameters will be set to nan. Details: \n",
      "Traceback (most recent call last):\n",
      "  File \"/home/jupyter-pomkos/.conda/envs/data_env/lib/python3.8/site-packages/sklearn/model_selection/_validation.py\", line 598, in _fit_and_score\n",
      "    estimator.fit(X_train, y_train, **fit_params)\n",
      "  File \"/home/jupyter-pomkos/.conda/envs/data_env/lib/python3.8/site-packages/sklearn/pipeline.py\", line 346, in fit\n",
      "    self._final_estimator.fit(Xt, y, **fit_params_last_step)\n",
      "  File \"/home/jupyter-pomkos/.conda/envs/data_env/lib/python3.8/site-packages/sklearn/ensemble/_forest.py\", line 343, in fit\n",
      "    n_samples_bootstrap = _get_n_samples_bootstrap(\n",
      "  File \"/home/jupyter-pomkos/.conda/envs/data_env/lib/python3.8/site-packages/sklearn/ensemble/_forest.py\", line 110, in _get_n_samples_bootstrap\n",
      "    raise ValueError(msg.format(max_samples))\n",
      "ValueError: `max_samples` must be in range (0, 1) but got value 8489.0\n",
      "\n",
      "  warnings.warn(\"Estimator fit failed. The score on this train-test\"\n",
      "/home/jupyter-pomkos/.conda/envs/data_env/lib/python3.8/site-packages/sklearn/model_selection/_validation.py:615: FitFailedWarning: Estimator fit failed. The score on this train-test partition for these parameters will be set to nan. Details: \n",
      "Traceback (most recent call last):\n",
      "  File \"/home/jupyter-pomkos/.conda/envs/data_env/lib/python3.8/site-packages/sklearn/model_selection/_validation.py\", line 598, in _fit_and_score\n",
      "    estimator.fit(X_train, y_train, **fit_params)\n",
      "  File \"/home/jupyter-pomkos/.conda/envs/data_env/lib/python3.8/site-packages/sklearn/pipeline.py\", line 346, in fit\n",
      "    self._final_estimator.fit(Xt, y, **fit_params_last_step)\n",
      "  File \"/home/jupyter-pomkos/.conda/envs/data_env/lib/python3.8/site-packages/sklearn/ensemble/_forest.py\", line 343, in fit\n",
      "    n_samples_bootstrap = _get_n_samples_bootstrap(\n",
      "  File \"/home/jupyter-pomkos/.conda/envs/data_env/lib/python3.8/site-packages/sklearn/ensemble/_forest.py\", line 110, in _get_n_samples_bootstrap\n",
      "    raise ValueError(msg.format(max_samples))\n",
      "ValueError: `max_samples` must be in range (0, 1) but got value 8489.0\n",
      "\n",
      "  warnings.warn(\"Estimator fit failed. The score on this train-test\"\n",
      "/home/jupyter-pomkos/.conda/envs/data_env/lib/python3.8/site-packages/sklearn/model_selection/_validation.py:615: FitFailedWarning: Estimator fit failed. The score on this train-test partition for these parameters will be set to nan. Details: \n",
      "Traceback (most recent call last):\n",
      "  File \"/home/jupyter-pomkos/.conda/envs/data_env/lib/python3.8/site-packages/sklearn/model_selection/_validation.py\", line 598, in _fit_and_score\n",
      "    estimator.fit(X_train, y_train, **fit_params)\n",
      "  File \"/home/jupyter-pomkos/.conda/envs/data_env/lib/python3.8/site-packages/sklearn/pipeline.py\", line 346, in fit\n",
      "    self._final_estimator.fit(Xt, y, **fit_params_last_step)\n",
      "  File \"/home/jupyter-pomkos/.conda/envs/data_env/lib/python3.8/site-packages/sklearn/ensemble/_forest.py\", line 343, in fit\n",
      "    n_samples_bootstrap = _get_n_samples_bootstrap(\n",
      "  File \"/home/jupyter-pomkos/.conda/envs/data_env/lib/python3.8/site-packages/sklearn/ensemble/_forest.py\", line 110, in _get_n_samples_bootstrap\n",
      "    raise ValueError(msg.format(max_samples))\n",
      "ValueError: `max_samples` must be in range (0, 1) but got value 8489.0\n",
      "\n",
      "  warnings.warn(\"Estimator fit failed. The score on this train-test\"\n",
      "/home/jupyter-pomkos/.conda/envs/data_env/lib/python3.8/site-packages/sklearn/model_selection/_validation.py:615: FitFailedWarning: Estimator fit failed. The score on this train-test partition for these parameters will be set to nan. Details: \n",
      "Traceback (most recent call last):\n",
      "  File \"/home/jupyter-pomkos/.conda/envs/data_env/lib/python3.8/site-packages/sklearn/model_selection/_validation.py\", line 598, in _fit_and_score\n",
      "    estimator.fit(X_train, y_train, **fit_params)\n",
      "  File \"/home/jupyter-pomkos/.conda/envs/data_env/lib/python3.8/site-packages/sklearn/pipeline.py\", line 346, in fit\n",
      "    self._final_estimator.fit(Xt, y, **fit_params_last_step)\n",
      "  File \"/home/jupyter-pomkos/.conda/envs/data_env/lib/python3.8/site-packages/sklearn/ensemble/_forest.py\", line 343, in fit\n",
      "    n_samples_bootstrap = _get_n_samples_bootstrap(\n",
      "  File \"/home/jupyter-pomkos/.conda/envs/data_env/lib/python3.8/site-packages/sklearn/ensemble/_forest.py\", line 110, in _get_n_samples_bootstrap\n",
      "    raise ValueError(msg.format(max_samples))\n",
      "ValueError: `max_samples` must be in range (0, 1) but got value 8489.0\n",
      "\n",
      "  warnings.warn(\"Estimator fit failed. The score on this train-test\"\n",
      "/home/jupyter-pomkos/.conda/envs/data_env/lib/python3.8/site-packages/sklearn/model_selection/_validation.py:615: FitFailedWarning: Estimator fit failed. The score on this train-test partition for these parameters will be set to nan. Details: \n",
      "Traceback (most recent call last):\n",
      "  File \"/home/jupyter-pomkos/.conda/envs/data_env/lib/python3.8/site-packages/sklearn/model_selection/_validation.py\", line 598, in _fit_and_score\n",
      "    estimator.fit(X_train, y_train, **fit_params)\n",
      "  File \"/home/jupyter-pomkos/.conda/envs/data_env/lib/python3.8/site-packages/sklearn/pipeline.py\", line 341, in fit\n",
      "    Xt = self._fit(X, y, **fit_params_steps)\n",
      "  File \"/home/jupyter-pomkos/.conda/envs/data_env/lib/python3.8/site-packages/sklearn/pipeline.py\", line 303, in _fit\n",
      "    X, fitted_transformer = fit_transform_one_cached(\n",
      "  File \"/home/jupyter-pomkos/.conda/envs/data_env/lib/python3.8/site-packages/joblib/memory.py\", line 352, in __call__\n",
      "    return self.func(*args, **kwargs)\n",
      "  File \"/home/jupyter-pomkos/.conda/envs/data_env/lib/python3.8/site-packages/sklearn/pipeline.py\", line 754, in _fit_transform_one\n",
      "    res = transformer.fit_transform(X, y, **fit_params)\n",
      "  File \"/home/jupyter-pomkos/.conda/envs/data_env/lib/python3.8/site-packages/sklearn/base.py\", line 702, in fit_transform\n",
      "    return self.fit(X, y, **fit_params).transform(X)\n",
      "  File \"/home/jupyter-pomkos/.conda/envs/data_env/lib/python3.8/site-packages/sklearn/feature_selection/_variance_threshold.py\", line 93, in fit\n",
      "    raise ValueError(msg.format(self.threshold))\n",
      "ValueError: No feature in X meets the variance threshold 0.10000\n",
      "\n",
      "  warnings.warn(\"Estimator fit failed. The score on this train-test\"\n",
      "/home/jupyter-pomkos/.conda/envs/data_env/lib/python3.8/site-packages/sklearn/model_selection/_validation.py:615: FitFailedWarning: Estimator fit failed. The score on this train-test partition for these parameters will be set to nan. Details: \n",
      "Traceback (most recent call last):\n",
      "  File \"/home/jupyter-pomkos/.conda/envs/data_env/lib/python3.8/site-packages/sklearn/model_selection/_validation.py\", line 598, in _fit_and_score\n",
      "    estimator.fit(X_train, y_train, **fit_params)\n",
      "  File \"/home/jupyter-pomkos/.conda/envs/data_env/lib/python3.8/site-packages/sklearn/pipeline.py\", line 341, in fit\n",
      "    Xt = self._fit(X, y, **fit_params_steps)\n",
      "  File \"/home/jupyter-pomkos/.conda/envs/data_env/lib/python3.8/site-packages/sklearn/pipeline.py\", line 303, in _fit\n",
      "    X, fitted_transformer = fit_transform_one_cached(\n",
      "  File \"/home/jupyter-pomkos/.conda/envs/data_env/lib/python3.8/site-packages/joblib/memory.py\", line 352, in __call__\n",
      "    return self.func(*args, **kwargs)\n",
      "  File \"/home/jupyter-pomkos/.conda/envs/data_env/lib/python3.8/site-packages/sklearn/pipeline.py\", line 754, in _fit_transform_one\n",
      "    res = transformer.fit_transform(X, y, **fit_params)\n",
      "  File \"/home/jupyter-pomkos/.conda/envs/data_env/lib/python3.8/site-packages/sklearn/base.py\", line 702, in fit_transform\n",
      "    return self.fit(X, y, **fit_params).transform(X)\n",
      "  File \"/home/jupyter-pomkos/.conda/envs/data_env/lib/python3.8/site-packages/sklearn/feature_selection/_variance_threshold.py\", line 93, in fit\n",
      "    raise ValueError(msg.format(self.threshold))\n",
      "ValueError: No feature in X meets the variance threshold 0.10000\n",
      "\n",
      "  warnings.warn(\"Estimator fit failed. The score on this train-test\"\n",
      "/home/jupyter-pomkos/.conda/envs/data_env/lib/python3.8/site-packages/sklearn/model_selection/_validation.py:615: FitFailedWarning: Estimator fit failed. The score on this train-test partition for these parameters will be set to nan. Details: \n",
      "Traceback (most recent call last):\n",
      "  File \"/home/jupyter-pomkos/.conda/envs/data_env/lib/python3.8/site-packages/sklearn/model_selection/_validation.py\", line 598, in _fit_and_score\n",
      "    estimator.fit(X_train, y_train, **fit_params)\n",
      "  File \"/home/jupyter-pomkos/.conda/envs/data_env/lib/python3.8/site-packages/sklearn/pipeline.py\", line 346, in fit\n",
      "    self._final_estimator.fit(Xt, y, **fit_params_last_step)\n",
      "  File \"/home/jupyter-pomkos/.conda/envs/data_env/lib/python3.8/site-packages/sklearn/ensemble/_forest.py\", line 343, in fit\n",
      "    n_samples_bootstrap = _get_n_samples_bootstrap(\n",
      "  File \"/home/jupyter-pomkos/.conda/envs/data_env/lib/python3.8/site-packages/sklearn/ensemble/_forest.py\", line 110, in _get_n_samples_bootstrap\n",
      "    raise ValueError(msg.format(max_samples))\n",
      "ValueError: `max_samples` must be in range (0, 1) but got value 8489.0\n",
      "\n",
      "  warnings.warn(\"Estimator fit failed. The score on this train-test\"\n",
      "/home/jupyter-pomkos/.conda/envs/data_env/lib/python3.8/site-packages/sklearn/model_selection/_validation.py:615: FitFailedWarning: Estimator fit failed. The score on this train-test partition for these parameters will be set to nan. Details: \n",
      "Traceback (most recent call last):\n",
      "  File \"/home/jupyter-pomkos/.conda/envs/data_env/lib/python3.8/site-packages/sklearn/model_selection/_validation.py\", line 598, in _fit_and_score\n",
      "    estimator.fit(X_train, y_train, **fit_params)\n",
      "  File \"/home/jupyter-pomkos/.conda/envs/data_env/lib/python3.8/site-packages/sklearn/pipeline.py\", line 346, in fit\n",
      "    self._final_estimator.fit(Xt, y, **fit_params_last_step)\n",
      "  File \"/home/jupyter-pomkos/.conda/envs/data_env/lib/python3.8/site-packages/sklearn/ensemble/_forest.py\", line 343, in fit\n",
      "    n_samples_bootstrap = _get_n_samples_bootstrap(\n",
      "  File \"/home/jupyter-pomkos/.conda/envs/data_env/lib/python3.8/site-packages/sklearn/ensemble/_forest.py\", line 110, in _get_n_samples_bootstrap\n",
      "    raise ValueError(msg.format(max_samples))\n",
      "ValueError: `max_samples` must be in range (0, 1) but got value 8489.0\n",
      "\n",
      "  warnings.warn(\"Estimator fit failed. The score on this train-test\"\n",
      "/home/jupyter-pomkos/.conda/envs/data_env/lib/python3.8/site-packages/sklearn/model_selection/_validation.py:615: FitFailedWarning: Estimator fit failed. The score on this train-test partition for these parameters will be set to nan. Details: \n",
      "Traceback (most recent call last):\n",
      "  File \"/home/jupyter-pomkos/.conda/envs/data_env/lib/python3.8/site-packages/sklearn/model_selection/_validation.py\", line 598, in _fit_and_score\n",
      "    estimator.fit(X_train, y_train, **fit_params)\n",
      "  File \"/home/jupyter-pomkos/.conda/envs/data_env/lib/python3.8/site-packages/sklearn/pipeline.py\", line 346, in fit\n",
      "    self._final_estimator.fit(Xt, y, **fit_params_last_step)\n",
      "  File \"/home/jupyter-pomkos/.conda/envs/data_env/lib/python3.8/site-packages/sklearn/ensemble/_forest.py\", line 343, in fit\n",
      "    n_samples_bootstrap = _get_n_samples_bootstrap(\n",
      "  File \"/home/jupyter-pomkos/.conda/envs/data_env/lib/python3.8/site-packages/sklearn/ensemble/_forest.py\", line 110, in _get_n_samples_bootstrap\n",
      "    raise ValueError(msg.format(max_samples))\n",
      "ValueError: `max_samples` must be in range (0, 1) but got value 8489.0\n",
      "\n",
      "  warnings.warn(\"Estimator fit failed. The score on this train-test\"\n",
      "/home/jupyter-pomkos/.conda/envs/data_env/lib/python3.8/site-packages/sklearn/model_selection/_validation.py:615: FitFailedWarning: Estimator fit failed. The score on this train-test partition for these parameters will be set to nan. Details: \n",
      "Traceback (most recent call last):\n",
      "  File \"/home/jupyter-pomkos/.conda/envs/data_env/lib/python3.8/site-packages/sklearn/model_selection/_validation.py\", line 598, in _fit_and_score\n",
      "    estimator.fit(X_train, y_train, **fit_params)\n",
      "  File \"/home/jupyter-pomkos/.conda/envs/data_env/lib/python3.8/site-packages/sklearn/pipeline.py\", line 346, in fit\n",
      "    self._final_estimator.fit(Xt, y, **fit_params_last_step)\n",
      "  File \"/home/jupyter-pomkos/.conda/envs/data_env/lib/python3.8/site-packages/sklearn/ensemble/_forest.py\", line 343, in fit\n",
      "    n_samples_bootstrap = _get_n_samples_bootstrap(\n",
      "  File \"/home/jupyter-pomkos/.conda/envs/data_env/lib/python3.8/site-packages/sklearn/ensemble/_forest.py\", line 110, in _get_n_samples_bootstrap\n",
      "    raise ValueError(msg.format(max_samples))\n",
      "ValueError: `max_samples` must be in range (0, 1) but got value 8489.0\n",
      "\n",
      "  warnings.warn(\"Estimator fit failed. The score on this train-test\"\n",
      "/home/jupyter-pomkos/.conda/envs/data_env/lib/python3.8/site-packages/sklearn/model_selection/_validation.py:615: FitFailedWarning: Estimator fit failed. The score on this train-test partition for these parameters will be set to nan. Details: \n",
      "Traceback (most recent call last):\n",
      "  File \"/home/jupyter-pomkos/.conda/envs/data_env/lib/python3.8/site-packages/sklearn/model_selection/_validation.py\", line 598, in _fit_and_score\n",
      "    estimator.fit(X_train, y_train, **fit_params)\n",
      "  File \"/home/jupyter-pomkos/.conda/envs/data_env/lib/python3.8/site-packages/sklearn/pipeline.py\", line 346, in fit\n",
      "    self._final_estimator.fit(Xt, y, **fit_params_last_step)\n",
      "  File \"/home/jupyter-pomkos/.conda/envs/data_env/lib/python3.8/site-packages/sklearn/ensemble/_forest.py\", line 343, in fit\n",
      "    n_samples_bootstrap = _get_n_samples_bootstrap(\n",
      "  File \"/home/jupyter-pomkos/.conda/envs/data_env/lib/python3.8/site-packages/sklearn/ensemble/_forest.py\", line 110, in _get_n_samples_bootstrap\n",
      "    raise ValueError(msg.format(max_samples))\n",
      "ValueError: `max_samples` must be in range (0, 1) but got value 8489.0\n",
      "\n",
      "  warnings.warn(\"Estimator fit failed. The score on this train-test\"\n",
      "/home/jupyter-pomkos/.conda/envs/data_env/lib/python3.8/site-packages/sklearn/model_selection/_validation.py:615: FitFailedWarning: Estimator fit failed. The score on this train-test partition for these parameters will be set to nan. Details: \n",
      "Traceback (most recent call last):\n",
      "  File \"/home/jupyter-pomkos/.conda/envs/data_env/lib/python3.8/site-packages/sklearn/model_selection/_validation.py\", line 598, in _fit_and_score\n",
      "    estimator.fit(X_train, y_train, **fit_params)\n",
      "  File \"/home/jupyter-pomkos/.conda/envs/data_env/lib/python3.8/site-packages/sklearn/pipeline.py\", line 346, in fit\n",
      "    self._final_estimator.fit(Xt, y, **fit_params_last_step)\n",
      "  File \"/home/jupyter-pomkos/.conda/envs/data_env/lib/python3.8/site-packages/sklearn/ensemble/_forest.py\", line 343, in fit\n",
      "    n_samples_bootstrap = _get_n_samples_bootstrap(\n",
      "  File \"/home/jupyter-pomkos/.conda/envs/data_env/lib/python3.8/site-packages/sklearn/ensemble/_forest.py\", line 110, in _get_n_samples_bootstrap\n",
      "    raise ValueError(msg.format(max_samples))\n",
      "ValueError: `max_samples` must be in range (0, 1) but got value 8489.0\n",
      "\n",
      "  warnings.warn(\"Estimator fit failed. The score on this train-test\"\n",
      "/home/jupyter-pomkos/.conda/envs/data_env/lib/python3.8/site-packages/sklearn/model_selection/_validation.py:615: FitFailedWarning: Estimator fit failed. The score on this train-test partition for these parameters will be set to nan. Details: \n",
      "Traceback (most recent call last):\n",
      "  File \"/home/jupyter-pomkos/.conda/envs/data_env/lib/python3.8/site-packages/sklearn/model_selection/_validation.py\", line 598, in _fit_and_score\n",
      "    estimator.fit(X_train, y_train, **fit_params)\n",
      "  File \"/home/jupyter-pomkos/.conda/envs/data_env/lib/python3.8/site-packages/sklearn/pipeline.py\", line 346, in fit\n",
      "    self._final_estimator.fit(Xt, y, **fit_params_last_step)\n",
      "  File \"/home/jupyter-pomkos/.conda/envs/data_env/lib/python3.8/site-packages/sklearn/ensemble/_forest.py\", line 343, in fit\n",
      "    n_samples_bootstrap = _get_n_samples_bootstrap(\n",
      "  File \"/home/jupyter-pomkos/.conda/envs/data_env/lib/python3.8/site-packages/sklearn/ensemble/_forest.py\", line 110, in _get_n_samples_bootstrap\n",
      "    raise ValueError(msg.format(max_samples))\n",
      "ValueError: `max_samples` must be in range (0, 1) but got value 8489.0\n",
      "\n",
      "  warnings.warn(\"Estimator fit failed. The score on this train-test\"\n",
      "/home/jupyter-pomkos/.conda/envs/data_env/lib/python3.8/site-packages/sklearn/model_selection/_validation.py:615: FitFailedWarning: Estimator fit failed. The score on this train-test partition for these parameters will be set to nan. Details: \n",
      "Traceback (most recent call last):\n",
      "  File \"/home/jupyter-pomkos/.conda/envs/data_env/lib/python3.8/site-packages/sklearn/model_selection/_validation.py\", line 598, in _fit_and_score\n",
      "    estimator.fit(X_train, y_train, **fit_params)\n",
      "  File \"/home/jupyter-pomkos/.conda/envs/data_env/lib/python3.8/site-packages/sklearn/pipeline.py\", line 346, in fit\n",
      "    self._final_estimator.fit(Xt, y, **fit_params_last_step)\n",
      "  File \"/home/jupyter-pomkos/.conda/envs/data_env/lib/python3.8/site-packages/sklearn/ensemble/_forest.py\", line 343, in fit\n",
      "    n_samples_bootstrap = _get_n_samples_bootstrap(\n",
      "  File \"/home/jupyter-pomkos/.conda/envs/data_env/lib/python3.8/site-packages/sklearn/ensemble/_forest.py\", line 110, in _get_n_samples_bootstrap\n",
      "    raise ValueError(msg.format(max_samples))\n",
      "ValueError: `max_samples` must be in range (0, 1) but got value 8489.0\n",
      "\n",
      "  warnings.warn(\"Estimator fit failed. The score on this train-test\"\n",
      "/home/jupyter-pomkos/.conda/envs/data_env/lib/python3.8/site-packages/sklearn/model_selection/_validation.py:615: FitFailedWarning: Estimator fit failed. The score on this train-test partition for these parameters will be set to nan. Details: \n",
      "Traceback (most recent call last):\n",
      "  File \"/home/jupyter-pomkos/.conda/envs/data_env/lib/python3.8/site-packages/sklearn/model_selection/_validation.py\", line 598, in _fit_and_score\n",
      "    estimator.fit(X_train, y_train, **fit_params)\n",
      "  File \"/home/jupyter-pomkos/.conda/envs/data_env/lib/python3.8/site-packages/sklearn/pipeline.py\", line 346, in fit\n",
      "    self._final_estimator.fit(Xt, y, **fit_params_last_step)\n",
      "  File \"/home/jupyter-pomkos/.conda/envs/data_env/lib/python3.8/site-packages/sklearn/ensemble/_forest.py\", line 343, in fit\n",
      "    n_samples_bootstrap = _get_n_samples_bootstrap(\n",
      "  File \"/home/jupyter-pomkos/.conda/envs/data_env/lib/python3.8/site-packages/sklearn/ensemble/_forest.py\", line 110, in _get_n_samples_bootstrap\n",
      "    raise ValueError(msg.format(max_samples))\n",
      "ValueError: `max_samples` must be in range (0, 1) but got value 8489.0\n",
      "\n",
      "  warnings.warn(\"Estimator fit failed. The score on this train-test\"\n",
      "/home/jupyter-pomkos/.conda/envs/data_env/lib/python3.8/site-packages/sklearn/model_selection/_validation.py:615: FitFailedWarning: Estimator fit failed. The score on this train-test partition for these parameters will be set to nan. Details: \n",
      "Traceback (most recent call last):\n",
      "  File \"/home/jupyter-pomkos/.conda/envs/data_env/lib/python3.8/site-packages/sklearn/model_selection/_validation.py\", line 598, in _fit_and_score\n",
      "    estimator.fit(X_train, y_train, **fit_params)\n",
      "  File \"/home/jupyter-pomkos/.conda/envs/data_env/lib/python3.8/site-packages/sklearn/pipeline.py\", line 346, in fit\n",
      "    self._final_estimator.fit(Xt, y, **fit_params_last_step)\n",
      "  File \"/home/jupyter-pomkos/.conda/envs/data_env/lib/python3.8/site-packages/sklearn/ensemble/_forest.py\", line 343, in fit\n",
      "    n_samples_bootstrap = _get_n_samples_bootstrap(\n",
      "  File \"/home/jupyter-pomkos/.conda/envs/data_env/lib/python3.8/site-packages/sklearn/ensemble/_forest.py\", line 110, in _get_n_samples_bootstrap\n",
      "    raise ValueError(msg.format(max_samples))\n",
      "ValueError: `max_samples` must be in range (0, 1) but got value 8489.0\n",
      "\n",
      "  warnings.warn(\"Estimator fit failed. The score on this train-test\"\n",
      "/home/jupyter-pomkos/.conda/envs/data_env/lib/python3.8/site-packages/sklearn/model_selection/_validation.py:615: FitFailedWarning: Estimator fit failed. The score on this train-test partition for these parameters will be set to nan. Details: \n",
      "Traceback (most recent call last):\n",
      "  File \"/home/jupyter-pomkos/.conda/envs/data_env/lib/python3.8/site-packages/sklearn/model_selection/_validation.py\", line 598, in _fit_and_score\n",
      "    estimator.fit(X_train, y_train, **fit_params)\n",
      "  File \"/home/jupyter-pomkos/.conda/envs/data_env/lib/python3.8/site-packages/sklearn/pipeline.py\", line 346, in fit\n",
      "    self._final_estimator.fit(Xt, y, **fit_params_last_step)\n",
      "  File \"/home/jupyter-pomkos/.conda/envs/data_env/lib/python3.8/site-packages/sklearn/ensemble/_forest.py\", line 343, in fit\n",
      "    n_samples_bootstrap = _get_n_samples_bootstrap(\n",
      "  File \"/home/jupyter-pomkos/.conda/envs/data_env/lib/python3.8/site-packages/sklearn/ensemble/_forest.py\", line 110, in _get_n_samples_bootstrap\n",
      "    raise ValueError(msg.format(max_samples))\n",
      "ValueError: `max_samples` must be in range (0, 1) but got value 8489.0\n",
      "\n",
      "  warnings.warn(\"Estimator fit failed. The score on this train-test\"\n",
      "/home/jupyter-pomkos/.conda/envs/data_env/lib/python3.8/site-packages/sklearn/model_selection/_validation.py:615: FitFailedWarning: Estimator fit failed. The score on this train-test partition for these parameters will be set to nan. Details: \n",
      "Traceback (most recent call last):\n",
      "  File \"/home/jupyter-pomkos/.conda/envs/data_env/lib/python3.8/site-packages/sklearn/model_selection/_validation.py\", line 598, in _fit_and_score\n",
      "    estimator.fit(X_train, y_train, **fit_params)\n",
      "  File \"/home/jupyter-pomkos/.conda/envs/data_env/lib/python3.8/site-packages/sklearn/pipeline.py\", line 346, in fit\n",
      "    self._final_estimator.fit(Xt, y, **fit_params_last_step)\n",
      "  File \"/home/jupyter-pomkos/.conda/envs/data_env/lib/python3.8/site-packages/sklearn/ensemble/_forest.py\", line 343, in fit\n",
      "    n_samples_bootstrap = _get_n_samples_bootstrap(\n",
      "  File \"/home/jupyter-pomkos/.conda/envs/data_env/lib/python3.8/site-packages/sklearn/ensemble/_forest.py\", line 110, in _get_n_samples_bootstrap\n",
      "    raise ValueError(msg.format(max_samples))\n",
      "ValueError: `max_samples` must be in range (0, 1) but got value 8489.0\n",
      "\n",
      "  warnings.warn(\"Estimator fit failed. The score on this train-test\"\n",
      "/home/jupyter-pomkos/.conda/envs/data_env/lib/python3.8/site-packages/sklearn/model_selection/_validation.py:615: FitFailedWarning: Estimator fit failed. The score on this train-test partition for these parameters will be set to nan. Details: \n",
      "Traceback (most recent call last):\n",
      "  File \"/home/jupyter-pomkos/.conda/envs/data_env/lib/python3.8/site-packages/sklearn/model_selection/_validation.py\", line 598, in _fit_and_score\n",
      "    estimator.fit(X_train, y_train, **fit_params)\n",
      "  File \"/home/jupyter-pomkos/.conda/envs/data_env/lib/python3.8/site-packages/sklearn/pipeline.py\", line 346, in fit\n",
      "    self._final_estimator.fit(Xt, y, **fit_params_last_step)\n",
      "  File \"/home/jupyter-pomkos/.conda/envs/data_env/lib/python3.8/site-packages/sklearn/ensemble/_forest.py\", line 343, in fit\n",
      "    n_samples_bootstrap = _get_n_samples_bootstrap(\n",
      "  File \"/home/jupyter-pomkos/.conda/envs/data_env/lib/python3.8/site-packages/sklearn/ensemble/_forest.py\", line 110, in _get_n_samples_bootstrap\n",
      "    raise ValueError(msg.format(max_samples))\n",
      "ValueError: `max_samples` must be in range (0, 1) but got value 8489.0\n",
      "\n",
      "  warnings.warn(\"Estimator fit failed. The score on this train-test\"\n",
      "/home/jupyter-pomkos/.conda/envs/data_env/lib/python3.8/site-packages/sklearn/model_selection/_validation.py:615: FitFailedWarning: Estimator fit failed. The score on this train-test partition for these parameters will be set to nan. Details: \n",
      "Traceback (most recent call last):\n",
      "  File \"/home/jupyter-pomkos/.conda/envs/data_env/lib/python3.8/site-packages/sklearn/model_selection/_validation.py\", line 598, in _fit_and_score\n",
      "    estimator.fit(X_train, y_train, **fit_params)\n",
      "  File \"/home/jupyter-pomkos/.conda/envs/data_env/lib/python3.8/site-packages/sklearn/pipeline.py\", line 346, in fit\n",
      "    self._final_estimator.fit(Xt, y, **fit_params_last_step)\n",
      "  File \"/home/jupyter-pomkos/.conda/envs/data_env/lib/python3.8/site-packages/sklearn/ensemble/_forest.py\", line 343, in fit\n",
      "    n_samples_bootstrap = _get_n_samples_bootstrap(\n",
      "  File \"/home/jupyter-pomkos/.conda/envs/data_env/lib/python3.8/site-packages/sklearn/ensemble/_forest.py\", line 110, in _get_n_samples_bootstrap\n",
      "    raise ValueError(msg.format(max_samples))\n",
      "ValueError: `max_samples` must be in range (0, 1) but got value 8489.0\n",
      "\n",
      "  warnings.warn(\"Estimator fit failed. The score on this train-test\"\n",
      "/home/jupyter-pomkos/.conda/envs/data_env/lib/python3.8/site-packages/sklearn/model_selection/_validation.py:615: FitFailedWarning: Estimator fit failed. The score on this train-test partition for these parameters will be set to nan. Details: \n",
      "Traceback (most recent call last):\n",
      "  File \"/home/jupyter-pomkos/.conda/envs/data_env/lib/python3.8/site-packages/sklearn/model_selection/_validation.py\", line 598, in _fit_and_score\n",
      "    estimator.fit(X_train, y_train, **fit_params)\n",
      "  File \"/home/jupyter-pomkos/.conda/envs/data_env/lib/python3.8/site-packages/sklearn/pipeline.py\", line 341, in fit\n",
      "    Xt = self._fit(X, y, **fit_params_steps)\n",
      "  File \"/home/jupyter-pomkos/.conda/envs/data_env/lib/python3.8/site-packages/sklearn/pipeline.py\", line 303, in _fit\n",
      "    X, fitted_transformer = fit_transform_one_cached(\n",
      "  File \"/home/jupyter-pomkos/.conda/envs/data_env/lib/python3.8/site-packages/joblib/memory.py\", line 352, in __call__\n",
      "    return self.func(*args, **kwargs)\n",
      "  File \"/home/jupyter-pomkos/.conda/envs/data_env/lib/python3.8/site-packages/sklearn/pipeline.py\", line 754, in _fit_transform_one\n",
      "    res = transformer.fit_transform(X, y, **fit_params)\n",
      "  File \"/home/jupyter-pomkos/.conda/envs/data_env/lib/python3.8/site-packages/sklearn/base.py\", line 702, in fit_transform\n",
      "    return self.fit(X, y, **fit_params).transform(X)\n",
      "  File \"/home/jupyter-pomkos/.conda/envs/data_env/lib/python3.8/site-packages/sklearn/feature_selection/_variance_threshold.py\", line 93, in fit\n",
      "    raise ValueError(msg.format(self.threshold))\n",
      "ValueError: No feature in X meets the variance threshold 0.10000\n",
      "\n",
      "  warnings.warn(\"Estimator fit failed. The score on this train-test\"\n",
      "/home/jupyter-pomkos/.conda/envs/data_env/lib/python3.8/site-packages/sklearn/model_selection/_validation.py:615: FitFailedWarning: Estimator fit failed. The score on this train-test partition for these parameters will be set to nan. Details: \n",
      "Traceback (most recent call last):\n",
      "  File \"/home/jupyter-pomkos/.conda/envs/data_env/lib/python3.8/site-packages/sklearn/model_selection/_validation.py\", line 598, in _fit_and_score\n",
      "    estimator.fit(X_train, y_train, **fit_params)\n",
      "  File \"/home/jupyter-pomkos/.conda/envs/data_env/lib/python3.8/site-packages/sklearn/pipeline.py\", line 341, in fit\n",
      "    Xt = self._fit(X, y, **fit_params_steps)\n",
      "  File \"/home/jupyter-pomkos/.conda/envs/data_env/lib/python3.8/site-packages/sklearn/pipeline.py\", line 303, in _fit\n",
      "    X, fitted_transformer = fit_transform_one_cached(\n",
      "  File \"/home/jupyter-pomkos/.conda/envs/data_env/lib/python3.8/site-packages/joblib/memory.py\", line 352, in __call__\n",
      "    return self.func(*args, **kwargs)\n",
      "  File \"/home/jupyter-pomkos/.conda/envs/data_env/lib/python3.8/site-packages/sklearn/pipeline.py\", line 754, in _fit_transform_one\n",
      "    res = transformer.fit_transform(X, y, **fit_params)\n",
      "  File \"/home/jupyter-pomkos/.conda/envs/data_env/lib/python3.8/site-packages/sklearn/base.py\", line 702, in fit_transform\n",
      "    return self.fit(X, y, **fit_params).transform(X)\n",
      "  File \"/home/jupyter-pomkos/.conda/envs/data_env/lib/python3.8/site-packages/sklearn/feature_selection/_variance_threshold.py\", line 93, in fit\n",
      "    raise ValueError(msg.format(self.threshold))\n",
      "ValueError: No feature in X meets the variance threshold 0.10000\n",
      "\n",
      "  warnings.warn(\"Estimator fit failed. The score on this train-test\"\n",
      "/home/jupyter-pomkos/.conda/envs/data_env/lib/python3.8/site-packages/sklearn/model_selection/_validation.py:615: FitFailedWarning: Estimator fit failed. The score on this train-test partition for these parameters will be set to nan. Details: \n",
      "Traceback (most recent call last):\n",
      "  File \"/home/jupyter-pomkos/.conda/envs/data_env/lib/python3.8/site-packages/sklearn/model_selection/_validation.py\", line 598, in _fit_and_score\n",
      "    estimator.fit(X_train, y_train, **fit_params)\n",
      "  File \"/home/jupyter-pomkos/.conda/envs/data_env/lib/python3.8/site-packages/sklearn/pipeline.py\", line 346, in fit\n",
      "    self._final_estimator.fit(Xt, y, **fit_params_last_step)\n",
      "  File \"/home/jupyter-pomkos/.conda/envs/data_env/lib/python3.8/site-packages/sklearn/ensemble/_forest.py\", line 343, in fit\n",
      "    n_samples_bootstrap = _get_n_samples_bootstrap(\n",
      "  File \"/home/jupyter-pomkos/.conda/envs/data_env/lib/python3.8/site-packages/sklearn/ensemble/_forest.py\", line 110, in _get_n_samples_bootstrap\n",
      "    raise ValueError(msg.format(max_samples))\n",
      "ValueError: `max_samples` must be in range (0, 1) but got value 8489.0\n",
      "\n",
      "  warnings.warn(\"Estimator fit failed. The score on this train-test\"\n",
      "/home/jupyter-pomkos/.conda/envs/data_env/lib/python3.8/site-packages/sklearn/model_selection/_validation.py:615: FitFailedWarning: Estimator fit failed. The score on this train-test partition for these parameters will be set to nan. Details: \n",
      "Traceback (most recent call last):\n",
      "  File \"/home/jupyter-pomkos/.conda/envs/data_env/lib/python3.8/site-packages/sklearn/model_selection/_validation.py\", line 598, in _fit_and_score\n",
      "    estimator.fit(X_train, y_train, **fit_params)\n",
      "  File \"/home/jupyter-pomkos/.conda/envs/data_env/lib/python3.8/site-packages/sklearn/pipeline.py\", line 346, in fit\n",
      "    self._final_estimator.fit(Xt, y, **fit_params_last_step)\n",
      "  File \"/home/jupyter-pomkos/.conda/envs/data_env/lib/python3.8/site-packages/sklearn/ensemble/_forest.py\", line 343, in fit\n",
      "    n_samples_bootstrap = _get_n_samples_bootstrap(\n",
      "  File \"/home/jupyter-pomkos/.conda/envs/data_env/lib/python3.8/site-packages/sklearn/ensemble/_forest.py\", line 110, in _get_n_samples_bootstrap\n",
      "    raise ValueError(msg.format(max_samples))\n",
      "ValueError: `max_samples` must be in range (0, 1) but got value 8489.0\n",
      "\n",
      "  warnings.warn(\"Estimator fit failed. The score on this train-test\"\n",
      "/home/jupyter-pomkos/.conda/envs/data_env/lib/python3.8/site-packages/sklearn/model_selection/_validation.py:615: FitFailedWarning: Estimator fit failed. The score on this train-test partition for these parameters will be set to nan. Details: \n",
      "Traceback (most recent call last):\n",
      "  File \"/home/jupyter-pomkos/.conda/envs/data_env/lib/python3.8/site-packages/sklearn/model_selection/_validation.py\", line 598, in _fit_and_score\n",
      "    estimator.fit(X_train, y_train, **fit_params)\n",
      "  File \"/home/jupyter-pomkos/.conda/envs/data_env/lib/python3.8/site-packages/sklearn/pipeline.py\", line 346, in fit\n",
      "    self._final_estimator.fit(Xt, y, **fit_params_last_step)\n",
      "  File \"/home/jupyter-pomkos/.conda/envs/data_env/lib/python3.8/site-packages/sklearn/ensemble/_forest.py\", line 343, in fit\n",
      "    n_samples_bootstrap = _get_n_samples_bootstrap(\n",
      "  File \"/home/jupyter-pomkos/.conda/envs/data_env/lib/python3.8/site-packages/sklearn/ensemble/_forest.py\", line 110, in _get_n_samples_bootstrap\n",
      "    raise ValueError(msg.format(max_samples))\n",
      "ValueError: `max_samples` must be in range (0, 1) but got value 8489.0\n",
      "\n",
      "  warnings.warn(\"Estimator fit failed. The score on this train-test\"\n",
      "/home/jupyter-pomkos/.conda/envs/data_env/lib/python3.8/site-packages/sklearn/model_selection/_validation.py:615: FitFailedWarning: Estimator fit failed. The score on this train-test partition for these parameters will be set to nan. Details: \n",
      "Traceback (most recent call last):\n",
      "  File \"/home/jupyter-pomkos/.conda/envs/data_env/lib/python3.8/site-packages/sklearn/model_selection/_validation.py\", line 598, in _fit_and_score\n",
      "    estimator.fit(X_train, y_train, **fit_params)\n",
      "  File \"/home/jupyter-pomkos/.conda/envs/data_env/lib/python3.8/site-packages/sklearn/pipeline.py\", line 346, in fit\n",
      "    self._final_estimator.fit(Xt, y, **fit_params_last_step)\n",
      "  File \"/home/jupyter-pomkos/.conda/envs/data_env/lib/python3.8/site-packages/sklearn/ensemble/_forest.py\", line 343, in fit\n",
      "    n_samples_bootstrap = _get_n_samples_bootstrap(\n",
      "  File \"/home/jupyter-pomkos/.conda/envs/data_env/lib/python3.8/site-packages/sklearn/ensemble/_forest.py\", line 110, in _get_n_samples_bootstrap\n",
      "    raise ValueError(msg.format(max_samples))\n",
      "ValueError: `max_samples` must be in range (0, 1) but got value 8489.0\n",
      "\n",
      "  warnings.warn(\"Estimator fit failed. The score on this train-test\"\n",
      "/home/jupyter-pomkos/.conda/envs/data_env/lib/python3.8/site-packages/sklearn/model_selection/_validation.py:615: FitFailedWarning: Estimator fit failed. The score on this train-test partition for these parameters will be set to nan. Details: \n",
      "Traceback (most recent call last):\n",
      "  File \"/home/jupyter-pomkos/.conda/envs/data_env/lib/python3.8/site-packages/sklearn/model_selection/_validation.py\", line 598, in _fit_and_score\n",
      "    estimator.fit(X_train, y_train, **fit_params)\n",
      "  File \"/home/jupyter-pomkos/.conda/envs/data_env/lib/python3.8/site-packages/sklearn/pipeline.py\", line 346, in fit\n",
      "    self._final_estimator.fit(Xt, y, **fit_params_last_step)\n",
      "  File \"/home/jupyter-pomkos/.conda/envs/data_env/lib/python3.8/site-packages/sklearn/ensemble/_forest.py\", line 343, in fit\n",
      "    n_samples_bootstrap = _get_n_samples_bootstrap(\n",
      "  File \"/home/jupyter-pomkos/.conda/envs/data_env/lib/python3.8/site-packages/sklearn/ensemble/_forest.py\", line 110, in _get_n_samples_bootstrap\n",
      "    raise ValueError(msg.format(max_samples))\n",
      "ValueError: `max_samples` must be in range (0, 1) but got value 8489.0\n",
      "\n",
      "  warnings.warn(\"Estimator fit failed. The score on this train-test\"\n",
      "/home/jupyter-pomkos/.conda/envs/data_env/lib/python3.8/site-packages/sklearn/model_selection/_validation.py:615: FitFailedWarning: Estimator fit failed. The score on this train-test partition for these parameters will be set to nan. Details: \n",
      "Traceback (most recent call last):\n",
      "  File \"/home/jupyter-pomkos/.conda/envs/data_env/lib/python3.8/site-packages/sklearn/model_selection/_validation.py\", line 598, in _fit_and_score\n",
      "    estimator.fit(X_train, y_train, **fit_params)\n",
      "  File \"/home/jupyter-pomkos/.conda/envs/data_env/lib/python3.8/site-packages/sklearn/pipeline.py\", line 346, in fit\n",
      "    self._final_estimator.fit(Xt, y, **fit_params_last_step)\n",
      "  File \"/home/jupyter-pomkos/.conda/envs/data_env/lib/python3.8/site-packages/sklearn/ensemble/_forest.py\", line 343, in fit\n",
      "    n_samples_bootstrap = _get_n_samples_bootstrap(\n",
      "  File \"/home/jupyter-pomkos/.conda/envs/data_env/lib/python3.8/site-packages/sklearn/ensemble/_forest.py\", line 110, in _get_n_samples_bootstrap\n",
      "    raise ValueError(msg.format(max_samples))\n",
      "ValueError: `max_samples` must be in range (0, 1) but got value 8489.0\n",
      "\n",
      "  warnings.warn(\"Estimator fit failed. The score on this train-test\"\n",
      "/home/jupyter-pomkos/.conda/envs/data_env/lib/python3.8/site-packages/sklearn/model_selection/_validation.py:615: FitFailedWarning: Estimator fit failed. The score on this train-test partition for these parameters will be set to nan. Details: \n",
      "Traceback (most recent call last):\n",
      "  File \"/home/jupyter-pomkos/.conda/envs/data_env/lib/python3.8/site-packages/sklearn/model_selection/_validation.py\", line 598, in _fit_and_score\n",
      "    estimator.fit(X_train, y_train, **fit_params)\n",
      "  File \"/home/jupyter-pomkos/.conda/envs/data_env/lib/python3.8/site-packages/sklearn/pipeline.py\", line 346, in fit\n",
      "    self._final_estimator.fit(Xt, y, **fit_params_last_step)\n",
      "  File \"/home/jupyter-pomkos/.conda/envs/data_env/lib/python3.8/site-packages/sklearn/ensemble/_forest.py\", line 343, in fit\n",
      "    n_samples_bootstrap = _get_n_samples_bootstrap(\n",
      "  File \"/home/jupyter-pomkos/.conda/envs/data_env/lib/python3.8/site-packages/sklearn/ensemble/_forest.py\", line 110, in _get_n_samples_bootstrap\n",
      "    raise ValueError(msg.format(max_samples))\n",
      "ValueError: `max_samples` must be in range (0, 1) but got value 8489.0\n",
      "\n",
      "  warnings.warn(\"Estimator fit failed. The score on this train-test\"\n",
      "/home/jupyter-pomkos/.conda/envs/data_env/lib/python3.8/site-packages/sklearn/model_selection/_validation.py:615: FitFailedWarning: Estimator fit failed. The score on this train-test partition for these parameters will be set to nan. Details: \n",
      "Traceback (most recent call last):\n",
      "  File \"/home/jupyter-pomkos/.conda/envs/data_env/lib/python3.8/site-packages/sklearn/model_selection/_validation.py\", line 598, in _fit_and_score\n",
      "    estimator.fit(X_train, y_train, **fit_params)\n",
      "  File \"/home/jupyter-pomkos/.conda/envs/data_env/lib/python3.8/site-packages/sklearn/pipeline.py\", line 346, in fit\n",
      "    self._final_estimator.fit(Xt, y, **fit_params_last_step)\n",
      "  File \"/home/jupyter-pomkos/.conda/envs/data_env/lib/python3.8/site-packages/sklearn/ensemble/_forest.py\", line 343, in fit\n",
      "    n_samples_bootstrap = _get_n_samples_bootstrap(\n",
      "  File \"/home/jupyter-pomkos/.conda/envs/data_env/lib/python3.8/site-packages/sklearn/ensemble/_forest.py\", line 110, in _get_n_samples_bootstrap\n",
      "    raise ValueError(msg.format(max_samples))\n",
      "ValueError: `max_samples` must be in range (0, 1) but got value 8489.0\n",
      "\n",
      "  warnings.warn(\"Estimator fit failed. The score on this train-test\"\n",
      "/home/jupyter-pomkos/.conda/envs/data_env/lib/python3.8/site-packages/sklearn/model_selection/_validation.py:615: FitFailedWarning: Estimator fit failed. The score on this train-test partition for these parameters will be set to nan. Details: \n",
      "Traceback (most recent call last):\n",
      "  File \"/home/jupyter-pomkos/.conda/envs/data_env/lib/python3.8/site-packages/sklearn/model_selection/_validation.py\", line 598, in _fit_and_score\n",
      "    estimator.fit(X_train, y_train, **fit_params)\n",
      "  File \"/home/jupyter-pomkos/.conda/envs/data_env/lib/python3.8/site-packages/sklearn/pipeline.py\", line 346, in fit\n",
      "    self._final_estimator.fit(Xt, y, **fit_params_last_step)\n",
      "  File \"/home/jupyter-pomkos/.conda/envs/data_env/lib/python3.8/site-packages/sklearn/ensemble/_forest.py\", line 343, in fit\n",
      "    n_samples_bootstrap = _get_n_samples_bootstrap(\n",
      "  File \"/home/jupyter-pomkos/.conda/envs/data_env/lib/python3.8/site-packages/sklearn/ensemble/_forest.py\", line 110, in _get_n_samples_bootstrap\n",
      "    raise ValueError(msg.format(max_samples))\n",
      "ValueError: `max_samples` must be in range (0, 1) but got value 8489.0\n",
      "\n",
      "  warnings.warn(\"Estimator fit failed. The score on this train-test\"\n",
      "/home/jupyter-pomkos/.conda/envs/data_env/lib/python3.8/site-packages/sklearn/model_selection/_validation.py:615: FitFailedWarning: Estimator fit failed. The score on this train-test partition for these parameters will be set to nan. Details: \n",
      "Traceback (most recent call last):\n",
      "  File \"/home/jupyter-pomkos/.conda/envs/data_env/lib/python3.8/site-packages/sklearn/model_selection/_validation.py\", line 598, in _fit_and_score\n",
      "    estimator.fit(X_train, y_train, **fit_params)\n",
      "  File \"/home/jupyter-pomkos/.conda/envs/data_env/lib/python3.8/site-packages/sklearn/pipeline.py\", line 346, in fit\n",
      "    self._final_estimator.fit(Xt, y, **fit_params_last_step)\n",
      "  File \"/home/jupyter-pomkos/.conda/envs/data_env/lib/python3.8/site-packages/sklearn/ensemble/_forest.py\", line 343, in fit\n",
      "    n_samples_bootstrap = _get_n_samples_bootstrap(\n",
      "  File \"/home/jupyter-pomkos/.conda/envs/data_env/lib/python3.8/site-packages/sklearn/ensemble/_forest.py\", line 110, in _get_n_samples_bootstrap\n",
      "    raise ValueError(msg.format(max_samples))\n",
      "ValueError: `max_samples` must be in range (0, 1) but got value 8489.0\n",
      "\n",
      "  warnings.warn(\"Estimator fit failed. The score on this train-test\"\n",
      "/home/jupyter-pomkos/.conda/envs/data_env/lib/python3.8/site-packages/sklearn/model_selection/_validation.py:615: FitFailedWarning: Estimator fit failed. The score on this train-test partition for these parameters will be set to nan. Details: \n",
      "Traceback (most recent call last):\n",
      "  File \"/home/jupyter-pomkos/.conda/envs/data_env/lib/python3.8/site-packages/sklearn/model_selection/_validation.py\", line 598, in _fit_and_score\n",
      "    estimator.fit(X_train, y_train, **fit_params)\n",
      "  File \"/home/jupyter-pomkos/.conda/envs/data_env/lib/python3.8/site-packages/sklearn/pipeline.py\", line 346, in fit\n",
      "    self._final_estimator.fit(Xt, y, **fit_params_last_step)\n",
      "  File \"/home/jupyter-pomkos/.conda/envs/data_env/lib/python3.8/site-packages/sklearn/ensemble/_forest.py\", line 343, in fit\n",
      "    n_samples_bootstrap = _get_n_samples_bootstrap(\n",
      "  File \"/home/jupyter-pomkos/.conda/envs/data_env/lib/python3.8/site-packages/sklearn/ensemble/_forest.py\", line 110, in _get_n_samples_bootstrap\n",
      "    raise ValueError(msg.format(max_samples))\n",
      "ValueError: `max_samples` must be in range (0, 1) but got value 8489.0\n",
      "\n",
      "  warnings.warn(\"Estimator fit failed. The score on this train-test\"\n",
      "/home/jupyter-pomkos/.conda/envs/data_env/lib/python3.8/site-packages/sklearn/model_selection/_validation.py:615: FitFailedWarning: Estimator fit failed. The score on this train-test partition for these parameters will be set to nan. Details: \n",
      "Traceback (most recent call last):\n",
      "  File \"/home/jupyter-pomkos/.conda/envs/data_env/lib/python3.8/site-packages/sklearn/model_selection/_validation.py\", line 598, in _fit_and_score\n",
      "    estimator.fit(X_train, y_train, **fit_params)\n",
      "  File \"/home/jupyter-pomkos/.conda/envs/data_env/lib/python3.8/site-packages/sklearn/pipeline.py\", line 346, in fit\n",
      "    self._final_estimator.fit(Xt, y, **fit_params_last_step)\n",
      "  File \"/home/jupyter-pomkos/.conda/envs/data_env/lib/python3.8/site-packages/sklearn/ensemble/_forest.py\", line 343, in fit\n",
      "    n_samples_bootstrap = _get_n_samples_bootstrap(\n",
      "  File \"/home/jupyter-pomkos/.conda/envs/data_env/lib/python3.8/site-packages/sklearn/ensemble/_forest.py\", line 110, in _get_n_samples_bootstrap\n",
      "    raise ValueError(msg.format(max_samples))\n",
      "ValueError: `max_samples` must be in range (0, 1) but got value 8489.0\n",
      "\n",
      "  warnings.warn(\"Estimator fit failed. The score on this train-test\"\n",
      "/home/jupyter-pomkos/.conda/envs/data_env/lib/python3.8/site-packages/sklearn/model_selection/_validation.py:615: FitFailedWarning: Estimator fit failed. The score on this train-test partition for these parameters will be set to nan. Details: \n",
      "Traceback (most recent call last):\n",
      "  File \"/home/jupyter-pomkos/.conda/envs/data_env/lib/python3.8/site-packages/sklearn/model_selection/_validation.py\", line 598, in _fit_and_score\n",
      "    estimator.fit(X_train, y_train, **fit_params)\n",
      "  File \"/home/jupyter-pomkos/.conda/envs/data_env/lib/python3.8/site-packages/sklearn/pipeline.py\", line 346, in fit\n",
      "    self._final_estimator.fit(Xt, y, **fit_params_last_step)\n",
      "  File \"/home/jupyter-pomkos/.conda/envs/data_env/lib/python3.8/site-packages/sklearn/ensemble/_forest.py\", line 343, in fit\n",
      "    n_samples_bootstrap = _get_n_samples_bootstrap(\n",
      "  File \"/home/jupyter-pomkos/.conda/envs/data_env/lib/python3.8/site-packages/sklearn/ensemble/_forest.py\", line 110, in _get_n_samples_bootstrap\n",
      "    raise ValueError(msg.format(max_samples))\n",
      "ValueError: `max_samples` must be in range (0, 1) but got value 8489.0\n",
      "\n",
      "  warnings.warn(\"Estimator fit failed. The score on this train-test\"\n",
      "/home/jupyter-pomkos/.conda/envs/data_env/lib/python3.8/site-packages/sklearn/model_selection/_validation.py:615: FitFailedWarning: Estimator fit failed. The score on this train-test partition for these parameters will be set to nan. Details: \n",
      "Traceback (most recent call last):\n",
      "  File \"/home/jupyter-pomkos/.conda/envs/data_env/lib/python3.8/site-packages/sklearn/model_selection/_validation.py\", line 598, in _fit_and_score\n",
      "    estimator.fit(X_train, y_train, **fit_params)\n",
      "  File \"/home/jupyter-pomkos/.conda/envs/data_env/lib/python3.8/site-packages/sklearn/pipeline.py\", line 346, in fit\n",
      "    self._final_estimator.fit(Xt, y, **fit_params_last_step)\n",
      "  File \"/home/jupyter-pomkos/.conda/envs/data_env/lib/python3.8/site-packages/sklearn/ensemble/_forest.py\", line 343, in fit\n",
      "    n_samples_bootstrap = _get_n_samples_bootstrap(\n",
      "  File \"/home/jupyter-pomkos/.conda/envs/data_env/lib/python3.8/site-packages/sklearn/ensemble/_forest.py\", line 110, in _get_n_samples_bootstrap\n",
      "    raise ValueError(msg.format(max_samples))\n",
      "ValueError: `max_samples` must be in range (0, 1) but got value 8489.0\n",
      "\n",
      "  warnings.warn(\"Estimator fit failed. The score on this train-test\"\n",
      "/home/jupyter-pomkos/.conda/envs/data_env/lib/python3.8/site-packages/sklearn/model_selection/_validation.py:615: FitFailedWarning: Estimator fit failed. The score on this train-test partition for these parameters will be set to nan. Details: \n",
      "Traceback (most recent call last):\n",
      "  File \"/home/jupyter-pomkos/.conda/envs/data_env/lib/python3.8/site-packages/sklearn/model_selection/_validation.py\", line 598, in _fit_and_score\n",
      "    estimator.fit(X_train, y_train, **fit_params)\n",
      "  File \"/home/jupyter-pomkos/.conda/envs/data_env/lib/python3.8/site-packages/sklearn/pipeline.py\", line 341, in fit\n",
      "    Xt = self._fit(X, y, **fit_params_steps)\n",
      "  File \"/home/jupyter-pomkos/.conda/envs/data_env/lib/python3.8/site-packages/sklearn/pipeline.py\", line 303, in _fit\n",
      "    X, fitted_transformer = fit_transform_one_cached(\n",
      "  File \"/home/jupyter-pomkos/.conda/envs/data_env/lib/python3.8/site-packages/joblib/memory.py\", line 352, in __call__\n",
      "    return self.func(*args, **kwargs)\n",
      "  File \"/home/jupyter-pomkos/.conda/envs/data_env/lib/python3.8/site-packages/sklearn/pipeline.py\", line 754, in _fit_transform_one\n",
      "    res = transformer.fit_transform(X, y, **fit_params)\n",
      "  File \"/home/jupyter-pomkos/.conda/envs/data_env/lib/python3.8/site-packages/sklearn/base.py\", line 702, in fit_transform\n",
      "    return self.fit(X, y, **fit_params).transform(X)\n",
      "  File \"/home/jupyter-pomkos/.conda/envs/data_env/lib/python3.8/site-packages/sklearn/feature_selection/_variance_threshold.py\", line 93, in fit\n",
      "    raise ValueError(msg.format(self.threshold))\n",
      "ValueError: No feature in X meets the variance threshold 0.10000\n",
      "\n",
      "  warnings.warn(\"Estimator fit failed. The score on this train-test\"\n",
      "/home/jupyter-pomkos/.conda/envs/data_env/lib/python3.8/site-packages/sklearn/model_selection/_validation.py:615: FitFailedWarning: Estimator fit failed. The score on this train-test partition for these parameters will be set to nan. Details: \n",
      "Traceback (most recent call last):\n",
      "  File \"/home/jupyter-pomkos/.conda/envs/data_env/lib/python3.8/site-packages/sklearn/model_selection/_validation.py\", line 598, in _fit_and_score\n",
      "    estimator.fit(X_train, y_train, **fit_params)\n",
      "  File \"/home/jupyter-pomkos/.conda/envs/data_env/lib/python3.8/site-packages/sklearn/pipeline.py\", line 341, in fit\n",
      "    Xt = self._fit(X, y, **fit_params_steps)\n",
      "  File \"/home/jupyter-pomkos/.conda/envs/data_env/lib/python3.8/site-packages/sklearn/pipeline.py\", line 303, in _fit\n",
      "    X, fitted_transformer = fit_transform_one_cached(\n",
      "  File \"/home/jupyter-pomkos/.conda/envs/data_env/lib/python3.8/site-packages/joblib/memory.py\", line 352, in __call__\n",
      "    return self.func(*args, **kwargs)\n",
      "  File \"/home/jupyter-pomkos/.conda/envs/data_env/lib/python3.8/site-packages/sklearn/pipeline.py\", line 754, in _fit_transform_one\n",
      "    res = transformer.fit_transform(X, y, **fit_params)\n",
      "  File \"/home/jupyter-pomkos/.conda/envs/data_env/lib/python3.8/site-packages/sklearn/base.py\", line 702, in fit_transform\n",
      "    return self.fit(X, y, **fit_params).transform(X)\n",
      "  File \"/home/jupyter-pomkos/.conda/envs/data_env/lib/python3.8/site-packages/sklearn/feature_selection/_variance_threshold.py\", line 93, in fit\n",
      "    raise ValueError(msg.format(self.threshold))\n",
      "ValueError: No feature in X meets the variance threshold 0.10000\n",
      "\n",
      "  warnings.warn(\"Estimator fit failed. The score on this train-test\"\n",
      "/home/jupyter-pomkos/.conda/envs/data_env/lib/python3.8/site-packages/sklearn/model_selection/_validation.py:615: FitFailedWarning: Estimator fit failed. The score on this train-test partition for these parameters will be set to nan. Details: \n",
      "Traceback (most recent call last):\n",
      "  File \"/home/jupyter-pomkos/.conda/envs/data_env/lib/python3.8/site-packages/sklearn/model_selection/_validation.py\", line 598, in _fit_and_score\n",
      "    estimator.fit(X_train, y_train, **fit_params)\n",
      "  File \"/home/jupyter-pomkos/.conda/envs/data_env/lib/python3.8/site-packages/sklearn/pipeline.py\", line 346, in fit\n",
      "    self._final_estimator.fit(Xt, y, **fit_params_last_step)\n",
      "  File \"/home/jupyter-pomkos/.conda/envs/data_env/lib/python3.8/site-packages/sklearn/ensemble/_forest.py\", line 343, in fit\n",
      "    n_samples_bootstrap = _get_n_samples_bootstrap(\n",
      "  File \"/home/jupyter-pomkos/.conda/envs/data_env/lib/python3.8/site-packages/sklearn/ensemble/_forest.py\", line 110, in _get_n_samples_bootstrap\n",
      "    raise ValueError(msg.format(max_samples))\n",
      "ValueError: `max_samples` must be in range (0, 1) but got value 8489.0\n",
      "\n",
      "  warnings.warn(\"Estimator fit failed. The score on this train-test\"\n",
      "/home/jupyter-pomkos/.conda/envs/data_env/lib/python3.8/site-packages/sklearn/model_selection/_validation.py:615: FitFailedWarning: Estimator fit failed. The score on this train-test partition for these parameters will be set to nan. Details: \n",
      "Traceback (most recent call last):\n",
      "  File \"/home/jupyter-pomkos/.conda/envs/data_env/lib/python3.8/site-packages/sklearn/model_selection/_validation.py\", line 598, in _fit_and_score\n",
      "    estimator.fit(X_train, y_train, **fit_params)\n",
      "  File \"/home/jupyter-pomkos/.conda/envs/data_env/lib/python3.8/site-packages/sklearn/pipeline.py\", line 346, in fit\n",
      "    self._final_estimator.fit(Xt, y, **fit_params_last_step)\n",
      "  File \"/home/jupyter-pomkos/.conda/envs/data_env/lib/python3.8/site-packages/sklearn/ensemble/_forest.py\", line 343, in fit\n",
      "    n_samples_bootstrap = _get_n_samples_bootstrap(\n",
      "  File \"/home/jupyter-pomkos/.conda/envs/data_env/lib/python3.8/site-packages/sklearn/ensemble/_forest.py\", line 110, in _get_n_samples_bootstrap\n",
      "    raise ValueError(msg.format(max_samples))\n",
      "ValueError: `max_samples` must be in range (0, 1) but got value 8489.0\n",
      "\n",
      "  warnings.warn(\"Estimator fit failed. The score on this train-test\"\n",
      "/home/jupyter-pomkos/.conda/envs/data_env/lib/python3.8/site-packages/sklearn/model_selection/_validation.py:615: FitFailedWarning: Estimator fit failed. The score on this train-test partition for these parameters will be set to nan. Details: \n",
      "Traceback (most recent call last):\n",
      "  File \"/home/jupyter-pomkos/.conda/envs/data_env/lib/python3.8/site-packages/sklearn/model_selection/_validation.py\", line 598, in _fit_and_score\n",
      "    estimator.fit(X_train, y_train, **fit_params)\n",
      "  File \"/home/jupyter-pomkos/.conda/envs/data_env/lib/python3.8/site-packages/sklearn/pipeline.py\", line 346, in fit\n",
      "    self._final_estimator.fit(Xt, y, **fit_params_last_step)\n",
      "  File \"/home/jupyter-pomkos/.conda/envs/data_env/lib/python3.8/site-packages/sklearn/ensemble/_forest.py\", line 343, in fit\n",
      "    n_samples_bootstrap = _get_n_samples_bootstrap(\n",
      "  File \"/home/jupyter-pomkos/.conda/envs/data_env/lib/python3.8/site-packages/sklearn/ensemble/_forest.py\", line 110, in _get_n_samples_bootstrap\n",
      "    raise ValueError(msg.format(max_samples))\n",
      "ValueError: `max_samples` must be in range (0, 1) but got value 8489.0\n",
      "\n",
      "  warnings.warn(\"Estimator fit failed. The score on this train-test\"\n",
      "/home/jupyter-pomkos/.conda/envs/data_env/lib/python3.8/site-packages/sklearn/model_selection/_validation.py:615: FitFailedWarning: Estimator fit failed. The score on this train-test partition for these parameters will be set to nan. Details: \n",
      "Traceback (most recent call last):\n",
      "  File \"/home/jupyter-pomkos/.conda/envs/data_env/lib/python3.8/site-packages/sklearn/model_selection/_validation.py\", line 598, in _fit_and_score\n",
      "    estimator.fit(X_train, y_train, **fit_params)\n",
      "  File \"/home/jupyter-pomkos/.conda/envs/data_env/lib/python3.8/site-packages/sklearn/pipeline.py\", line 346, in fit\n",
      "    self._final_estimator.fit(Xt, y, **fit_params_last_step)\n",
      "  File \"/home/jupyter-pomkos/.conda/envs/data_env/lib/python3.8/site-packages/sklearn/ensemble/_forest.py\", line 343, in fit\n",
      "    n_samples_bootstrap = _get_n_samples_bootstrap(\n",
      "  File \"/home/jupyter-pomkos/.conda/envs/data_env/lib/python3.8/site-packages/sklearn/ensemble/_forest.py\", line 110, in _get_n_samples_bootstrap\n",
      "    raise ValueError(msg.format(max_samples))\n",
      "ValueError: `max_samples` must be in range (0, 1) but got value 8489.0\n",
      "\n",
      "  warnings.warn(\"Estimator fit failed. The score on this train-test\"\n",
      "/home/jupyter-pomkos/.conda/envs/data_env/lib/python3.8/site-packages/sklearn/model_selection/_validation.py:615: FitFailedWarning: Estimator fit failed. The score on this train-test partition for these parameters will be set to nan. Details: \n",
      "Traceback (most recent call last):\n",
      "  File \"/home/jupyter-pomkos/.conda/envs/data_env/lib/python3.8/site-packages/sklearn/model_selection/_validation.py\", line 598, in _fit_and_score\n",
      "    estimator.fit(X_train, y_train, **fit_params)\n",
      "  File \"/home/jupyter-pomkos/.conda/envs/data_env/lib/python3.8/site-packages/sklearn/pipeline.py\", line 346, in fit\n",
      "    self._final_estimator.fit(Xt, y, **fit_params_last_step)\n",
      "  File \"/home/jupyter-pomkos/.conda/envs/data_env/lib/python3.8/site-packages/sklearn/ensemble/_forest.py\", line 343, in fit\n",
      "    n_samples_bootstrap = _get_n_samples_bootstrap(\n",
      "  File \"/home/jupyter-pomkos/.conda/envs/data_env/lib/python3.8/site-packages/sklearn/ensemble/_forest.py\", line 110, in _get_n_samples_bootstrap\n",
      "    raise ValueError(msg.format(max_samples))\n",
      "ValueError: `max_samples` must be in range (0, 1) but got value 8489.0\n",
      "\n",
      "  warnings.warn(\"Estimator fit failed. The score on this train-test\"\n",
      "/home/jupyter-pomkos/.conda/envs/data_env/lib/python3.8/site-packages/sklearn/model_selection/_validation.py:615: FitFailedWarning: Estimator fit failed. The score on this train-test partition for these parameters will be set to nan. Details: \n",
      "Traceback (most recent call last):\n",
      "  File \"/home/jupyter-pomkos/.conda/envs/data_env/lib/python3.8/site-packages/sklearn/model_selection/_validation.py\", line 598, in _fit_and_score\n",
      "    estimator.fit(X_train, y_train, **fit_params)\n",
      "  File \"/home/jupyter-pomkos/.conda/envs/data_env/lib/python3.8/site-packages/sklearn/pipeline.py\", line 346, in fit\n",
      "    self._final_estimator.fit(Xt, y, **fit_params_last_step)\n",
      "  File \"/home/jupyter-pomkos/.conda/envs/data_env/lib/python3.8/site-packages/sklearn/ensemble/_forest.py\", line 343, in fit\n",
      "    n_samples_bootstrap = _get_n_samples_bootstrap(\n",
      "  File \"/home/jupyter-pomkos/.conda/envs/data_env/lib/python3.8/site-packages/sklearn/ensemble/_forest.py\", line 110, in _get_n_samples_bootstrap\n",
      "    raise ValueError(msg.format(max_samples))\n",
      "ValueError: `max_samples` must be in range (0, 1) but got value 8489.0\n",
      "\n",
      "  warnings.warn(\"Estimator fit failed. The score on this train-test\"\n",
      "/home/jupyter-pomkos/.conda/envs/data_env/lib/python3.8/site-packages/sklearn/model_selection/_validation.py:615: FitFailedWarning: Estimator fit failed. The score on this train-test partition for these parameters will be set to nan. Details: \n",
      "Traceback (most recent call last):\n",
      "  File \"/home/jupyter-pomkos/.conda/envs/data_env/lib/python3.8/site-packages/sklearn/model_selection/_validation.py\", line 598, in _fit_and_score\n",
      "    estimator.fit(X_train, y_train, **fit_params)\n",
      "  File \"/home/jupyter-pomkos/.conda/envs/data_env/lib/python3.8/site-packages/sklearn/pipeline.py\", line 346, in fit\n",
      "    self._final_estimator.fit(Xt, y, **fit_params_last_step)\n",
      "  File \"/home/jupyter-pomkos/.conda/envs/data_env/lib/python3.8/site-packages/sklearn/ensemble/_forest.py\", line 343, in fit\n",
      "    n_samples_bootstrap = _get_n_samples_bootstrap(\n",
      "  File \"/home/jupyter-pomkos/.conda/envs/data_env/lib/python3.8/site-packages/sklearn/ensemble/_forest.py\", line 110, in _get_n_samples_bootstrap\n",
      "    raise ValueError(msg.format(max_samples))\n",
      "ValueError: `max_samples` must be in range (0, 1) but got value 8489.0\n",
      "\n",
      "  warnings.warn(\"Estimator fit failed. The score on this train-test\"\n",
      "/home/jupyter-pomkos/.conda/envs/data_env/lib/python3.8/site-packages/sklearn/model_selection/_validation.py:615: FitFailedWarning: Estimator fit failed. The score on this train-test partition for these parameters will be set to nan. Details: \n",
      "Traceback (most recent call last):\n",
      "  File \"/home/jupyter-pomkos/.conda/envs/data_env/lib/python3.8/site-packages/sklearn/model_selection/_validation.py\", line 598, in _fit_and_score\n",
      "    estimator.fit(X_train, y_train, **fit_params)\n",
      "  File \"/home/jupyter-pomkos/.conda/envs/data_env/lib/python3.8/site-packages/sklearn/pipeline.py\", line 346, in fit\n",
      "    self._final_estimator.fit(Xt, y, **fit_params_last_step)\n",
      "  File \"/home/jupyter-pomkos/.conda/envs/data_env/lib/python3.8/site-packages/sklearn/ensemble/_forest.py\", line 343, in fit\n",
      "    n_samples_bootstrap = _get_n_samples_bootstrap(\n",
      "  File \"/home/jupyter-pomkos/.conda/envs/data_env/lib/python3.8/site-packages/sklearn/ensemble/_forest.py\", line 110, in _get_n_samples_bootstrap\n",
      "    raise ValueError(msg.format(max_samples))\n",
      "ValueError: `max_samples` must be in range (0, 1) but got value 8489.0\n",
      "\n",
      "  warnings.warn(\"Estimator fit failed. The score on this train-test\"\n",
      "/home/jupyter-pomkos/.conda/envs/data_env/lib/python3.8/site-packages/sklearn/model_selection/_validation.py:615: FitFailedWarning: Estimator fit failed. The score on this train-test partition for these parameters will be set to nan. Details: \n",
      "Traceback (most recent call last):\n",
      "  File \"/home/jupyter-pomkos/.conda/envs/data_env/lib/python3.8/site-packages/sklearn/model_selection/_validation.py\", line 598, in _fit_and_score\n",
      "    estimator.fit(X_train, y_train, **fit_params)\n",
      "  File \"/home/jupyter-pomkos/.conda/envs/data_env/lib/python3.8/site-packages/sklearn/pipeline.py\", line 346, in fit\n",
      "    self._final_estimator.fit(Xt, y, **fit_params_last_step)\n",
      "  File \"/home/jupyter-pomkos/.conda/envs/data_env/lib/python3.8/site-packages/sklearn/ensemble/_forest.py\", line 343, in fit\n",
      "    n_samples_bootstrap = _get_n_samples_bootstrap(\n",
      "  File \"/home/jupyter-pomkos/.conda/envs/data_env/lib/python3.8/site-packages/sklearn/ensemble/_forest.py\", line 110, in _get_n_samples_bootstrap\n",
      "    raise ValueError(msg.format(max_samples))\n",
      "ValueError: `max_samples` must be in range (0, 1) but got value 8489.0\n",
      "\n",
      "  warnings.warn(\"Estimator fit failed. The score on this train-test\"\n",
      "/home/jupyter-pomkos/.conda/envs/data_env/lib/python3.8/site-packages/sklearn/model_selection/_validation.py:615: FitFailedWarning: Estimator fit failed. The score on this train-test partition for these parameters will be set to nan. Details: \n",
      "Traceback (most recent call last):\n",
      "  File \"/home/jupyter-pomkos/.conda/envs/data_env/lib/python3.8/site-packages/sklearn/model_selection/_validation.py\", line 598, in _fit_and_score\n",
      "    estimator.fit(X_train, y_train, **fit_params)\n",
      "  File \"/home/jupyter-pomkos/.conda/envs/data_env/lib/python3.8/site-packages/sklearn/pipeline.py\", line 346, in fit\n",
      "    self._final_estimator.fit(Xt, y, **fit_params_last_step)\n",
      "  File \"/home/jupyter-pomkos/.conda/envs/data_env/lib/python3.8/site-packages/sklearn/ensemble/_forest.py\", line 343, in fit\n",
      "    n_samples_bootstrap = _get_n_samples_bootstrap(\n",
      "  File \"/home/jupyter-pomkos/.conda/envs/data_env/lib/python3.8/site-packages/sklearn/ensemble/_forest.py\", line 110, in _get_n_samples_bootstrap\n",
      "    raise ValueError(msg.format(max_samples))\n",
      "ValueError: `max_samples` must be in range (0, 1) but got value 8489.0\n",
      "\n",
      "  warnings.warn(\"Estimator fit failed. The score on this train-test\"\n",
      "/home/jupyter-pomkos/.conda/envs/data_env/lib/python3.8/site-packages/sklearn/model_selection/_validation.py:615: FitFailedWarning: Estimator fit failed. The score on this train-test partition for these parameters will be set to nan. Details: \n",
      "Traceback (most recent call last):\n",
      "  File \"/home/jupyter-pomkos/.conda/envs/data_env/lib/python3.8/site-packages/sklearn/model_selection/_validation.py\", line 598, in _fit_and_score\n",
      "    estimator.fit(X_train, y_train, **fit_params)\n",
      "  File \"/home/jupyter-pomkos/.conda/envs/data_env/lib/python3.8/site-packages/sklearn/pipeline.py\", line 346, in fit\n",
      "    self._final_estimator.fit(Xt, y, **fit_params_last_step)\n",
      "  File \"/home/jupyter-pomkos/.conda/envs/data_env/lib/python3.8/site-packages/sklearn/ensemble/_forest.py\", line 343, in fit\n",
      "    n_samples_bootstrap = _get_n_samples_bootstrap(\n",
      "  File \"/home/jupyter-pomkos/.conda/envs/data_env/lib/python3.8/site-packages/sklearn/ensemble/_forest.py\", line 110, in _get_n_samples_bootstrap\n",
      "    raise ValueError(msg.format(max_samples))\n",
      "ValueError: `max_samples` must be in range (0, 1) but got value 8489.0\n",
      "\n",
      "  warnings.warn(\"Estimator fit failed. The score on this train-test\"\n",
      "/home/jupyter-pomkos/.conda/envs/data_env/lib/python3.8/site-packages/sklearn/model_selection/_validation.py:615: FitFailedWarning: Estimator fit failed. The score on this train-test partition for these parameters will be set to nan. Details: \n",
      "Traceback (most recent call last):\n",
      "  File \"/home/jupyter-pomkos/.conda/envs/data_env/lib/python3.8/site-packages/sklearn/model_selection/_validation.py\", line 598, in _fit_and_score\n",
      "    estimator.fit(X_train, y_train, **fit_params)\n",
      "  File \"/home/jupyter-pomkos/.conda/envs/data_env/lib/python3.8/site-packages/sklearn/pipeline.py\", line 346, in fit\n",
      "    self._final_estimator.fit(Xt, y, **fit_params_last_step)\n",
      "  File \"/home/jupyter-pomkos/.conda/envs/data_env/lib/python3.8/site-packages/sklearn/ensemble/_forest.py\", line 343, in fit\n",
      "    n_samples_bootstrap = _get_n_samples_bootstrap(\n",
      "  File \"/home/jupyter-pomkos/.conda/envs/data_env/lib/python3.8/site-packages/sklearn/ensemble/_forest.py\", line 110, in _get_n_samples_bootstrap\n",
      "    raise ValueError(msg.format(max_samples))\n",
      "ValueError: `max_samples` must be in range (0, 1) but got value 8489.0\n",
      "\n",
      "  warnings.warn(\"Estimator fit failed. The score on this train-test\"\n",
      "/home/jupyter-pomkos/.conda/envs/data_env/lib/python3.8/site-packages/sklearn/model_selection/_validation.py:615: FitFailedWarning: Estimator fit failed. The score on this train-test partition for these parameters will be set to nan. Details: \n",
      "Traceback (most recent call last):\n",
      "  File \"/home/jupyter-pomkos/.conda/envs/data_env/lib/python3.8/site-packages/sklearn/model_selection/_validation.py\", line 598, in _fit_and_score\n",
      "    estimator.fit(X_train, y_train, **fit_params)\n",
      "  File \"/home/jupyter-pomkos/.conda/envs/data_env/lib/python3.8/site-packages/sklearn/pipeline.py\", line 346, in fit\n",
      "    self._final_estimator.fit(Xt, y, **fit_params_last_step)\n",
      "  File \"/home/jupyter-pomkos/.conda/envs/data_env/lib/python3.8/site-packages/sklearn/ensemble/_forest.py\", line 343, in fit\n",
      "    n_samples_bootstrap = _get_n_samples_bootstrap(\n",
      "  File \"/home/jupyter-pomkos/.conda/envs/data_env/lib/python3.8/site-packages/sklearn/ensemble/_forest.py\", line 110, in _get_n_samples_bootstrap\n",
      "    raise ValueError(msg.format(max_samples))\n",
      "ValueError: `max_samples` must be in range (0, 1) but got value 8489.0\n",
      "\n",
      "  warnings.warn(\"Estimator fit failed. The score on this train-test\"\n",
      "/home/jupyter-pomkos/.conda/envs/data_env/lib/python3.8/site-packages/sklearn/model_selection/_validation.py:615: FitFailedWarning: Estimator fit failed. The score on this train-test partition for these parameters will be set to nan. Details: \n",
      "Traceback (most recent call last):\n",
      "  File \"/home/jupyter-pomkos/.conda/envs/data_env/lib/python3.8/site-packages/sklearn/model_selection/_validation.py\", line 598, in _fit_and_score\n",
      "    estimator.fit(X_train, y_train, **fit_params)\n",
      "  File \"/home/jupyter-pomkos/.conda/envs/data_env/lib/python3.8/site-packages/sklearn/pipeline.py\", line 346, in fit\n",
      "    self._final_estimator.fit(Xt, y, **fit_params_last_step)\n",
      "  File \"/home/jupyter-pomkos/.conda/envs/data_env/lib/python3.8/site-packages/sklearn/ensemble/_forest.py\", line 343, in fit\n",
      "    n_samples_bootstrap = _get_n_samples_bootstrap(\n",
      "  File \"/home/jupyter-pomkos/.conda/envs/data_env/lib/python3.8/site-packages/sklearn/ensemble/_forest.py\", line 110, in _get_n_samples_bootstrap\n",
      "    raise ValueError(msg.format(max_samples))\n",
      "ValueError: `max_samples` must be in range (0, 1) but got value 8489.0\n",
      "\n",
      "  warnings.warn(\"Estimator fit failed. The score on this train-test\"\n",
      "/home/jupyter-pomkos/.conda/envs/data_env/lib/python3.8/site-packages/sklearn/model_selection/_validation.py:615: FitFailedWarning: Estimator fit failed. The score on this train-test partition for these parameters will be set to nan. Details: \n",
      "Traceback (most recent call last):\n",
      "  File \"/home/jupyter-pomkos/.conda/envs/data_env/lib/python3.8/site-packages/sklearn/model_selection/_validation.py\", line 598, in _fit_and_score\n",
      "    estimator.fit(X_train, y_train, **fit_params)\n",
      "  File \"/home/jupyter-pomkos/.conda/envs/data_env/lib/python3.8/site-packages/sklearn/pipeline.py\", line 341, in fit\n",
      "    Xt = self._fit(X, y, **fit_params_steps)\n",
      "  File \"/home/jupyter-pomkos/.conda/envs/data_env/lib/python3.8/site-packages/sklearn/pipeline.py\", line 303, in _fit\n",
      "    X, fitted_transformer = fit_transform_one_cached(\n",
      "  File \"/home/jupyter-pomkos/.conda/envs/data_env/lib/python3.8/site-packages/joblib/memory.py\", line 352, in __call__\n",
      "    return self.func(*args, **kwargs)\n",
      "  File \"/home/jupyter-pomkos/.conda/envs/data_env/lib/python3.8/site-packages/sklearn/pipeline.py\", line 754, in _fit_transform_one\n",
      "    res = transformer.fit_transform(X, y, **fit_params)\n",
      "  File \"/home/jupyter-pomkos/.conda/envs/data_env/lib/python3.8/site-packages/sklearn/base.py\", line 702, in fit_transform\n",
      "    return self.fit(X, y, **fit_params).transform(X)\n",
      "  File \"/home/jupyter-pomkos/.conda/envs/data_env/lib/python3.8/site-packages/sklearn/feature_selection/_variance_threshold.py\", line 93, in fit\n",
      "    raise ValueError(msg.format(self.threshold))\n",
      "ValueError: No feature in X meets the variance threshold 0.10000\n",
      "\n",
      "  warnings.warn(\"Estimator fit failed. The score on this train-test\"\n",
      "/home/jupyter-pomkos/.conda/envs/data_env/lib/python3.8/site-packages/sklearn/model_selection/_validation.py:615: FitFailedWarning: Estimator fit failed. The score on this train-test partition for these parameters will be set to nan. Details: \n",
      "Traceback (most recent call last):\n",
      "  File \"/home/jupyter-pomkos/.conda/envs/data_env/lib/python3.8/site-packages/sklearn/model_selection/_validation.py\", line 598, in _fit_and_score\n",
      "    estimator.fit(X_train, y_train, **fit_params)\n",
      "  File \"/home/jupyter-pomkos/.conda/envs/data_env/lib/python3.8/site-packages/sklearn/pipeline.py\", line 341, in fit\n",
      "    Xt = self._fit(X, y, **fit_params_steps)\n",
      "  File \"/home/jupyter-pomkos/.conda/envs/data_env/lib/python3.8/site-packages/sklearn/pipeline.py\", line 303, in _fit\n",
      "    X, fitted_transformer = fit_transform_one_cached(\n",
      "  File \"/home/jupyter-pomkos/.conda/envs/data_env/lib/python3.8/site-packages/joblib/memory.py\", line 352, in __call__\n",
      "    return self.func(*args, **kwargs)\n",
      "  File \"/home/jupyter-pomkos/.conda/envs/data_env/lib/python3.8/site-packages/sklearn/pipeline.py\", line 754, in _fit_transform_one\n",
      "    res = transformer.fit_transform(X, y, **fit_params)\n",
      "  File \"/home/jupyter-pomkos/.conda/envs/data_env/lib/python3.8/site-packages/sklearn/base.py\", line 702, in fit_transform\n",
      "    return self.fit(X, y, **fit_params).transform(X)\n",
      "  File \"/home/jupyter-pomkos/.conda/envs/data_env/lib/python3.8/site-packages/sklearn/feature_selection/_variance_threshold.py\", line 93, in fit\n",
      "    raise ValueError(msg.format(self.threshold))\n",
      "ValueError: No feature in X meets the variance threshold 0.10000\n",
      "\n",
      "  warnings.warn(\"Estimator fit failed. The score on this train-test\"\n",
      "/home/jupyter-pomkos/.conda/envs/data_env/lib/python3.8/site-packages/sklearn/model_selection/_validation.py:615: FitFailedWarning: Estimator fit failed. The score on this train-test partition for these parameters will be set to nan. Details: \n",
      "Traceback (most recent call last):\n",
      "  File \"/home/jupyter-pomkos/.conda/envs/data_env/lib/python3.8/site-packages/sklearn/model_selection/_validation.py\", line 598, in _fit_and_score\n",
      "    estimator.fit(X_train, y_train, **fit_params)\n",
      "  File \"/home/jupyter-pomkos/.conda/envs/data_env/lib/python3.8/site-packages/sklearn/pipeline.py\", line 346, in fit\n",
      "    self._final_estimator.fit(Xt, y, **fit_params_last_step)\n",
      "  File \"/home/jupyter-pomkos/.conda/envs/data_env/lib/python3.8/site-packages/sklearn/ensemble/_forest.py\", line 343, in fit\n",
      "    n_samples_bootstrap = _get_n_samples_bootstrap(\n",
      "  File \"/home/jupyter-pomkos/.conda/envs/data_env/lib/python3.8/site-packages/sklearn/ensemble/_forest.py\", line 110, in _get_n_samples_bootstrap\n",
      "    raise ValueError(msg.format(max_samples))\n",
      "ValueError: `max_samples` must be in range (0, 1) but got value 8489.0\n",
      "\n",
      "  warnings.warn(\"Estimator fit failed. The score on this train-test\"\n",
      "/home/jupyter-pomkos/.conda/envs/data_env/lib/python3.8/site-packages/sklearn/model_selection/_validation.py:615: FitFailedWarning: Estimator fit failed. The score on this train-test partition for these parameters will be set to nan. Details: \n",
      "Traceback (most recent call last):\n",
      "  File \"/home/jupyter-pomkos/.conda/envs/data_env/lib/python3.8/site-packages/sklearn/model_selection/_validation.py\", line 598, in _fit_and_score\n",
      "    estimator.fit(X_train, y_train, **fit_params)\n",
      "  File \"/home/jupyter-pomkos/.conda/envs/data_env/lib/python3.8/site-packages/sklearn/pipeline.py\", line 346, in fit\n",
      "    self._final_estimator.fit(Xt, y, **fit_params_last_step)\n",
      "  File \"/home/jupyter-pomkos/.conda/envs/data_env/lib/python3.8/site-packages/sklearn/ensemble/_forest.py\", line 343, in fit\n",
      "    n_samples_bootstrap = _get_n_samples_bootstrap(\n",
      "  File \"/home/jupyter-pomkos/.conda/envs/data_env/lib/python3.8/site-packages/sklearn/ensemble/_forest.py\", line 110, in _get_n_samples_bootstrap\n",
      "    raise ValueError(msg.format(max_samples))\n",
      "ValueError: `max_samples` must be in range (0, 1) but got value 8489.0\n",
      "\n",
      "  warnings.warn(\"Estimator fit failed. The score on this train-test\"\n",
      "/home/jupyter-pomkos/.conda/envs/data_env/lib/python3.8/site-packages/sklearn/model_selection/_validation.py:615: FitFailedWarning: Estimator fit failed. The score on this train-test partition for these parameters will be set to nan. Details: \n",
      "Traceback (most recent call last):\n",
      "  File \"/home/jupyter-pomkos/.conda/envs/data_env/lib/python3.8/site-packages/sklearn/model_selection/_validation.py\", line 598, in _fit_and_score\n",
      "    estimator.fit(X_train, y_train, **fit_params)\n",
      "  File \"/home/jupyter-pomkos/.conda/envs/data_env/lib/python3.8/site-packages/sklearn/pipeline.py\", line 346, in fit\n",
      "    self._final_estimator.fit(Xt, y, **fit_params_last_step)\n",
      "  File \"/home/jupyter-pomkos/.conda/envs/data_env/lib/python3.8/site-packages/sklearn/ensemble/_forest.py\", line 343, in fit\n",
      "    n_samples_bootstrap = _get_n_samples_bootstrap(\n",
      "  File \"/home/jupyter-pomkos/.conda/envs/data_env/lib/python3.8/site-packages/sklearn/ensemble/_forest.py\", line 110, in _get_n_samples_bootstrap\n",
      "    raise ValueError(msg.format(max_samples))\n",
      "ValueError: `max_samples` must be in range (0, 1) but got value 8489.0\n",
      "\n",
      "  warnings.warn(\"Estimator fit failed. The score on this train-test\"\n",
      "/home/jupyter-pomkos/.conda/envs/data_env/lib/python3.8/site-packages/sklearn/model_selection/_validation.py:615: FitFailedWarning: Estimator fit failed. The score on this train-test partition for these parameters will be set to nan. Details: \n",
      "Traceback (most recent call last):\n",
      "  File \"/home/jupyter-pomkos/.conda/envs/data_env/lib/python3.8/site-packages/sklearn/model_selection/_validation.py\", line 598, in _fit_and_score\n",
      "    estimator.fit(X_train, y_train, **fit_params)\n",
      "  File \"/home/jupyter-pomkos/.conda/envs/data_env/lib/python3.8/site-packages/sklearn/pipeline.py\", line 346, in fit\n",
      "    self._final_estimator.fit(Xt, y, **fit_params_last_step)\n",
      "  File \"/home/jupyter-pomkos/.conda/envs/data_env/lib/python3.8/site-packages/sklearn/ensemble/_forest.py\", line 343, in fit\n",
      "    n_samples_bootstrap = _get_n_samples_bootstrap(\n",
      "  File \"/home/jupyter-pomkos/.conda/envs/data_env/lib/python3.8/site-packages/sklearn/ensemble/_forest.py\", line 110, in _get_n_samples_bootstrap\n",
      "    raise ValueError(msg.format(max_samples))\n",
      "ValueError: `max_samples` must be in range (0, 1) but got value 8489.0\n",
      "\n",
      "  warnings.warn(\"Estimator fit failed. The score on this train-test\"\n",
      "/home/jupyter-pomkos/.conda/envs/data_env/lib/python3.8/site-packages/sklearn/model_selection/_search.py:922: UserWarning: One or more of the test scores are non-finite: [0.96396798 0.96381706 0.96316636 0.25715022 0.96338783        nan\n",
      " 0.96339626 0.25715524 0.96403762 0.96402839 0.96379977 0.25746289\n",
      " 0.96422929        nan 0.96387925 0.2573934  0.94658084 0.94623591\n",
      " 0.94645753 0.25730291 0.95019742        nan 0.94657329 0.25740065\n",
      " 0.94763928 0.94719195 0.94720744 0.2573574  0.95080309        nan\n",
      " 0.94737546 0.25723981        nan        nan        nan        nan\n",
      "        nan        nan        nan        nan        nan        nan\n",
      "        nan        nan        nan        nan        nan        nan\n",
      "        nan        nan        nan        nan        nan        nan\n",
      "        nan        nan        nan        nan        nan        nan\n",
      "        nan        nan        nan        nan]\n",
      "  warnings.warn(\n"
     ]
    },
    {
     "name": "stdout",
     "output_type": "stream",
     "text": [
      "CPU times: user 36min 2s, sys: 3.32 s, total: 36min 6s\n",
      "Wall time: 36min 4s\n"
     ]
    }
   ],
   "source": [
    "%%time\n",
    "grid = GridSearchCV(pipe, parameters, cv=2).fit(X_train, y_train)"
   ]
  },
  {
   "cell_type": "markdown",
   "id": "7a9f1946-75f5-4bda-bb47-bd1cd4ba7ce4",
   "metadata": {
    "user_expressions": []
   },
   "source": [
    "CPU times: user 47min 7s, sys: 14.7 s, total: 47min 22s\n",
    "\n",
    "Wall time: 50min 2s"
   ]
  },
  {
   "cell_type": "markdown",
   "id": "6d3ef3f2-ded3-4f98-b77d-5939e9be3496",
   "metadata": {
    "user_expressions": []
   },
   "source": [
    "## Model Evaluation"
   ]
  },
  {
   "cell_type": "code",
   "execution_count": 28,
   "id": "976a304c-d4c1-4ed8-970f-9bbb52982cc1",
   "metadata": {},
   "outputs": [
    {
     "data": {
      "text/html": [
       "<div>\n",
       "<style scoped>\n",
       "    .dataframe tbody tr th:only-of-type {\n",
       "        vertical-align: middle;\n",
       "    }\n",
       "\n",
       "    .dataframe tbody tr th {\n",
       "        vertical-align: top;\n",
       "    }\n",
       "\n",
       "    .dataframe thead th {\n",
       "        text-align: right;\n",
       "    }\n",
       "</style>\n",
       "<table border=\"1\" class=\"dataframe\">\n",
       "  <thead>\n",
       "    <tr style=\"text-align: right;\">\n",
       "      <th></th>\n",
       "      <th>mean_fit_time</th>\n",
       "      <th>std_fit_time</th>\n",
       "      <th>mean_score_time</th>\n",
       "      <th>std_score_time</th>\n",
       "      <th>param_regressor__max_samples</th>\n",
       "      <th>param_regressor__min_samples_split</th>\n",
       "      <th>param_regressor__n_estimators</th>\n",
       "      <th>param_regressor__oob_score</th>\n",
       "      <th>param_scaler</th>\n",
       "      <th>param_selector__threshold</th>\n",
       "      <th>params</th>\n",
       "      <th>split0_test_score</th>\n",
       "      <th>split1_test_score</th>\n",
       "      <th>mean_test_score</th>\n",
       "      <th>std_test_score</th>\n",
       "      <th>rank_test_score</th>\n",
       "    </tr>\n",
       "  </thead>\n",
       "  <tbody>\n",
       "    <tr>\n",
       "      <th>0</th>\n",
       "      <td>15.804007</td>\n",
       "      <td>0.161640</td>\n",
       "      <td>0.667725</td>\n",
       "      <td>0.004689</td>\n",
       "      <td>29289</td>\n",
       "      <td>2</td>\n",
       "      <td>100</td>\n",
       "      <td>True</td>\n",
       "      <td>StandardScaler()</td>\n",
       "      <td>0</td>\n",
       "      <td>{'regressor__max_samples': 29289, 'regressor__...</td>\n",
       "      <td>0.967335</td>\n",
       "      <td>0.965214</td>\n",
       "      <td>0.966274</td>\n",
       "      <td>0.001061</td>\n",
       "      <td>8</td>\n",
       "    </tr>\n",
       "    <tr>\n",
       "      <th>1</th>\n",
       "      <td>15.803761</td>\n",
       "      <td>0.237395</td>\n",
       "      <td>0.667496</td>\n",
       "      <td>0.007006</td>\n",
       "      <td>29289</td>\n",
       "      <td>2</td>\n",
       "      <td>100</td>\n",
       "      <td>True</td>\n",
       "      <td>StandardScaler()</td>\n",
       "      <td>0.1</td>\n",
       "      <td>{'regressor__max_samples': 29289, 'regressor__...</td>\n",
       "      <td>0.967735</td>\n",
       "      <td>0.964459</td>\n",
       "      <td>0.966097</td>\n",
       "      <td>0.001638</td>\n",
       "      <td>9</td>\n",
       "    </tr>\n",
       "    <tr>\n",
       "      <th>2</th>\n",
       "      <td>15.774039</td>\n",
       "      <td>0.269291</td>\n",
       "      <td>0.657347</td>\n",
       "      <td>0.003142</td>\n",
       "      <td>29289</td>\n",
       "      <td>2</td>\n",
       "      <td>100</td>\n",
       "      <td>True</td>\n",
       "      <td>MinMaxScaler()</td>\n",
       "      <td>0</td>\n",
       "      <td>{'regressor__max_samples': 29289, 'regressor__...</td>\n",
       "      <td>0.967342</td>\n",
       "      <td>0.964692</td>\n",
       "      <td>0.966017</td>\n",
       "      <td>0.001325</td>\n",
       "      <td>10</td>\n",
       "    </tr>\n",
       "    <tr>\n",
       "      <th>3</th>\n",
       "      <td>0.935154</td>\n",
       "      <td>0.009286</td>\n",
       "      <td>0.185361</td>\n",
       "      <td>0.001126</td>\n",
       "      <td>29289</td>\n",
       "      <td>2</td>\n",
       "      <td>100</td>\n",
       "      <td>True</td>\n",
       "      <td>MinMaxScaler()</td>\n",
       "      <td>0.1</td>\n",
       "      <td>{'regressor__max_samples': 29289, 'regressor__...</td>\n",
       "      <td>0.160758</td>\n",
       "      <td>0.159603</td>\n",
       "      <td>0.160181</td>\n",
       "      <td>0.000577</td>\n",
       "      <td>22</td>\n",
       "    </tr>\n",
       "  </tbody>\n",
       "</table>\n",
       "</div>"
      ],
      "text/plain": [
       "   mean_fit_time  std_fit_time  mean_score_time  std_score_time  \\\n",
       "0      15.804007      0.161640         0.667725        0.004689   \n",
       "1      15.803761      0.237395         0.667496        0.007006   \n",
       "2      15.774039      0.269291         0.657347        0.003142   \n",
       "3       0.935154      0.009286         0.185361        0.001126   \n",
       "\n",
       "  param_regressor__max_samples param_regressor__min_samples_split  \\\n",
       "0                        29289                                  2   \n",
       "1                        29289                                  2   \n",
       "2                        29289                                  2   \n",
       "3                        29289                                  2   \n",
       "\n",
       "  param_regressor__n_estimators param_regressor__oob_score      param_scaler  \\\n",
       "0                           100                       True  StandardScaler()   \n",
       "1                           100                       True  StandardScaler()   \n",
       "2                           100                       True    MinMaxScaler()   \n",
       "3                           100                       True    MinMaxScaler()   \n",
       "\n",
       "  param_selector__threshold  \\\n",
       "0                         0   \n",
       "1                       0.1   \n",
       "2                         0   \n",
       "3                       0.1   \n",
       "\n",
       "                                              params  split0_test_score  \\\n",
       "0  {'regressor__max_samples': 29289, 'regressor__...           0.967335   \n",
       "1  {'regressor__max_samples': 29289, 'regressor__...           0.967735   \n",
       "2  {'regressor__max_samples': 29289, 'regressor__...           0.967342   \n",
       "3  {'regressor__max_samples': 29289, 'regressor__...           0.160758   \n",
       "\n",
       "   split1_test_score  mean_test_score  std_test_score  rank_test_score  \n",
       "0           0.965214         0.966274        0.001061                8  \n",
       "1           0.964459         0.966097        0.001638                9  \n",
       "2           0.964692         0.966017        0.001325               10  \n",
       "3           0.159603         0.160181        0.000577               22  "
      ]
     },
     "execution_count": 28,
     "metadata": {},
     "output_type": "execute_result"
    }
   ],
   "source": [
    "cv_results = pd.DataFrame().from_dict(grid.cv_results_)\n",
    "cv_results.head(4)"
   ]
  },
  {
   "cell_type": "code",
   "execution_count": 51,
   "id": "8a22030d-e3dc-4784-b157-ccbd305d175d",
   "metadata": {},
   "outputs": [
    {
     "data": {
      "text/plain": [
       "0.96760235376249"
      ]
     },
     "execution_count": 51,
     "metadata": {},
     "output_type": "execute_result"
    }
   ],
   "source": [
    "grid.best_score_"
   ]
  },
  {
   "cell_type": "code",
   "execution_count": 46,
   "id": "7378e9b7-8026-442c-9110-4c7158192564",
   "metadata": {},
   "outputs": [],
   "source": [
    "best_estim = grid.best_estimator_"
   ]
  },
  {
   "cell_type": "code",
   "execution_count": 47,
   "id": "674f2034-4fb3-4d56-81f4-ab164be09db4",
   "metadata": {},
   "outputs": [
    {
     "name": "stdout",
     "output_type": "stream",
     "text": [
      "Training set score: 0.99\n",
      "Testing set score: 0.98\n",
      "CPU times: user 2min 50s, sys: 130 ms, total: 2min 50s\n",
      "Wall time: 2min 50s\n"
     ]
    }
   ],
   "source": [
    "%%time\n",
    "best_estim.fit(X_train, y_train)\n",
    "train_score = best_estim.score(X_train, y_train)\n",
    "test_score = best_estim.score(X_test, y_test)\n",
    "\n",
    "print(f\"Training set score: {train_score:.2f}\")\n",
    "print(f\"Testing set score: {test_score:.2f}\")"
   ]
  },
  {
   "cell_type": "code",
   "execution_count": 43,
   "id": "9199f576-2e04-4884-8c8a-68f11e5aac63",
   "metadata": {},
   "outputs": [
    {
     "data": {
      "text/plain": [
       "Text(16.424999999999997, 0.5, 'Predicted IMDB score')"
      ]
     },
     "execution_count": 43,
     "metadata": {},
     "output_type": "execute_result"
    },
    {
     "data": {
      "image/png": "[encoded data removed]",
      "text/plain": [
       "<Figure size 360x360 with 1 Axes>"
      ]
     },
     "metadata": {
      "needs_background": "light"
     },
     "output_type": "display_data"
    }
   ],
   "source": [
    "y_predict = pipe.predict(X_test)\n",
    "\n",
    "sns.relplot(x=y_test, y=y_predict, kind='scatter')\n",
    "plt.title('Predicted vs Real IMDB Scores')\n",
    "plt.xlabel('Real IMDB score')\n",
    "plt.ylabel('Predicted IMDB score')"
   ]
  },
  {
   "cell_type": "code",
   "execution_count": 65,
   "id": "1993a06d-3e63-4cb2-a04e-e23525d8f520",
   "metadata": {},
   "outputs": [],
   "source": [
    "features = list(X.columns)\n",
    "selected_features = list()\n",
    "\n",
    "for feature_list_index in pipe['selector'].get_support(indices=True):\n",
    "    selected_features.append(features[feature_list_index])"
   ]
  },
  {
   "cell_type": "code",
   "execution_count": 84,
   "id": "188bf082-b44e-445a-b394-499c50499614",
   "metadata": {},
   "outputs": [
    {
     "data": {
      "text/plain": [
       "0.9829305145513038"
      ]
     },
     "execution_count": 84,
     "metadata": {},
     "output_type": "execute_result"
    }
   ],
   "source": [
    "rfr = pipe['regressor']\n",
    "rfr.oob_score_"
   ]
  },
  {
   "cell_type": "code",
   "execution_count": 69,
   "id": "49f910cc-e078-4f93-95ae-f0bab689b486",
   "metadata": {},
   "outputs": [],
   "source": [
    "features_df = pd.DataFrame()\n",
    "features_df['features'] = selected_features\n",
    "features_df['importance'] = pipe['regressor'].feature_importances_ # the higher the more important"
   ]
  },
  {
   "cell_type": "code",
   "execution_count": 82,
   "id": "7e687844-cb49-4a2f-96a3-f334be73a49f",
   "metadata": {},
   "outputs": [
    {
     "data": {
      "text/plain": [
       "features      release_yearsentiment_scoreseasonspotential_se...\n",
       "importance                                             0.901283\n",
       "dtype: object"
      ]
     },
     "execution_count": 82,
     "metadata": {},
     "output_type": "execute_result"
    }
   ],
   "source": [
    "features_df.sort_values('importance', ascending=False).iloc[0:25,:].sum()"
   ]
  },
  {
   "cell_type": "markdown",
   "id": "11f2e1cc-66f5-4021-afd8-dd98e9b71e4a",
   "metadata": {
    "user_expressions": []
   },
   "source": [
    "The first 25 features, sorted by importance, make up 90% importance in determining the predicted IMDB score"
   ]
  },
  {
   "cell_type": "code",
   "execution_count": 83,
   "id": "c2bdbee7-6742-4463-8687-f5cc5069f87a",
   "metadata": {},
   "outputs": [
    {
     "data": {
      "text/html": [
       "<div>\n",
       "<style scoped>\n",
       "    .dataframe tbody tr th:only-of-type {\n",
       "        vertical-align: middle;\n",
       "    }\n",
       "\n",
       "    .dataframe tbody tr th {\n",
       "        vertical-align: top;\n",
       "    }\n",
       "\n",
       "    .dataframe thead th {\n",
       "        text-align: right;\n",
       "    }\n",
       "</style>\n",
       "<table border=\"1\" class=\"dataframe\">\n",
       "  <thead>\n",
       "    <tr style=\"text-align: right;\">\n",
       "      <th></th>\n",
       "      <th>features</th>\n",
       "      <th>importance</th>\n",
       "    </tr>\n",
       "  </thead>\n",
       "  <tbody>\n",
       "    <tr>\n",
       "      <th>0</th>\n",
       "      <td>release_year</td>\n",
       "      <td>0.181509</td>\n",
       "    </tr>\n",
       "    <tr>\n",
       "      <th>127</th>\n",
       "      <td>sentiment_score</td>\n",
       "      <td>0.102587</td>\n",
       "    </tr>\n",
       "    <tr>\n",
       "      <th>2</th>\n",
       "      <td>seasons</td>\n",
       "      <td>0.099874</td>\n",
       "    </tr>\n",
       "    <tr>\n",
       "      <th>128</th>\n",
       "      <td>potential_seasons</td>\n",
       "      <td>0.066993</td>\n",
       "    </tr>\n",
       "    <tr>\n",
       "      <th>1</th>\n",
       "      <td>runtime</td>\n",
       "      <td>0.064938</td>\n",
       "    </tr>\n",
       "    <tr>\n",
       "      <th>7</th>\n",
       "      <td>documentation</td>\n",
       "      <td>0.045766</td>\n",
       "    </tr>\n",
       "    <tr>\n",
       "      <th>8</th>\n",
       "      <td>drama</td>\n",
       "      <td>0.044349</td>\n",
       "    </tr>\n",
       "    <tr>\n",
       "      <th>119</th>\n",
       "      <td>US</td>\n",
       "      <td>0.036061</td>\n",
       "    </tr>\n",
       "    <tr>\n",
       "      <th>5</th>\n",
       "      <td>comedy</td>\n",
       "      <td>0.031506</td>\n",
       "    </tr>\n",
       "    <tr>\n",
       "      <th>129</th>\n",
       "      <td>sentiment_score_t</td>\n",
       "      <td>0.023718</td>\n",
       "    </tr>\n",
       "    <tr>\n",
       "      <th>66</th>\n",
       "      <td>IN</td>\n",
       "      <td>0.022835</td>\n",
       "    </tr>\n",
       "    <tr>\n",
       "      <th>19</th>\n",
       "      <td>thriller</td>\n",
       "      <td>0.022384</td>\n",
       "    </tr>\n",
       "    <tr>\n",
       "      <th>3</th>\n",
       "      <td>action</td>\n",
       "      <td>0.021686</td>\n",
       "    </tr>\n",
       "    <tr>\n",
       "      <th>4</th>\n",
       "      <td>animation</td>\n",
       "      <td>0.017751</td>\n",
       "    </tr>\n",
       "    <tr>\n",
       "      <th>16</th>\n",
       "      <td>romance</td>\n",
       "      <td>0.016940</td>\n",
       "    </tr>\n",
       "    <tr>\n",
       "      <th>13</th>\n",
       "      <td>horror</td>\n",
       "      <td>0.015654</td>\n",
       "    </tr>\n",
       "    <tr>\n",
       "      <th>10</th>\n",
       "      <td>family</td>\n",
       "      <td>0.015248</td>\n",
       "    </tr>\n",
       "    <tr>\n",
       "      <th>6</th>\n",
       "      <td>crime</td>\n",
       "      <td>0.014009</td>\n",
       "    </tr>\n",
       "    <tr>\n",
       "      <th>17</th>\n",
       "      <td>scifi</td>\n",
       "      <td>0.010013</td>\n",
       "    </tr>\n",
       "    <tr>\n",
       "      <th>11</th>\n",
       "      <td>fantasy</td>\n",
       "      <td>0.008891</td>\n",
       "    </tr>\n",
       "    <tr>\n",
       "      <th>54</th>\n",
       "      <td>GB</td>\n",
       "      <td>0.008415</td>\n",
       "    </tr>\n",
       "    <tr>\n",
       "      <th>9</th>\n",
       "      <td>european</td>\n",
       "      <td>0.008173</td>\n",
       "    </tr>\n",
       "    <tr>\n",
       "      <th>18</th>\n",
       "      <td>sport</td>\n",
       "      <td>0.007751</td>\n",
       "    </tr>\n",
       "    <tr>\n",
       "      <th>33</th>\n",
       "      <td>BR</td>\n",
       "      <td>0.007638</td>\n",
       "    </tr>\n",
       "    <tr>\n",
       "      <th>12</th>\n",
       "      <td>history</td>\n",
       "      <td>0.006594</td>\n",
       "    </tr>\n",
       "  </tbody>\n",
       "</table>\n",
       "</div>"
      ],
      "text/plain": [
       "              features  importance\n",
       "0         release_year    0.181509\n",
       "127    sentiment_score    0.102587\n",
       "2              seasons    0.099874\n",
       "128  potential_seasons    0.066993\n",
       "1              runtime    0.064938\n",
       "7        documentation    0.045766\n",
       "8                drama    0.044349\n",
       "119                 US    0.036061\n",
       "5               comedy    0.031506\n",
       "129  sentiment_score_t    0.023718\n",
       "66                  IN    0.022835\n",
       "19            thriller    0.022384\n",
       "3               action    0.021686\n",
       "4            animation    0.017751\n",
       "16             romance    0.016940\n",
       "13              horror    0.015654\n",
       "10              family    0.015248\n",
       "6                crime    0.014009\n",
       "17               scifi    0.010013\n",
       "11             fantasy    0.008891\n",
       "54                  GB    0.008415\n",
       "9             european    0.008173\n",
       "18               sport    0.007751\n",
       "33                  BR    0.007638\n",
       "12             history    0.006594"
      ]
     },
     "execution_count": 83,
     "metadata": {},
     "output_type": "execute_result"
    }
   ],
   "source": [
    "features_df.sort_values('importance', ascending=False).iloc[0:25,:]"
   ]
  },
  {
   "cell_type": "markdown",
   "id": "20304ee4-121d-4842-9d90-c90b3ed278f1",
   "metadata": {
    "user_expressions": []
   },
   "source": [
    "# Export Model"
   ]
  },
  {
   "cell_type": "code",
   "execution_count": 50,
   "id": "fec3ba5c-a84f-41c9-96d7-a3d2e155a6a9",
   "metadata": {},
   "outputs": [
    {
     "data": {
      "text/plain": [
       "['netflix_rfr_model.joblib']"
      ]
     },
     "execution_count": 50,
     "metadata": {},
     "output_type": "execute_result"
    }
   ],
   "source": [
    "from joblib import dump, load\n",
    "dump(best_estim, 'netflix_rfr_model.joblib') "
   ]
  },
  {
   "cell_type": "markdown",
   "id": "4a8e4d4c-bcb2-42d2-a3c4-0ecd71425656",
   "metadata": {
    "user_expressions": []
   },
   "source": [
    "# Load Model"
   ]
  },
  {
   "cell_type": "code",
   "execution_count": 38,
   "id": "984406c1-d526-4cb7-b15b-0353e767c596",
   "metadata": {},
   "outputs": [],
   "source": [
    "from joblib import dump, load\n",
    "pipe = load('netflix_rfr_model.joblib')"
   ]
  }
 ],
 "metadata": {
  "kernelspec": {
   "display_name": "Data Env",
   "language": "python",
   "name": "data_env"
  },
  "language_info": {
   "codemirror_mode": {
    "name": "ipython",
    "version": 3
   },
   "file_extension": ".py",
   "mimetype": "text/x-python",
   "name": "python",
   "nbconvert_exporter": "python",
   "pygments_lexer": "ipython3",
   "version": "3.8.8"
  },
  "widgets": {
   "application/vnd.jupyter.widget-state+json": {
    "state": {
     "02a2fd59b7fc49c592827ab83a2c5b20": {
      "model_module": "@jupyter-widgets/controls",
      "model_module_version": "1.5.0",
      "model_name": "HBoxModel",
      "state": {
       "children": [
        "IPY_MODEL_20430e97cc6144148b60170b7e5cbf04",
        "IPY_MODEL_8019544373f847f1abab1a6631e90ac2",
        "IPY_MODEL_76dc1e702d0546888f603ff3e8f0fd54"
       ],
       "layout": "IPY_MODEL_f042df6c46d94d4fae4693775f9bb06f"
      }
     },
     "02e2a7f6b5534808abc26952bb1a5ca2": {
      "model_module": "@jupyter-widgets/base",
      "model_module_version": "1.2.0",
      "model_name": "LayoutModel",
      "state": {}
     },
     "034aa48436fa44ce9875c8996ceef9ea": {
      "model_module": "@jupyter-widgets/base",
      "model_module_version": "1.2.0",
      "model_name": "LayoutModel",
      "state": {}
     },
     "06396c34fdfa43cabee24c4c8215cc05": {
      "model_module": "@jupyter-widgets/base",
      "model_module_version": "1.2.0",
      "model_name": "LayoutModel",
      "state": {}
     },
     "0a0cf332fa974ef68b6675a659ab6619": {
      "model_module": "@jupyter-widgets/controls",
      "model_module_version": "1.5.0",
      "model_name": "DescriptionStyleModel",
      "state": {
       "description_width": ""
      }
     },
     "1a17572421034fdbad2f32bb89e97460": {
      "model_module": "@jupyter-widgets/base",
      "model_module_version": "1.2.0",
      "model_name": "LayoutModel",
      "state": {}
     },
     "20430e97cc6144148b60170b7e5cbf04": {
      "model_module": "@jupyter-widgets/controls",
      "model_module_version": "1.5.0",
      "model_name": "HTMLModel",
      "state": {
       "layout": "IPY_MODEL_c73ed127f83b41dbab8123e1d0b03f8e",
       "style": "IPY_MODEL_fdb0ca0d519a40a5a2831848e75fcf84",
       "value": "  1%"
      }
     },
     "2679525596614e739c4ba695747b586e": {
      "model_module": "@jupyter-widgets/base",
      "model_module_version": "1.2.0",
      "model_name": "LayoutModel",
      "state": {}
     },
     "2817b20bc28f4e84af9637d1df300941": {
      "model_module": "@jupyter-widgets/controls",
      "model_module_version": "1.5.0",
      "model_name": "DescriptionStyleModel",
      "state": {
       "description_width": ""
      }
     },
     "2987c5c35a89463ebd8382f2cdb90661": {
      "model_module": "@jupyter-widgets/controls",
      "model_module_version": "1.5.0",
      "model_name": "DescriptionStyleModel",
      "state": {
       "description_width": ""
      }
     },
     "2a73aaf24e7f47e1aa03c41da7e501d9": {
      "model_module": "@jupyter-widgets/controls",
      "model_module_version": "1.5.0",
      "model_name": "HBoxModel",
      "state": {
       "children": [
        "IPY_MODEL_aff921b7836344b192925a2c9d1cc805",
        "IPY_MODEL_746a7619f3f84053b12c8dbce84d4820",
        "IPY_MODEL_7bd0418a6ee6472587aa993005ea503a"
       ],
       "layout": "IPY_MODEL_2679525596614e739c4ba695747b586e"
      }
     },
     "2b5d2a636f0f489d93a407698343e4cd": {
      "model_module": "@jupyter-widgets/base",
      "model_module_version": "1.2.0",
      "model_name": "LayoutModel",
      "state": {}
     },
     "37751f2c6fc24dc694e2a9a9c825fb73": {
      "model_module": "@jupyter-widgets/controls",
      "model_module_version": "1.5.0",
      "model_name": "DescriptionStyleModel",
      "state": {
       "description_width": ""
      }
     },
     "4be9ec0a26d14e318dc434621d529378": {
      "model_module": "@jupyter-widgets/controls",
      "model_module_version": "1.5.0",
      "model_name": "ProgressStyleModel",
      "state": {
       "description_width": ""
      }
     },
     "4de9ed73e694444197fc3d5838212eab": {
      "model_module": "@jupyter-widgets/controls",
      "model_module_version": "1.5.0",
      "model_name": "DescriptionStyleModel",
      "state": {
       "description_width": ""
      }
     },
     "5abc506ee5fa42ffacb8c9eba3deba04": {
      "model_module": "@jupyter-widgets/controls",
      "model_module_version": "1.5.0",
      "model_name": "HBoxModel",
      "state": {
       "children": [
        "IPY_MODEL_874883b5170b4e3a975ce28a6f791d57",
        "IPY_MODEL_6e30b16c675041dfbaa96d4c91e0a973",
        "IPY_MODEL_9b70f010b8c84eceb4dc5110d56c4423"
       ],
       "layout": "IPY_MODEL_ed3c9a483b6b4531a63fc482bb36890e"
      }
     },
     "5d5df090d60e4f43a765130e2dfd3a4a": {
      "model_module": "@jupyter-widgets/controls",
      "model_module_version": "1.5.0",
      "model_name": "DescriptionStyleModel",
      "state": {
       "description_width": ""
      }
     },
     "5ff101a2f96f4478a0782610b0503700": {
      "model_module": "@jupyter-widgets/controls",
      "model_module_version": "1.5.0",
      "model_name": "HBoxModel",
      "state": {
       "children": [
        "IPY_MODEL_8811b93d295949a8bf2b5fbfdcbb0cfd",
        "IPY_MODEL_710943bab56a4ae6be88c0dfd3a90d50",
        "IPY_MODEL_afd85aee5e1f4e37a05092f302fcbc82"
       ],
       "layout": "IPY_MODEL_e299199dfc184c1e87bacd79929f99a0"
      }
     },
     "6c87ce43903e483ebe7362acc86dfb1b": {
      "model_module": "@jupyter-widgets/base",
      "model_module_version": "1.2.0",
      "model_name": "LayoutModel",
      "state": {}
     },
     "6e30b16c675041dfbaa96d4c91e0a973": {
      "model_module": "@jupyter-widgets/controls",
      "model_module_version": "1.5.0",
      "model_name": "FloatProgressModel",
      "state": {
       "bar_style": "success",
       "layout": "IPY_MODEL_e5c23853c31c401a835591773cb2e632",
       "max": 77585,
       "style": "IPY_MODEL_4be9ec0a26d14e318dc434621d529378",
       "value": 77585
      }
     },
     "710943bab56a4ae6be88c0dfd3a90d50": {
      "model_module": "@jupyter-widgets/controls",
      "model_module_version": "1.5.0",
      "model_name": "FloatProgressModel",
      "state": {
       "bar_style": "success",
       "layout": "IPY_MODEL_c6550a802770457294619293c597716f",
       "max": 77585,
       "style": "IPY_MODEL_87f7b9288066451e833f37795c3acbea",
       "value": 77585
      }
     },
     "73bf4150f7cc4316b0499a485778b75f": {
      "model_module": "@jupyter-widgets/controls",
      "model_module_version": "1.5.0",
      "model_name": "ProgressStyleModel",
      "state": {
       "description_width": ""
      }
     },
     "746a7619f3f84053b12c8dbce84d4820": {
      "model_module": "@jupyter-widgets/controls",
      "model_module_version": "1.5.0",
      "model_name": "FloatProgressModel",
      "state": {
       "bar_style": "success",
       "layout": "IPY_MODEL_6c87ce43903e483ebe7362acc86dfb1b",
       "max": 77585,
       "style": "IPY_MODEL_8687315127314e6790e405643b53649a",
       "value": 77585
      }
     },
     "76dc1e702d0546888f603ff3e8f0fd54": {
      "model_module": "@jupyter-widgets/controls",
      "model_module_version": "1.5.0",
      "model_name": "HTMLModel",
      "state": {
       "layout": "IPY_MODEL_06396c34fdfa43cabee24c4c8215cc05",
       "style": "IPY_MODEL_2817b20bc28f4e84af9637d1df300941",
       "value": " 851/77585 [00:05&lt;09:09, 139.54it/s]"
      }
     },
     "77a1c99c9e4547868e17352f203294ac": {
      "model_module": "@jupyter-widgets/base",
      "model_module_version": "1.2.0",
      "model_name": "LayoutModel",
      "state": {}
     },
     "7bd0418a6ee6472587aa993005ea503a": {
      "model_module": "@jupyter-widgets/controls",
      "model_module_version": "1.5.0",
      "model_name": "HTMLModel",
      "state": {
       "layout": "IPY_MODEL_bb5a0aa200444d878ee3d1d65d987652",
       "style": "IPY_MODEL_2987c5c35a89463ebd8382f2cdb90661",
       "value": " 77585/77585 [08:55&lt;00:00, 148.90it/s]"
      }
     },
     "7bf2c5f0390749a7875e23703451b985": {
      "model_module": "@jupyter-widgets/controls",
      "model_module_version": "1.5.0",
      "model_name": "HTMLModel",
      "state": {
       "layout": "IPY_MODEL_2b5d2a636f0f489d93a407698343e4cd",
       "style": "IPY_MODEL_aa3c51d4db454cf48569778707c41df8",
       "value": "  1%"
      }
     },
     "8019544373f847f1abab1a6631e90ac2": {
      "model_module": "@jupyter-widgets/controls",
      "model_module_version": "1.5.0",
      "model_name": "FloatProgressModel",
      "state": {
       "bar_style": "danger",
       "layout": "IPY_MODEL_cbc9f03f2fe64db79cc5d56fabb954d1",
       "max": 77585,
       "style": "IPY_MODEL_a9df5e5c521d4ecdb6dd8d08a2703e7e",
       "value": 851
      }
     },
     "863eae13d31c4e05a165f6e95cff7a4c": {
      "model_module": "@jupyter-widgets/controls",
      "model_module_version": "1.5.0",
      "model_name": "HTMLModel",
      "state": {
       "layout": "IPY_MODEL_02e2a7f6b5534808abc26952bb1a5ca2",
       "style": "IPY_MODEL_4de9ed73e694444197fc3d5838212eab",
       "value": " 466/77585 [00:07&lt;18:49, 68.26it/s]"
      }
     },
     "8687315127314e6790e405643b53649a": {
      "model_module": "@jupyter-widgets/controls",
      "model_module_version": "1.5.0",
      "model_name": "ProgressStyleModel",
      "state": {
       "description_width": ""
      }
     },
     "874883b5170b4e3a975ce28a6f791d57": {
      "model_module": "@jupyter-widgets/controls",
      "model_module_version": "1.5.0",
      "model_name": "HTMLModel",
      "state": {
       "layout": "IPY_MODEL_77a1c99c9e4547868e17352f203294ac",
       "style": "IPY_MODEL_5d5df090d60e4f43a765130e2dfd3a4a",
       "value": "100%"
      }
     },
     "87f7b9288066451e833f37795c3acbea": {
      "model_module": "@jupyter-widgets/controls",
      "model_module_version": "1.5.0",
      "model_name": "ProgressStyleModel",
      "state": {
       "description_width": ""
      }
     },
     "8811b93d295949a8bf2b5fbfdcbb0cfd": {
      "model_module": "@jupyter-widgets/controls",
      "model_module_version": "1.5.0",
      "model_name": "HTMLModel",
      "state": {
       "layout": "IPY_MODEL_da835d0349874a84beae0921ffa1ca62",
       "style": "IPY_MODEL_37751f2c6fc24dc694e2a9a9c825fb73",
       "value": "100%"
      }
     },
     "968e4892695f4d699f4f254c77ec233e": {
      "model_module": "@jupyter-widgets/controls",
      "model_module_version": "1.5.0",
      "model_name": "HBoxModel",
      "state": {
       "children": [
        "IPY_MODEL_7bf2c5f0390749a7875e23703451b985",
        "IPY_MODEL_dd49a9a1aee243ea9f1676622b378c48",
        "IPY_MODEL_863eae13d31c4e05a165f6e95cff7a4c"
       ],
       "layout": "IPY_MODEL_fb9096fbfbb243e6af05c2b601f3b8b9"
      }
     },
     "9b70f010b8c84eceb4dc5110d56c4423": {
      "model_module": "@jupyter-widgets/controls",
      "model_module_version": "1.5.0",
      "model_name": "HTMLModel",
      "state": {
       "layout": "IPY_MODEL_ed16b9468c97422ca9a059d2b2913934",
       "style": "IPY_MODEL_0a0cf332fa974ef68b6675a659ab6619",
       "value": " 77585/77585 [00:00&lt;00:00, 293008.88it/s]"
      }
     },
     "a3a57aa9f7eb4d8aa7780867370aee6e": {
      "model_module": "@jupyter-widgets/base",
      "model_module_version": "1.2.0",
      "model_name": "LayoutModel",
      "state": {}
     },
     "a9df5e5c521d4ecdb6dd8d08a2703e7e": {
      "model_module": "@jupyter-widgets/controls",
      "model_module_version": "1.5.0",
      "model_name": "ProgressStyleModel",
      "state": {
       "description_width": ""
      }
     },
     "aa3c51d4db454cf48569778707c41df8": {
      "model_module": "@jupyter-widgets/controls",
      "model_module_version": "1.5.0",
      "model_name": "DescriptionStyleModel",
      "state": {
       "description_width": ""
      }
     },
     "afd85aee5e1f4e37a05092f302fcbc82": {
      "model_module": "@jupyter-widgets/controls",
      "model_module_version": "1.5.0",
      "model_name": "HTMLModel",
      "state": {
       "layout": "IPY_MODEL_1a17572421034fdbad2f32bb89e97460",
       "style": "IPY_MODEL_dd623fa5befa4ff0a27ad7a1b49f1c27",
       "value": " 77585/77585 [15:16&lt;00:00, 91.95it/s]"
      }
     },
     "aff921b7836344b192925a2c9d1cc805": {
      "model_module": "@jupyter-widgets/controls",
      "model_module_version": "1.5.0",
      "model_name": "HTMLModel",
      "state": {
       "layout": "IPY_MODEL_a3a57aa9f7eb4d8aa7780867370aee6e",
       "style": "IPY_MODEL_d3b8ed08714243db8a968fe03e877ddc",
       "value": "100%"
      }
     },
     "bb5a0aa200444d878ee3d1d65d987652": {
      "model_module": "@jupyter-widgets/base",
      "model_module_version": "1.2.0",
      "model_name": "LayoutModel",
      "state": {}
     },
     "c6550a802770457294619293c597716f": {
      "model_module": "@jupyter-widgets/base",
      "model_module_version": "1.2.0",
      "model_name": "LayoutModel",
      "state": {}
     },
     "c73ed127f83b41dbab8123e1d0b03f8e": {
      "model_module": "@jupyter-widgets/base",
      "model_module_version": "1.2.0",
      "model_name": "LayoutModel",
      "state": {}
     },
     "cbc9f03f2fe64db79cc5d56fabb954d1": {
      "model_module": "@jupyter-widgets/base",
      "model_module_version": "1.2.0",
      "model_name": "LayoutModel",
      "state": {}
     },
     "d3b8ed08714243db8a968fe03e877ddc": {
      "model_module": "@jupyter-widgets/controls",
      "model_module_version": "1.5.0",
      "model_name": "DescriptionStyleModel",
      "state": {
       "description_width": ""
      }
     },
     "da835d0349874a84beae0921ffa1ca62": {
      "model_module": "@jupyter-widgets/base",
      "model_module_version": "1.2.0",
      "model_name": "LayoutModel",
      "state": {}
     },
     "dd49a9a1aee243ea9f1676622b378c48": {
      "model_module": "@jupyter-widgets/controls",
      "model_module_version": "1.5.0",
      "model_name": "FloatProgressModel",
      "state": {
       "bar_style": "danger",
       "layout": "IPY_MODEL_034aa48436fa44ce9875c8996ceef9ea",
       "max": 77585,
       "style": "IPY_MODEL_73bf4150f7cc4316b0499a485778b75f",
       "value": 466
      }
     },
     "dd623fa5befa4ff0a27ad7a1b49f1c27": {
      "model_module": "@jupyter-widgets/controls",
      "model_module_version": "1.5.0",
      "model_name": "DescriptionStyleModel",
      "state": {
       "description_width": ""
      }
     },
     "e299199dfc184c1e87bacd79929f99a0": {
      "model_module": "@jupyter-widgets/base",
      "model_module_version": "1.2.0",
      "model_name": "LayoutModel",
      "state": {}
     },
     "e5c23853c31c401a835591773cb2e632": {
      "model_module": "@jupyter-widgets/base",
      "model_module_version": "1.2.0",
      "model_name": "LayoutModel",
      "state": {}
     },
     "ed16b9468c97422ca9a059d2b2913934": {
      "model_module": "@jupyter-widgets/base",
      "model_module_version": "1.2.0",
      "model_name": "LayoutModel",
      "state": {}
     },
     "ed3c9a483b6b4531a63fc482bb36890e": {
      "model_module": "@jupyter-widgets/base",
      "model_module_version": "1.2.0",
      "model_name": "LayoutModel",
      "state": {}
     },
     "f042df6c46d94d4fae4693775f9bb06f": {
      "model_module": "@jupyter-widgets/base",
      "model_module_version": "1.2.0",
      "model_name": "LayoutModel",
      "state": {}
     },
     "fb9096fbfbb243e6af05c2b601f3b8b9": {
      "model_module": "@jupyter-widgets/base",
      "model_module_version": "1.2.0",
      "model_name": "LayoutModel",
      "state": {}
     },
     "fdb0ca0d519a40a5a2831848e75fcf84": {
      "model_module": "@jupyter-widgets/controls",
      "model_module_version": "1.5.0",
      "model_name": "DescriptionStyleModel",
      "state": {
       "description_width": ""
      }
     }
    },
    "version_major": 2,
    "version_minor": 0
   }
  }
 },
 "nbformat": 4,
 "nbformat_minor": 5
}
